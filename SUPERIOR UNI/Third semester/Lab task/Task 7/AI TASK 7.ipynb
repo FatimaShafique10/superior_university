{
 "cells": [
  {
   "cell_type": "markdown",
   "id": "bfd2ec45-009d-4283-ad28-bae67ff11364",
   "metadata": {},
   "source": [
    "# A* Algorithm"
   ]
  },
  {
   "cell_type": "code",
   "execution_count": 1,
   "id": "feb3f60b-b3ac-422b-a0bc-c41ba7bf350c",
   "metadata": {},
   "outputs": [
    {
     "name": "stdout",
     "output_type": "stream",
     "text": [
      "Path found: [(0, 0), (1, 0), (2, 0), (3, 0), (4, 0), (4, 1), (4, 2), (4, 3), (4, 4)]\n"
     ]
    }
   ],
   "source": [
    "class GridNode:\n",
    "    def __init__(self, x, y, cost=0, heuristic_value=0, parent_node=None):\n",
    "        self.x = x\n",
    "        self.y = y\n",
    "        self.cost = cost\n",
    "        self.heuristic_value = heuristic_value\n",
    "        self.total_cost = cost + heuristic_value\n",
    "        self.parent_node = parent_node\n",
    "\n",
    "    def __eq__(self, other):\n",
    "        return (self.x, self.y) == (other.x, other.y)\n",
    "\n",
    "def estimate_distance(current_node, target_node):\n",
    "    return abs(current_node.x - target_node.x) + abs(current_node.y - target_node.y)\n",
    "\n",
    "def find_adjacent_nodes(node, maze):\n",
    "    directions = [(-1, 0), (1, 0), (0, -1), (0, 1)]\n",
    "    adjacent_nodes = []\n",
    "\n",
    "    for dx, dy in directions:\n",
    "        new_x, new_y = node.x + dx, node.y + dy\n",
    "        if 0 <= new_x < len(maze) and 0 <= new_y < len(maze[0]) and maze[new_x][new_y] != 1:\n",
    "            adjacent_nodes.append(GridNode(new_x, new_y))\n",
    "\n",
    "    return adjacent_nodes\n",
    "\n",
    "def reconstruct_path(path_end_node):\n",
    "    path = []\n",
    "    current_node = path_end_node\n",
    "    while current_node:\n",
    "        path.append((current_node.x, current_node.y))\n",
    "        current_node = current_node.parent_node\n",
    "    return path[::-1]\n",
    "\n",
    "def a_star_algorithm(start_node, end_node, maze):\n",
    "    open_list = [start_node]\n",
    "    closed_list = []\n",
    "\n",
    "    while open_list:\n",
    "        current_node = open_list[0]\n",
    "        for node in open_list[1:]:\n",
    "            if node.total_cost < current_node.total_cost:\n",
    "                current_node = node\n",
    "        \n",
    "        open_list.remove(current_node)\n",
    "\n",
    "        if current_node == end_node:\n",
    "            return reconstruct_path(current_node)\n",
    "\n",
    "        closed_list.append(current_node)\n",
    "\n",
    "        for neighbor in find_adjacent_nodes(current_node, maze):\n",
    "            if neighbor in closed_list:\n",
    "                continue\n",
    "\n",
    "            new_cost = current_node.cost + 1\n",
    "\n",
    "            in_open_list = False\n",
    "            for open_node in open_list:\n",
    "                if open_node == neighbor:\n",
    "                    in_open_list = True\n",
    "                    break\n",
    "\n",
    "            if not in_open_list or new_cost < neighbor.cost:\n",
    "                neighbor.cost = new_cost\n",
    "                neighbor.heuristic_value = estimate_distance(neighbor, end_node)\n",
    "                neighbor.total_cost = neighbor.cost + neighbor.heuristic_value\n",
    "                neighbor.parent_node = current_node\n",
    "\n",
    "                if not in_open_list:\n",
    "                    open_list.append(neighbor)\n",
    "\n",
    "    return None\n",
    "\n",
    "maze = [\n",
    "    [0, 0, 0, 0, 0],\n",
    "    [0, 1, 1, 0, 0],\n",
    "    [0, 1, 0, 0, 0],\n",
    "    [0, 0, 0, 1, 1],\n",
    "    [0, 0, 0, 0, 0]\n",
    "]\n",
    "\n",
    "start = GridNode(0, 0)\n",
    "goal = GridNode(4, 4)\n",
    "\n",
    "path = a_star_algorithm(start, goal, maze)\n",
    "\n",
    "if path:\n",
    "    print(\"Path found:\", path)\n",
    "else:\n",
    "    print(\"No path found\")"
   ]
  },
  {
   "cell_type": "code",
   "execution_count": null,
   "id": "feb105c0-2655-4a4a-9cec-769306295578",
   "metadata": {},
   "outputs": [],
   "source": []
  }
 ],
 "metadata": {
  "kernelspec": {
   "display_name": "Python [conda env:base] *",
   "language": "python",
   "name": "conda-base-py"
  },
  "language_info": {
   "codemirror_mode": {
    "name": "ipython",
    "version": 3
   },
   "file_extension": ".py",
   "mimetype": "text/x-python",
   "name": "python",
   "nbconvert_exporter": "python",
   "pygments_lexer": "ipython3",
   "version": "3.12.7"
  }
 },
 "nbformat": 4,
 "nbformat_minor": 5
}
