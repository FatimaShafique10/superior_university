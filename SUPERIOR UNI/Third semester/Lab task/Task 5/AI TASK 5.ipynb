{
 "cells": [
  {
   "cell_type": "markdown",
   "id": "2e16314b-8904-4a63-9c47-57834442873d",
   "metadata": {},
   "source": [
    "# DFS"
   ]
  },
  {
   "cell_type": "code",
   "execution_count": 1,
   "id": "c0f0ddb6-ae80-40b1-94c4-7276d5c980aa",
   "metadata": {},
   "outputs": [
    {
     "name": "stdout",
     "output_type": "stream",
     "text": [
      "['A', 'C', 'F', 'E', 'B', 'D']\n"
     ]
    }
   ],
   "source": [
    "def depth_first_search(graph, start_node):\n",
    "    explored = set()\n",
    "    stack = [start_node]\n",
    "    result = []\n",
    "\n",
    "    while stack:\n",
    "        current_node = stack.pop()\n",
    "\n",
    "        if current_node not in explored:\n",
    "            explored.add(current_node)\n",
    "            result.append(current_node)\n",
    "\n",
    "            for adjacent in graph[current_node]:\n",
    "                if adjacent not in explored:\n",
    "                    stack.append(adjacent)\n",
    "\n",
    "    print(result)\n",
    "\n",
    "graph = {\n",
    "    'A': ['B', 'C'],\n",
    "    'B': ['A', 'D', 'E'],\n",
    "    'C': ['A', 'F'],\n",
    "    'D': ['B'],\n",
    "    'E': ['B', 'F'],\n",
    "    'F': ['C', 'E']\n",
    "}\n",
    "\n",
    "depth_first_search(graph, 'A')"
   ]
  },
  {
   "cell_type": "markdown",
   "id": "313ae7d5-8faa-4a33-a9e5-26d2957e5203",
   "metadata": {},
   "source": [
    "# Traversel"
   ]
  },
  {
   "cell_type": "code",
   "execution_count": 2,
   "id": "c600a201-4018-4d0a-b2ec-8a317f23bbe4",
   "metadata": {},
   "outputs": [
    {
     "name": "stdout",
     "output_type": "stream",
     "text": [
      "Preorder Traversal: [1, 2, 4, 5, 3]\n",
      "Inorder Traversal: [4, 2, 5, 1, 3]\n",
      "Postorder Traversal: [4, 5, 2, 3, 1]\n"
     ]
    }
   ],
   "source": [
    "class Node:\n",
    "    def __init__(self, value):\n",
    "        self.value = value \n",
    "        self.left = None   \n",
    "        self.right = None \n",
    "\n",
    "def preorder(root):\n",
    "    stack = []\n",
    "    result = []\n",
    "    if root:\n",
    "        stack.append(root)\n",
    "    while stack:\n",
    "        node = stack.pop()\n",
    "        result.append(node.value)\n",
    "        if node.right:\n",
    "            stack.append(node.right)\n",
    "        if node.left:\n",
    "            stack.append(node.left)\n",
    "    return result\n",
    "\n",
    "def inorder(root):\n",
    "    stack = []\n",
    "    current = root\n",
    "    result = []\n",
    "    while stack or current:\n",
    "        while current:\n",
    "            stack.append(current)\n",
    "            current = current.left\n",
    "        current = stack.pop()\n",
    "        result.append(current.value)\n",
    "        current = current.right\n",
    "    return result\n",
    "\n",
    "def postorder(root):\n",
    "    stack1 = []\n",
    "    stack2 = []\n",
    "    result = []\n",
    "    if root:\n",
    "        stack1.append(root)\n",
    "    while stack1:\n",
    "        node = stack1.pop()\n",
    "        stack2.append(node)\n",
    "        if node.left:\n",
    "            stack1.append(node.left)\n",
    "        if node.right:\n",
    "            stack1.append(node.right)\n",
    "    while stack2:\n",
    "        node = stack2.pop()\n",
    "        result.append(node.value)\n",
    "    return result\n",
    "\n",
    "root = Node(1)\n",
    "root.left = Node(2)\n",
    "root.right = Node(3)\n",
    "root.left.left = Node(4)\n",
    "root.left.right = Node(5)\n",
    "\n",
    "print(\"Preorder Traversal:\", preorder(root))\n",
    "print(\"Inorder Traversal:\", inorder(root))\n",
    "print(\"Postorder Traversal:\", postorder(root))\n"
   ]
  },
  {
   "cell_type": "code",
   "execution_count": null,
   "id": "b063ca61-a0bd-4ffe-b451-1fa3995f24a5",
   "metadata": {},
   "outputs": [],
   "source": []
  }
 ],
 "metadata": {
  "kernelspec": {
   "display_name": "Python [conda env:base] *",
   "language": "python",
   "name": "conda-base-py"
  },
  "language_info": {
   "codemirror_mode": {
    "name": "ipython",
    "version": 3
   },
   "file_extension": ".py",
   "mimetype": "text/x-python",
   "name": "python",
   "nbconvert_exporter": "python",
   "pygments_lexer": "ipython3",
   "version": "3.12.7"
  }
 },
 "nbformat": 4,
 "nbformat_minor": 5
}
