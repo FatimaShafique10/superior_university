{
 "cells": [
  {
   "cell_type": "markdown",
   "id": "d0352b55-b9c0-4002-bb4a-cd9d455df5d1",
   "metadata": {},
   "source": [
    "# Tic Tac Toe"
   ]
  },
  {
   "cell_type": "code",
   "execution_count": 1,
   "id": "490172a2-9b20-4010-8f1e-ae1bf3abc8c9",
   "metadata": {},
   "outputs": [
    {
     "name": "stdout",
     "output_type": "stream",
     "text": [
      "  |   |  \n",
      "-----\n",
      "  |   |  \n",
      "-----\n",
      "  |   |  \n",
      "-----\n"
     ]
    },
    {
     "name": "stdin",
     "output_type": "stream",
     "text": [
      "Player X, enter row and column (0-2):  2 2\n"
     ]
    },
    {
     "name": "stdout",
     "output_type": "stream",
     "text": [
      "  |   |  \n",
      "-----\n",
      "  |   |  \n",
      "-----\n",
      "  |   | X\n",
      "-----\n"
     ]
    },
    {
     "name": "stdin",
     "output_type": "stream",
     "text": [
      "Player O, enter row and column (0-2):  1 2\n"
     ]
    },
    {
     "name": "stdout",
     "output_type": "stream",
     "text": [
      "  |   |  \n",
      "-----\n",
      "  |   | O\n",
      "-----\n",
      "  |   | X\n",
      "-----\n"
     ]
    },
    {
     "name": "stdin",
     "output_type": "stream",
     "text": [
      "Player X, enter row and column (0-2):  1 1\n"
     ]
    },
    {
     "name": "stdout",
     "output_type": "stream",
     "text": [
      "  |   |  \n",
      "-----\n",
      "  | X | O\n",
      "-----\n",
      "  |   | X\n",
      "-----\n"
     ]
    },
    {
     "name": "stdin",
     "output_type": "stream",
     "text": [
      "Player O, enter row and column (0-2):  2 1\n"
     ]
    },
    {
     "name": "stdout",
     "output_type": "stream",
     "text": [
      "  |   |  \n",
      "-----\n",
      "  | X | O\n",
      "-----\n",
      "  | O | X\n",
      "-----\n"
     ]
    },
    {
     "name": "stdin",
     "output_type": "stream",
     "text": [
      "Player X, enter row and column (0-2):  0 0\n"
     ]
    },
    {
     "name": "stdout",
     "output_type": "stream",
     "text": [
      "X |   |  \n",
      "-----\n",
      "  | X | O\n",
      "-----\n",
      "  | O | X\n",
      "-----\n",
      "Player X wins!\n"
     ]
    }
   ],
   "source": [
    "class TicTacToe:\n",
    "    def __init__(self):\n",
    "        self.board = [[' ' for _ in range(3)] for _ in range(3)]\n",
    "        self.players = ['X', 'O']\n",
    "        self.current_player = 0\n",
    "    \n",
    "    def print_board(self):\n",
    "        for row in self.board:\n",
    "            print(' | '.join(row))\n",
    "            print('-' * 5)\n",
    "    \n",
    "    def check_winner(self):\n",
    "        for i in range(3):\n",
    "            if self.board[i][0] == self.board[i][1] == self.board[i][2] != ' ' or \\\n",
    "               self.board[0][i] == self.board[1][i] == self.board[2][i] != ' ':\n",
    "                return True\n",
    "        if self.board[0][0] == self.board[1][1] == self.board[2][2] != ' ' or \\\n",
    "           self.board[0][2] == self.board[1][1] == self.board[2][0] != ' ':\n",
    "            return True\n",
    "        return False\n",
    "    \n",
    "    def is_full(self):\n",
    "        return all(cell != ' ' for row in self.board for cell in row)\n",
    "    \n",
    "    def play(self):\n",
    "        while True:\n",
    "            self.print_board()\n",
    "            row, col = map(int, input(f\"Player {self.players[self.current_player]}, enter row and column (0-2): \").split())\n",
    "            \n",
    "            if row in range(3) and col in range(3) and self.board[row][col] == ' ':\n",
    "                self.board[row][col] = self.players[self.current_player]\n",
    "                if self.check_winner():\n",
    "                    self.print_board()\n",
    "                    print(f\"Player {self.players[self.current_player]} wins!\")\n",
    "                    break\n",
    "                if self.is_full():\n",
    "                    self.print_board()\n",
    "                    print(\"It's a draw!\")\n",
    "                    break\n",
    "                self.current_player = 1 - self.current_player  \n",
    "            else:\n",
    "                print(\"Invalid move, try again.\")\n",
    "\n",
    "game = TicTacToe()\n",
    "game.play()\n"
   ]
  },
  {
   "cell_type": "code",
   "execution_count": null,
   "id": "3c3df631-3bc3-497d-82fa-398ff1b03203",
   "metadata": {},
   "outputs": [],
   "source": []
  }
 ],
 "metadata": {
  "kernelspec": {
   "display_name": "Python [conda env:base] *",
   "language": "python",
   "name": "conda-base-py"
  },
  "language_info": {
   "codemirror_mode": {
    "name": "ipython",
    "version": 3
   },
   "file_extension": ".py",
   "mimetype": "text/x-python",
   "name": "python",
   "nbconvert_exporter": "python",
   "pygments_lexer": "ipython3",
   "version": "3.12.7"
  }
 },
 "nbformat": 4,
 "nbformat_minor": 5
}
