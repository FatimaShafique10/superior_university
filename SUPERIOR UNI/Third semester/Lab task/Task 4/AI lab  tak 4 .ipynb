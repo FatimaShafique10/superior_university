{
 "cells": [
  {
   "cell_type": "markdown",
   "id": "00446eee-3978-4264-94c7-8095b3126711",
   "metadata": {},
   "source": [
    "# Luhn Algorithm"
   ]
  },
  {
   "cell_type": "code",
   "execution_count": 1,
   "id": "9443c635-7ab5-4ad7-bbe5-ff5ba5ed3318",
   "metadata": {},
   "outputs": [
    {
     "name": "stdout",
     "output_type": "stream",
     "text": [
      "Invalid card number.\n"
     ]
    }
   ],
   "source": [
    "def validate_card(number):\n",
    "    num_digits = [int(digit) for digit in str(number)]\n",
    "    num_digits.reverse()\n",
    "\n",
    "    for i in range(1, len(num_digits), 2):\n",
    "        num_digits[i] = num_digits[i] * 2\n",
    "        if num_digits[i] > 9:\n",
    "            num_digits[i] -= 9\n",
    "\n",
    "    total = sum(num_digits)\n",
    "    \n",
    "    return total % 10 == 0\n",
    "\n",
    "card_number = 9876543210123456\n",
    "if validate_card(card_number):\n",
    "    print(\"Valid card number.\")\n",
    "else:\n",
    "    print(\"Invalid card number.\")"
   ]
  },
  {
   "cell_type": "markdown",
   "id": "9ac13a58-c3a3-41c9-b54b-7fb3d9ef2148",
   "metadata": {},
   "source": [
    "# Remove Punctuations"
   ]
  },
  {
   "cell_type": "code",
   "execution_count": 2,
   "id": "56c33928-d291-41c3-b05e-b4707c60e22a",
   "metadata": {},
   "outputs": [
    {
     "name": "stdout",
     "output_type": "stream",
     "text": [
      "Welcome to the party folks Are you excited\n"
     ]
    }
   ],
   "source": [
    "def remove_punctuation(text):\n",
    "    special_characters = '''!\"#$%&'()*+,-./:;<=>?@[\\\\]^_`{|}~'''\n",
    "    cleaned_text = \"\"\n",
    "    \n",
    "    position = 0\n",
    "    while position < len(text):\n",
    "        current_char = text[position]\n",
    "        if current_char not in special_characters:\n",
    "            cleaned_text += current_char\n",
    "        position += 1\n",
    "    \n",
    "    return cleaned_text\n",
    "\n",
    "input_text = \"Welcome to the party, folks! Are you excited?\"\n",
    "cleaned_result = remove_punctuation(input_text)\n",
    "print(cleaned_result)"
   ]
  },
  {
   "cell_type": "markdown",
   "id": "e505a819-e7f5-4147-81d9-f049d911082a",
   "metadata": {},
   "source": [
    "# Sort Sentence"
   ]
  },
  {
   "cell_type": "code",
   "execution_count": 3,
   "id": "24da9cb1-73c1-41fe-b85c-f33c0f76e78e",
   "metadata": {},
   "outputs": [
    {
     "name": "stdout",
     "output_type": "stream",
     "text": [
      "Sorted sentence: a is sentence test this\n"
     ]
    }
   ],
   "source": [
    "def sort(sentence):\n",
    "    words = sentence.split()\n",
    "    \n",
    "    sorted_words = sorted(words)\n",
    "    \n",
    "    sorted_sentence = \"\"\n",
    "    for word in sorted_words:\n",
    "        sorted_sentence += word + \" \" \n",
    "    \n",
    "    sorted_sentence = sorted_sentence.strip()  \n",
    "    \n",
    "    return sorted_sentence\n",
    "\n",
    "sentence = \"this is a test sentence\"\n",
    "sorted_sentence = sort(sentence)\n",
    "print(\"Sorted sentence:\", sorted_sentence)"
   ]
  },
  {
   "cell_type": "code",
   "execution_count": null,
   "id": "696da50a-33ae-46aa-b524-08073ed42dcc",
   "metadata": {},
   "outputs": [],
   "source": []
  }
 ],
 "metadata": {
  "kernelspec": {
   "display_name": "Python [conda env:base] *",
   "language": "python",
   "name": "conda-base-py"
  },
  "language_info": {
   "codemirror_mode": {
    "name": "ipython",
    "version": 3
   },
   "file_extension": ".py",
   "mimetype": "text/x-python",
   "name": "python",
   "nbconvert_exporter": "python",
   "pygments_lexer": "ipython3",
   "version": "3.12.7"
  }
 },
 "nbformat": 4,
 "nbformat_minor": 5
}
