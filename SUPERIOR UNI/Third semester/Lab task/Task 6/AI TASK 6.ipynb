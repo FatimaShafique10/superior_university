{
 "cells": [
  {
   "cell_type": "markdown",
   "id": "154b428e-590e-4aec-93c6-fe702b298a34",
   "metadata": {},
   "source": [
    "# BFS WITH QUEUE AND NODE"
   ]
  },
  {
   "cell_type": "code",
   "execution_count": 1,
   "id": "b493fd8e-b7ab-42e8-abb7-9f5742bdec9e",
   "metadata": {},
   "outputs": [
    {
     "name": "stdout",
     "output_type": "stream",
     "text": [
      "[0, 1, 2, 3, 4]\n"
     ]
    }
   ],
   "source": [
    "def bfs(graph, start):\n",
    "    visited = set()\n",
    "    order = []\n",
    "    queue = [start]\n",
    "    \n",
    "    while queue:\n",
    "        node = queue.pop(0)\n",
    "        \n",
    "        if node not in visited:\n",
    "            visited.add(node)\n",
    "            order.append(node)\n",
    "            \n",
    "            for neighbor in graph[node]:\n",
    "                if neighbor not in visited:\n",
    "                    queue.append(neighbor)\n",
    "    \n",
    "    return order\n",
    "\n",
    "graph = {\n",
    "    0: [1, 2],\n",
    "    1: [0, 3, 4],\n",
    "    2: [0],\n",
    "    3: [1],\n",
    "    4: [1]\n",
    "}\n",
    "\n",
    "print(bfs(graph, 0))\n"
   ]
  },
  {
   "cell_type": "code",
   "execution_count": null,
   "id": "5f5dc5b2-3b22-4d27-b91b-c6258b46fa35",
   "metadata": {},
   "outputs": [],
   "source": []
  }
 ],
 "metadata": {
  "kernelspec": {
   "display_name": "Python [conda env:base] *",
   "language": "python",
   "name": "conda-base-py"
  },
  "language_info": {
   "codemirror_mode": {
    "name": "ipython",
    "version": 3
   },
   "file_extension": ".py",
   "mimetype": "text/x-python",
   "name": "python",
   "nbconvert_exporter": "python",
   "pygments_lexer": "ipython3",
   "version": "3.12.7"
  }
 },
 "nbformat": 4,
 "nbformat_minor": 5
}
