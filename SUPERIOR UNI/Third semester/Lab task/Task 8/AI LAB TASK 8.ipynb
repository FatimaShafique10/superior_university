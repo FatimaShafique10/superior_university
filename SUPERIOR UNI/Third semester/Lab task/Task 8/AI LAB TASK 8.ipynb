{
 "cells": [
  {
   "cell_type": "code",
   "execution_count": null,
   "id": "2c88b48d-597c-4e57-a406-ed67ec6866a6",
   "metadata": {},
   "outputs": [],
   "source": []
  }
 ],
 "metadata": {
  "kernelspec": {
   "display_name": "",
   "name": ""
  },
  "language_info": {
   "name": ""
  }
 },
 "nbformat": 4,
 "nbformat_minor": 5
}
