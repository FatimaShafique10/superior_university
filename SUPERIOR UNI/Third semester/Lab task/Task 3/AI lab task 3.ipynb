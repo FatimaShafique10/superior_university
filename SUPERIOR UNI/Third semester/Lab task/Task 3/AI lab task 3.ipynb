{
 "cells": [
  {
   "cell_type": "code",
   "execution_count": 1,
   "id": "0a7ae061-6d91-4973-81d4-91cf4f1661ba",
   "metadata": {},
   "outputs": [
    {
     "name": "stdin",
     "output_type": "stream",
     "text": [
      "Enter the desired temperature:  22\n",
      "Enter the current temperature for room 1:  17\n",
      "Enter the current temperature for room 2:  25\n",
      "Enter the current temperature for room 3:  19\n"
     ]
    },
    {
     "name": "stdout",
     "output_type": "stream",
     "text": [
      "Current temperature: 17°C\n",
      "Action taken: Heater turned ON\n",
      "\n",
      "Current temperature: 25°C\n",
      "Action taken: Heater turned OFF\n",
      "\n",
      "Current temperature: 19°C\n",
      "Action taken: Heater turned ON\n",
      "\n"
     ]
    }
   ],
   "source": [
    "class ModelBasedReflexAgent:\n",
    "    def __init__(self):\n",
    "        self.previous_action = None  \n",
    "        self.current_temperature = 25  \n",
    "        self.desired_temperature = 20  \n",
    "        \n",
    "    def set_desired_temperature(self, desired_temp):\n",
    "        self.desired_temperature = desired_temp\n",
    "        \n",
    "    def perceive(self, current_temp):\n",
    "        self.current_temperature = current_temp\n",
    "\n",
    "    def action(self):\n",
    "        if self.current_temperature < self.desired_temperature:\n",
    "            if self.previous_action != \"TURN_ON_HEATER\":\n",
    "                self.previous_action = \"TURN_ON_HEATER\"\n",
    "                return \"Heater turned ON\"\n",
    "            else:\n",
    "                return \"Heater already ON\"\n",
    "        \n",
    "        elif self.current_temperature > self.desired_temperature:\n",
    "            if self.previous_action != \"TURN_OFF_HEATER\":\n",
    "                self.previous_action = \"TURN_OFF_HEATER\"\n",
    "                return \"Heater turned OFF\"\n",
    "            else:\n",
    "                return \"Heater already OFF\"\n",
    "        \n",
    "        else:\n",
    "            return \"No action needed, temperature is comfortable\"\n",
    "    \n",
    "    def run(self, current_temp):\n",
    "        self.perceive(current_temp)\n",
    "        return self.action()\n",
    "\n",
    "\n",
    "\n",
    "agent = ModelBasedReflexAgent()\n",
    "\n",
    "desired_temp = int(input(\"Enter the desired temperature: \"))\n",
    "agent.set_desired_temperature(desired_temp)\n",
    "\n",
    "temperatures = []\n",
    "for i in range(3):\n",
    "    temp = int(input(f\"Enter the current temperature for room {i+1}: \"))\n",
    "    temperatures.append(temp)\n",
    "\n",
    "for temp in temperatures:\n",
    "    print(f\"Current temperature: {temp}°C\")\n",
    "    action = agent.run(temp)\n",
    "    print(f\"Action taken: {action}\\n\")"
   ]
  },
  {
   "cell_type": "code",
   "execution_count": null,
   "id": "9ce2e936-9c2a-40bd-bcf5-ae6994b8eb54",
   "metadata": {},
   "outputs": [],
   "source": []
  }
 ],
 "metadata": {
  "kernelspec": {
   "display_name": "Python [conda env:base] *",
   "language": "python",
   "name": "conda-base-py"
  },
  "language_info": {
   "codemirror_mode": {
    "name": "ipython",
    "version": 3
   },
   "file_extension": ".py",
   "mimetype": "text/x-python",
   "name": "python",
   "nbconvert_exporter": "python",
   "pygments_lexer": "ipython3",
   "version": "3.12.7"
  }
 },
 "nbformat": 4,
 "nbformat_minor": 5
}
