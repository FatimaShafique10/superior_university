{
 "cells": [
  {
   "cell_type": "markdown",
   "id": "f241834b-a932-40de-bab1-e76071b718d5",
   "metadata": {},
   "source": [
    "# Task 9 "
   ]
  },
  {
   "cell_type": "markdown",
   "id": "604fa05a-9e82-4c30-a111-d1100883bd27",
   "metadata": {},
   "source": [
    "## Loan Approval Prediction"
   ]
  },
  {
   "cell_type": "markdown",
   "id": "c9b8c1a5-db67-432a-a014-72817e99fbba",
   "metadata": {},
   "source": [
    "## Data Loading"
   ]
  },
  {
   "cell_type": "code",
   "execution_count": 1,
   "id": "94a25765-a215-4b49-b204-29ef3f3e1f57",
   "metadata": {},
   "outputs": [],
   "source": [
    "import pandas as pd\n",
    "import numpy as np\n",
    "from sklearn.preprocessing import LabelEncoder\n",
    "from sklearn.model_selection import train_test_split"
   ]
  },
  {
   "cell_type": "code",
   "execution_count": 2,
   "id": "dd3d17ff-a24c-4f86-967f-b928c2e94c79",
   "metadata": {},
   "outputs": [
    {
     "data": {
      "text/html": [
       "<div>\n",
       "<style scoped>\n",
       "    .dataframe tbody tr th:only-of-type {\n",
       "        vertical-align: middle;\n",
       "    }\n",
       "\n",
       "    .dataframe tbody tr th {\n",
       "        vertical-align: top;\n",
       "    }\n",
       "\n",
       "    .dataframe thead th {\n",
       "        text-align: right;\n",
       "    }\n",
       "</style>\n",
       "<table border=\"1\" class=\"dataframe\">\n",
       "  <thead>\n",
       "    <tr style=\"text-align: right;\">\n",
       "      <th></th>\n",
       "      <th>Text</th>\n",
       "      <th>Income</th>\n",
       "      <th>Credit_Score</th>\n",
       "      <th>Loan_Amount</th>\n",
       "      <th>DTI_Ratio</th>\n",
       "      <th>Employment_Status</th>\n",
       "      <th>Approval</th>\n",
       "    </tr>\n",
       "  </thead>\n",
       "  <tbody>\n",
       "    <tr>\n",
       "      <th>0</th>\n",
       "      <td>I need a loan to pay for an international vaca...</td>\n",
       "      <td>26556.0</td>\n",
       "      <td>581.0</td>\n",
       "      <td>8314.0</td>\n",
       "      <td>79.26</td>\n",
       "      <td>employed</td>\n",
       "      <td>Rejected</td>\n",
       "    </tr>\n",
       "    <tr>\n",
       "      <th>1</th>\n",
       "      <td>I want to make home improvements like installi...</td>\n",
       "      <td>197392.0</td>\n",
       "      <td>389.0</td>\n",
       "      <td>111604.0</td>\n",
       "      <td>22.14</td>\n",
       "      <td>employed</td>\n",
       "      <td>Rejected</td>\n",
       "    </tr>\n",
       "    <tr>\n",
       "      <th>2</th>\n",
       "      <td>I need a loan for home renovation, including a...</td>\n",
       "      <td>44561.0</td>\n",
       "      <td>523.0</td>\n",
       "      <td>34118.0</td>\n",
       "      <td>45.44</td>\n",
       "      <td>employed</td>\n",
       "      <td>Rejected</td>\n",
       "    </tr>\n",
       "    <tr>\n",
       "      <th>3</th>\n",
       "      <td>I need funds to buy new furniture and applianc...</td>\n",
       "      <td>190363.0</td>\n",
       "      <td>729.0</td>\n",
       "      <td>118757.0</td>\n",
       "      <td>10.22</td>\n",
       "      <td>unemployed</td>\n",
       "      <td>Rejected</td>\n",
       "    </tr>\n",
       "    <tr>\n",
       "      <th>4</th>\n",
       "      <td>I need a loan to start a small business.</td>\n",
       "      <td>61853.0</td>\n",
       "      <td>732.0</td>\n",
       "      <td>19210.0</td>\n",
       "      <td>44.13</td>\n",
       "      <td>employed</td>\n",
       "      <td>Approved</td>\n",
       "    </tr>\n",
       "    <tr>\n",
       "      <th>...</th>\n",
       "      <td>...</td>\n",
       "      <td>...</td>\n",
       "      <td>...</td>\n",
       "      <td>...</td>\n",
       "      <td>...</td>\n",
       "      <td>...</td>\n",
       "      <td>...</td>\n",
       "    </tr>\n",
       "    <tr>\n",
       "      <th>23995</th>\n",
       "      <td>I need funds to pay for my daughter's college ...</td>\n",
       "      <td>195242.0</td>\n",
       "      <td>817.0</td>\n",
       "      <td>16403.0</td>\n",
       "      <td>24.32</td>\n",
       "      <td>employed</td>\n",
       "      <td>Approved</td>\n",
       "    </tr>\n",
       "    <tr>\n",
       "      <th>23996</th>\n",
       "      <td>I need financial assistance to launch my own Y...</td>\n",
       "      <td>150246.0</td>\n",
       "      <td>729.0</td>\n",
       "      <td>101572.0</td>\n",
       "      <td>9.97</td>\n",
       "      <td>employed</td>\n",
       "      <td>Rejected</td>\n",
       "    </tr>\n",
       "    <tr>\n",
       "      <th>23997</th>\n",
       "      <td>I need money to open a small bookstore and café.</td>\n",
       "      <td>64571.0</td>\n",
       "      <td>650.0</td>\n",
       "      <td>30533.0</td>\n",
       "      <td>57.35</td>\n",
       "      <td>employed</td>\n",
       "      <td>Rejected</td>\n",
       "    </tr>\n",
       "    <tr>\n",
       "      <th>23998</th>\n",
       "      <td>I want to buy a car for my rideshare business ...</td>\n",
       "      <td>115825.0</td>\n",
       "      <td>418.0</td>\n",
       "      <td>89837.0</td>\n",
       "      <td>10.37</td>\n",
       "      <td>unemployed</td>\n",
       "      <td>Rejected</td>\n",
       "    </tr>\n",
       "    <tr>\n",
       "      <th>23999</th>\n",
       "      <td>I need financial help to cover maternity and d...</td>\n",
       "      <td>180440.0</td>\n",
       "      <td>769.0</td>\n",
       "      <td>15259.0</td>\n",
       "      <td>15.06</td>\n",
       "      <td>employed</td>\n",
       "      <td>Approved</td>\n",
       "    </tr>\n",
       "  </tbody>\n",
       "</table>\n",
       "<p>24000 rows × 7 columns</p>\n",
       "</div>"
      ],
      "text/plain": [
       "                                                    Text    Income  \\\n",
       "0      I need a loan to pay for an international vaca...   26556.0   \n",
       "1      I want to make home improvements like installi...  197392.0   \n",
       "2      I need a loan for home renovation, including a...   44561.0   \n",
       "3      I need funds to buy new furniture and applianc...  190363.0   \n",
       "4               I need a loan to start a small business.   61853.0   \n",
       "...                                                  ...       ...   \n",
       "23995  I need funds to pay for my daughter's college ...  195242.0   \n",
       "23996  I need financial assistance to launch my own Y...  150246.0   \n",
       "23997   I need money to open a small bookstore and café.   64571.0   \n",
       "23998  I want to buy a car for my rideshare business ...  115825.0   \n",
       "23999  I need financial help to cover maternity and d...  180440.0   \n",
       "\n",
       "       Credit_Score  Loan_Amount  DTI_Ratio Employment_Status  Approval  \n",
       "0             581.0       8314.0      79.26          employed  Rejected  \n",
       "1             389.0     111604.0      22.14          employed  Rejected  \n",
       "2             523.0      34118.0      45.44          employed  Rejected  \n",
       "3             729.0     118757.0      10.22        unemployed  Rejected  \n",
       "4             732.0      19210.0      44.13          employed  Approved  \n",
       "...             ...          ...        ...               ...       ...  \n",
       "23995         817.0      16403.0      24.32          employed  Approved  \n",
       "23996         729.0     101572.0       9.97          employed  Rejected  \n",
       "23997         650.0      30533.0      57.35          employed  Rejected  \n",
       "23998         418.0      89837.0      10.37        unemployed  Rejected  \n",
       "23999         769.0      15259.0      15.06          employed  Approved  \n",
       "\n",
       "[24000 rows x 7 columns]"
      ]
     },
     "execution_count": 2,
     "metadata": {},
     "output_type": "execute_result"
    }
   ],
   "source": [
    "df = pd.read_csv(\"loan_data.csv\")\n",
    "df"
   ]
  },
  {
   "cell_type": "markdown",
   "id": "0c81d790-99d5-4a8c-90dc-0b7502bd556b",
   "metadata": {},
   "source": [
    "## Data Exploration"
   ]
  },
  {
   "cell_type": "code",
   "execution_count": 3,
   "id": "9f12924c-1cc7-46ce-8a6f-c1f407908b18",
   "metadata": {},
   "outputs": [
    {
     "name": "stdout",
     "output_type": "stream",
     "text": [
      "Number of Rows: 24000\n",
      "Number of Columns: 7\n"
     ]
    }
   ],
   "source": [
    "print(f\"Number of Rows: {df.shape[0]}\\nNumber of Columns: {df.shape[1]}\")"
   ]
  },
  {
   "cell_type": "code",
   "execution_count": 4,
   "id": "2c29c394-6135-4d39-b20b-59513dffbfba",
   "metadata": {},
   "outputs": [
    {
     "data": {
      "text/html": [
       "<div>\n",
       "<style scoped>\n",
       "    .dataframe tbody tr th:only-of-type {\n",
       "        vertical-align: middle;\n",
       "    }\n",
       "\n",
       "    .dataframe tbody tr th {\n",
       "        vertical-align: top;\n",
       "    }\n",
       "\n",
       "    .dataframe thead th {\n",
       "        text-align: right;\n",
       "    }\n",
       "</style>\n",
       "<table border=\"1\" class=\"dataframe\">\n",
       "  <thead>\n",
       "    <tr style=\"text-align: right;\">\n",
       "      <th></th>\n",
       "      <th>Text</th>\n",
       "      <th>Income</th>\n",
       "      <th>Credit_Score</th>\n",
       "      <th>Loan_Amount</th>\n",
       "      <th>DTI_Ratio</th>\n",
       "      <th>Employment_Status</th>\n",
       "      <th>Approval</th>\n",
       "    </tr>\n",
       "  </thead>\n",
       "  <tbody>\n",
       "    <tr>\n",
       "      <th>0</th>\n",
       "      <td>I need a loan to pay for an international vaca...</td>\n",
       "      <td>26556.0</td>\n",
       "      <td>581.0</td>\n",
       "      <td>8314.0</td>\n",
       "      <td>79.26</td>\n",
       "      <td>employed</td>\n",
       "      <td>Rejected</td>\n",
       "    </tr>\n",
       "    <tr>\n",
       "      <th>1</th>\n",
       "      <td>I want to make home improvements like installi...</td>\n",
       "      <td>197392.0</td>\n",
       "      <td>389.0</td>\n",
       "      <td>111604.0</td>\n",
       "      <td>22.14</td>\n",
       "      <td>employed</td>\n",
       "      <td>Rejected</td>\n",
       "    </tr>\n",
       "    <tr>\n",
       "      <th>2</th>\n",
       "      <td>I need a loan for home renovation, including a...</td>\n",
       "      <td>44561.0</td>\n",
       "      <td>523.0</td>\n",
       "      <td>34118.0</td>\n",
       "      <td>45.44</td>\n",
       "      <td>employed</td>\n",
       "      <td>Rejected</td>\n",
       "    </tr>\n",
       "    <tr>\n",
       "      <th>3</th>\n",
       "      <td>I need funds to buy new furniture and applianc...</td>\n",
       "      <td>190363.0</td>\n",
       "      <td>729.0</td>\n",
       "      <td>118757.0</td>\n",
       "      <td>10.22</td>\n",
       "      <td>unemployed</td>\n",
       "      <td>Rejected</td>\n",
       "    </tr>\n",
       "    <tr>\n",
       "      <th>4</th>\n",
       "      <td>I need a loan to start a small business.</td>\n",
       "      <td>61853.0</td>\n",
       "      <td>732.0</td>\n",
       "      <td>19210.0</td>\n",
       "      <td>44.13</td>\n",
       "      <td>employed</td>\n",
       "      <td>Approved</td>\n",
       "    </tr>\n",
       "    <tr>\n",
       "      <th>5</th>\n",
       "      <td>I need a loan to repair my car after an accident.</td>\n",
       "      <td>108236.0</td>\n",
       "      <td>404.0</td>\n",
       "      <td>50797.0</td>\n",
       "      <td>10.24</td>\n",
       "      <td>employed</td>\n",
       "      <td>Rejected</td>\n",
       "    </tr>\n",
       "    <tr>\n",
       "      <th>6</th>\n",
       "      <td>I need financial help to cover maternity and d...</td>\n",
       "      <td>110165.0</td>\n",
       "      <td>570.0</td>\n",
       "      <td>61217.0</td>\n",
       "      <td>7.12</td>\n",
       "      <td>employed</td>\n",
       "      <td>Approved</td>\n",
       "    </tr>\n",
       "  </tbody>\n",
       "</table>\n",
       "</div>"
      ],
      "text/plain": [
       "                                                Text    Income  Credit_Score  \\\n",
       "0  I need a loan to pay for an international vaca...   26556.0         581.0   \n",
       "1  I want to make home improvements like installi...  197392.0         389.0   \n",
       "2  I need a loan for home renovation, including a...   44561.0         523.0   \n",
       "3  I need funds to buy new furniture and applianc...  190363.0         729.0   \n",
       "4           I need a loan to start a small business.   61853.0         732.0   \n",
       "5  I need a loan to repair my car after an accident.  108236.0         404.0   \n",
       "6  I need financial help to cover maternity and d...  110165.0         570.0   \n",
       "\n",
       "   Loan_Amount  DTI_Ratio Employment_Status  Approval  \n",
       "0       8314.0      79.26          employed  Rejected  \n",
       "1     111604.0      22.14          employed  Rejected  \n",
       "2      34118.0      45.44          employed  Rejected  \n",
       "3     118757.0      10.22        unemployed  Rejected  \n",
       "4      19210.0      44.13          employed  Approved  \n",
       "5      50797.0      10.24          employed  Rejected  \n",
       "6      61217.0       7.12          employed  Approved  "
      ]
     },
     "execution_count": 4,
     "metadata": {},
     "output_type": "execute_result"
    }
   ],
   "source": [
    "df.head(7)"
   ]
  },
  {
   "cell_type": "code",
   "execution_count": 5,
   "id": "79bc875c-340e-4247-a52b-5357833e36a2",
   "metadata": {},
   "outputs": [
    {
     "data": {
      "text/html": [
       "<div>\n",
       "<style scoped>\n",
       "    .dataframe tbody tr th:only-of-type {\n",
       "        vertical-align: middle;\n",
       "    }\n",
       "\n",
       "    .dataframe tbody tr th {\n",
       "        vertical-align: top;\n",
       "    }\n",
       "\n",
       "    .dataframe thead th {\n",
       "        text-align: right;\n",
       "    }\n",
       "</style>\n",
       "<table border=\"1\" class=\"dataframe\">\n",
       "  <thead>\n",
       "    <tr style=\"text-align: right;\">\n",
       "      <th></th>\n",
       "      <th>Text</th>\n",
       "      <th>Income</th>\n",
       "      <th>Credit_Score</th>\n",
       "      <th>Loan_Amount</th>\n",
       "      <th>DTI_Ratio</th>\n",
       "      <th>Employment_Status</th>\n",
       "      <th>Approval</th>\n",
       "    </tr>\n",
       "  </thead>\n",
       "  <tbody>\n",
       "    <tr>\n",
       "      <th>23996</th>\n",
       "      <td>I need financial assistance to launch my own Y...</td>\n",
       "      <td>150246.0</td>\n",
       "      <td>729.0</td>\n",
       "      <td>101572.0</td>\n",
       "      <td>9.97</td>\n",
       "      <td>employed</td>\n",
       "      <td>Rejected</td>\n",
       "    </tr>\n",
       "    <tr>\n",
       "      <th>23997</th>\n",
       "      <td>I need money to open a small bookstore and café.</td>\n",
       "      <td>64571.0</td>\n",
       "      <td>650.0</td>\n",
       "      <td>30533.0</td>\n",
       "      <td>57.35</td>\n",
       "      <td>employed</td>\n",
       "      <td>Rejected</td>\n",
       "    </tr>\n",
       "    <tr>\n",
       "      <th>23998</th>\n",
       "      <td>I want to buy a car for my rideshare business ...</td>\n",
       "      <td>115825.0</td>\n",
       "      <td>418.0</td>\n",
       "      <td>89837.0</td>\n",
       "      <td>10.37</td>\n",
       "      <td>unemployed</td>\n",
       "      <td>Rejected</td>\n",
       "    </tr>\n",
       "    <tr>\n",
       "      <th>23999</th>\n",
       "      <td>I need financial help to cover maternity and d...</td>\n",
       "      <td>180440.0</td>\n",
       "      <td>769.0</td>\n",
       "      <td>15259.0</td>\n",
       "      <td>15.06</td>\n",
       "      <td>employed</td>\n",
       "      <td>Approved</td>\n",
       "    </tr>\n",
       "  </tbody>\n",
       "</table>\n",
       "</div>"
      ],
      "text/plain": [
       "                                                    Text    Income  \\\n",
       "23996  I need financial assistance to launch my own Y...  150246.0   \n",
       "23997   I need money to open a small bookstore and café.   64571.0   \n",
       "23998  I want to buy a car for my rideshare business ...  115825.0   \n",
       "23999  I need financial help to cover maternity and d...  180440.0   \n",
       "\n",
       "       Credit_Score  Loan_Amount  DTI_Ratio Employment_Status  Approval  \n",
       "23996         729.0     101572.0       9.97          employed  Rejected  \n",
       "23997         650.0      30533.0      57.35          employed  Rejected  \n",
       "23998         418.0      89837.0      10.37        unemployed  Rejected  \n",
       "23999         769.0      15259.0      15.06          employed  Approved  "
      ]
     },
     "execution_count": 5,
     "metadata": {},
     "output_type": "execute_result"
    }
   ],
   "source": [
    "df.tail(4)"
   ]
  },
  {
   "cell_type": "code",
   "execution_count": 6,
   "id": "7532778d-a059-49b1-8c36-c3ed706e97fa",
   "metadata": {},
   "outputs": [
    {
     "data": {
      "text/html": [
       "<div>\n",
       "<style scoped>\n",
       "    .dataframe tbody tr th:only-of-type {\n",
       "        vertical-align: middle;\n",
       "    }\n",
       "\n",
       "    .dataframe tbody tr th {\n",
       "        vertical-align: top;\n",
       "    }\n",
       "\n",
       "    .dataframe thead th {\n",
       "        text-align: right;\n",
       "    }\n",
       "</style>\n",
       "<table border=\"1\" class=\"dataframe\">\n",
       "  <thead>\n",
       "    <tr style=\"text-align: right;\">\n",
       "      <th></th>\n",
       "      <th>Income</th>\n",
       "      <th>Credit_Score</th>\n",
       "      <th>Loan_Amount</th>\n",
       "      <th>DTI_Ratio</th>\n",
       "    </tr>\n",
       "  </thead>\n",
       "  <tbody>\n",
       "    <tr>\n",
       "      <th>count</th>\n",
       "      <td>23987.000000</td>\n",
       "      <td>23987.000000</td>\n",
       "      <td>23987.000000</td>\n",
       "      <td>23987.000000</td>\n",
       "    </tr>\n",
       "    <tr>\n",
       "      <th>mean</th>\n",
       "      <td>110378.444241</td>\n",
       "      <td>575.710552</td>\n",
       "      <td>44366.892900</td>\n",
       "      <td>34.724713</td>\n",
       "    </tr>\n",
       "    <tr>\n",
       "      <th>std</th>\n",
       "      <td>51731.901185</td>\n",
       "      <td>159.230633</td>\n",
       "      <td>34670.330491</td>\n",
       "      <td>32.328230</td>\n",
       "    </tr>\n",
       "    <tr>\n",
       "      <th>min</th>\n",
       "      <td>20001.000000</td>\n",
       "      <td>300.000000</td>\n",
       "      <td>1005.000000</td>\n",
       "      <td>2.530000</td>\n",
       "    </tr>\n",
       "    <tr>\n",
       "      <th>25%</th>\n",
       "      <td>65615.000000</td>\n",
       "      <td>437.000000</td>\n",
       "      <td>16216.000000</td>\n",
       "      <td>14.510000</td>\n",
       "    </tr>\n",
       "    <tr>\n",
       "      <th>50%</th>\n",
       "      <td>110465.000000</td>\n",
       "      <td>575.000000</td>\n",
       "      <td>35215.000000</td>\n",
       "      <td>24.860000</td>\n",
       "    </tr>\n",
       "    <tr>\n",
       "      <th>75%</th>\n",
       "      <td>155188.000000</td>\n",
       "      <td>715.000000</td>\n",
       "      <td>65646.500000</td>\n",
       "      <td>41.840000</td>\n",
       "    </tr>\n",
       "    <tr>\n",
       "      <th>max</th>\n",
       "      <td>200000.000000</td>\n",
       "      <td>850.000000</td>\n",
       "      <td>158834.000000</td>\n",
       "      <td>246.330000</td>\n",
       "    </tr>\n",
       "  </tbody>\n",
       "</table>\n",
       "</div>"
      ],
      "text/plain": [
       "              Income  Credit_Score    Loan_Amount     DTI_Ratio\n",
       "count   23987.000000  23987.000000   23987.000000  23987.000000\n",
       "mean   110378.444241    575.710552   44366.892900     34.724713\n",
       "std     51731.901185    159.230633   34670.330491     32.328230\n",
       "min     20001.000000    300.000000    1005.000000      2.530000\n",
       "25%     65615.000000    437.000000   16216.000000     14.510000\n",
       "50%    110465.000000    575.000000   35215.000000     24.860000\n",
       "75%    155188.000000    715.000000   65646.500000     41.840000\n",
       "max    200000.000000    850.000000  158834.000000    246.330000"
      ]
     },
     "execution_count": 6,
     "metadata": {},
     "output_type": "execute_result"
    }
   ],
   "source": [
    "df.describe()"
   ]
  },
  {
   "cell_type": "code",
   "execution_count": 7,
   "id": "26ec38b0-8cf2-4893-9f37-3cb0012d7369",
   "metadata": {},
   "outputs": [
    {
     "name": "stdout",
     "output_type": "stream",
     "text": [
      "<class 'pandas.core.frame.DataFrame'>\n",
      "RangeIndex: 24000 entries, 0 to 23999\n",
      "Data columns (total 7 columns):\n",
      " #   Column             Non-Null Count  Dtype  \n",
      "---  ------             --------------  -----  \n",
      " 0   Text               24000 non-null  object \n",
      " 1   Income             23987 non-null  float64\n",
      " 2   Credit_Score       23987 non-null  float64\n",
      " 3   Loan_Amount        23987 non-null  float64\n",
      " 4   DTI_Ratio          23987 non-null  float64\n",
      " 5   Employment_Status  24000 non-null  object \n",
      " 6   Approval           24000 non-null  object \n",
      "dtypes: float64(4), object(3)\n",
      "memory usage: 1.3+ MB\n"
     ]
    }
   ],
   "source": [
    "df.info()"
   ]
  },
  {
   "cell_type": "code",
   "execution_count": 8,
   "id": "c8dfb06a-ae1e-4225-9cc1-b82993aede17",
   "metadata": {},
   "outputs": [
    {
     "data": {
      "text/plain": [
       "Index(['Text', 'Income', 'Credit_Score', 'Loan_Amount', 'DTI_Ratio',\n",
       "       'Employment_Status', 'Approval'],\n",
       "      dtype='object')"
      ]
     },
     "execution_count": 8,
     "metadata": {},
     "output_type": "execute_result"
    }
   ],
   "source": [
    "df.columns"
   ]
  },
  {
   "cell_type": "code",
   "execution_count": 9,
   "id": "080fa3cc-652d-4b05-a810-99b66f3e1367",
   "metadata": {},
   "outputs": [
    {
     "name": "stdout",
     "output_type": "stream",
     "text": [
      "Text\n",
      "Income\n",
      "Credit_Score\n",
      "Loan_Amount\n",
      "DTI_Ratio\n",
      "Employment_Status\n",
      "Approval\n"
     ]
    }
   ],
   "source": [
    "for i in df.columns:\n",
    "    print(i)"
   ]
  },
  {
   "cell_type": "code",
   "execution_count": 10,
   "id": "ce902dab-6bc5-4348-bbb4-e54f9e93bf5f",
   "metadata": {},
   "outputs": [
    {
     "data": {
      "text/plain": [
       "Text                 24000\n",
       "Income               23987\n",
       "Credit_Score         23987\n",
       "Loan_Amount          23987\n",
       "DTI_Ratio            23987\n",
       "Employment_Status    24000\n",
       "Approval             24000\n",
       "dtype: int64"
      ]
     },
     "execution_count": 10,
     "metadata": {},
     "output_type": "execute_result"
    }
   ],
   "source": [
    "df.count()"
   ]
  },
  {
   "cell_type": "code",
   "execution_count": 11,
   "id": "fe2c16b3-f449-427c-8a87-649e68652fc2",
   "metadata": {},
   "outputs": [
    {
     "data": {
      "text/plain": [
       "array(['employed', 'unemployed'], dtype=object)"
      ]
     },
     "execution_count": 11,
     "metadata": {},
     "output_type": "execute_result"
    }
   ],
   "source": [
    "df['Employment_Status'].unique()"
   ]
  },
  {
   "cell_type": "code",
   "execution_count": 12,
   "id": "fdff915e-d1be-40f3-8339-b4cb3855ac26",
   "metadata": {},
   "outputs": [
    {
     "data": {
      "text/plain": [
       "Text                    70\n",
       "Income               22445\n",
       "Credit_Score           551\n",
       "Loan_Amount          21242\n",
       "DTI_Ratio             8033\n",
       "Employment_Status        2\n",
       "Approval                 2\n",
       "dtype: int64"
      ]
     },
     "execution_count": 12,
     "metadata": {},
     "output_type": "execute_result"
    }
   ],
   "source": [
    "df.nunique()"
   ]
  },
  {
   "cell_type": "code",
   "execution_count": 13,
   "id": "50657a7e-d987-473c-a83c-efb3a4a56b16",
   "metadata": {},
   "outputs": [
    {
     "data": {
      "text/plain": [
       "Text                  0\n",
       "Income               13\n",
       "Credit_Score         13\n",
       "Loan_Amount          13\n",
       "DTI_Ratio            13\n",
       "Employment_Status     0\n",
       "Approval              0\n",
       "dtype: int64"
      ]
     },
     "execution_count": 13,
     "metadata": {},
     "output_type": "execute_result"
    }
   ],
   "source": [
    "df.isnull().sum()"
   ]
  },
  {
   "cell_type": "markdown",
   "id": "f944ddc3-e302-4c2e-af64-315b720fa29d",
   "metadata": {},
   "source": [
    "# Task 10"
   ]
  },
  {
   "cell_type": "markdown",
   "id": "154e4b2e-d4ee-41f3-b87e-a0bc009d2d3a",
   "metadata": {},
   "source": [
    "## Data Pre Processing"
   ]
  },
  {
   "cell_type": "code",
   "execution_count": 14,
   "id": "50b4eb17-b014-4050-be28-1dce954214fd",
   "metadata": {},
   "outputs": [
    {
     "name": "stdout",
     "output_type": "stream",
     "text": [
      "<class 'pandas.core.frame.DataFrame'>\n",
      "RangeIndex: 24000 entries, 0 to 23999\n",
      "Data columns (total 7 columns):\n",
      " #   Column             Non-Null Count  Dtype  \n",
      "---  ------             --------------  -----  \n",
      " 0   Text               24000 non-null  object \n",
      " 1   Income             23987 non-null  float64\n",
      " 2   Credit_Score       23987 non-null  float64\n",
      " 3   Loan_Amount        23987 non-null  float64\n",
      " 4   DTI_Ratio          23987 non-null  float64\n",
      " 5   Employment_Status  24000 non-null  object \n",
      " 6   Approval           24000 non-null  object \n",
      "dtypes: float64(4), object(3)\n",
      "memory usage: 1.3+ MB\n"
     ]
    }
   ],
   "source": [
    "df.info()"
   ]
  },
  {
   "cell_type": "code",
   "execution_count": 15,
   "id": "3fbb1ac4-9e4e-4874-88e8-7a3e5e7e6679",
   "metadata": {},
   "outputs": [
    {
     "data": {
      "text/plain": [
       "Text                  0\n",
       "Income               13\n",
       "Credit_Score         13\n",
       "Loan_Amount          13\n",
       "DTI_Ratio            13\n",
       "Employment_Status     0\n",
       "Approval              0\n",
       "dtype: int64"
      ]
     },
     "execution_count": 15,
     "metadata": {},
     "output_type": "execute_result"
    }
   ],
   "source": [
    "df.isnull().sum()"
   ]
  },
  {
   "cell_type": "markdown",
   "id": "2217b3e3-e605-4a4a-a365-2a5315b547ba",
   "metadata": {},
   "source": [
    "### Dealing with Null Values"
   ]
  },
  {
   "cell_type": "code",
   "execution_count": 16,
   "id": "3a1f00df-8f29-4c4e-8b5c-5d4c1e8b4898",
   "metadata": {},
   "outputs": [],
   "source": [
    "def fillNaMode(cols):\n",
    "    for i in cols:\n",
    "        df[i] = df[i].fillna(df[i].mode()[0])\n",
    "\n",
    "columns = ['Income', 'Credit_Score','Loan_Amount','DTI_Ratio']\n",
    "fillNaMode(columns)"
   ]
  },
  {
   "cell_type": "code",
   "execution_count": 17,
   "id": "51740e5a-262c-43bc-ae90-f8cc48382dbc",
   "metadata": {},
   "outputs": [
    {
     "data": {
      "text/plain": [
       "Text                 0\n",
       "Income               0\n",
       "Credit_Score         0\n",
       "Loan_Amount          0\n",
       "DTI_Ratio            0\n",
       "Employment_Status    0\n",
       "Approval             0\n",
       "dtype: int64"
      ]
     },
     "execution_count": 17,
     "metadata": {},
     "output_type": "execute_result"
    }
   ],
   "source": [
    "df.isnull().sum()"
   ]
  },
  {
   "cell_type": "code",
   "execution_count": 18,
   "id": "911b275d-de0a-4f19-9fb3-158a9701007b",
   "metadata": {},
   "outputs": [
    {
     "name": "stdout",
     "output_type": "stream",
     "text": [
      "<class 'pandas.core.frame.DataFrame'>\n",
      "RangeIndex: 24000 entries, 0 to 23999\n",
      "Data columns (total 7 columns):\n",
      " #   Column             Non-Null Count  Dtype  \n",
      "---  ------             --------------  -----  \n",
      " 0   Text               24000 non-null  object \n",
      " 1   Income             24000 non-null  float64\n",
      " 2   Credit_Score       24000 non-null  float64\n",
      " 3   Loan_Amount        24000 non-null  float64\n",
      " 4   DTI_Ratio          24000 non-null  float64\n",
      " 5   Employment_Status  24000 non-null  object \n",
      " 6   Approval           24000 non-null  object \n",
      "dtypes: float64(4), object(3)\n",
      "memory usage: 1.3+ MB\n"
     ]
    }
   ],
   "source": [
    "df.info()"
   ]
  },
  {
   "cell_type": "markdown",
   "id": "7eb1795a-37dd-4889-865b-283ed8116732",
   "metadata": {},
   "source": [
    "### Dropping Irrelevant Columns"
   ]
  },
  {
   "cell_type": "code",
   "execution_count": 19,
   "id": "7e25050d-047a-4fb7-9841-4d8b295d09fe",
   "metadata": {},
   "outputs": [],
   "source": [
    "df.drop('Text', axis=1, inplace=True)"
   ]
  },
  {
   "cell_type": "code",
   "execution_count": 20,
   "id": "7eee67f0-220f-4e30-a309-720bb4d6cd5a",
   "metadata": {},
   "outputs": [
    {
     "name": "stdout",
     "output_type": "stream",
     "text": [
      "<class 'pandas.core.frame.DataFrame'>\n",
      "RangeIndex: 24000 entries, 0 to 23999\n",
      "Data columns (total 6 columns):\n",
      " #   Column             Non-Null Count  Dtype  \n",
      "---  ------             --------------  -----  \n",
      " 0   Income             24000 non-null  float64\n",
      " 1   Credit_Score       24000 non-null  float64\n",
      " 2   Loan_Amount        24000 non-null  float64\n",
      " 3   DTI_Ratio          24000 non-null  float64\n",
      " 4   Employment_Status  24000 non-null  object \n",
      " 5   Approval           24000 non-null  object \n",
      "dtypes: float64(4), object(2)\n",
      "memory usage: 1.1+ MB\n"
     ]
    }
   ],
   "source": [
    "df.info()"
   ]
  },
  {
   "cell_type": "code",
   "execution_count": 21,
   "id": "030541ca-2544-4b06-8b2c-2c9910ff1a1a",
   "metadata": {},
   "outputs": [],
   "source": [
    "def changeFloattoInt64(cols):\n",
    "    for i in cols:\n",
    "        df[i] = df[i].astype('int64')\n",
    "\n",
    "columns = ['Income', 'Credit_Score', 'Loan_Amount', 'DTI_Ratio']\n",
    "changeFloattoInt64(columns)"
   ]
  },
  {
   "cell_type": "code",
   "execution_count": 22,
   "id": "ae025596-9bfe-4dd6-9aee-496291804a05",
   "metadata": {},
   "outputs": [
    {
     "name": "stdout",
     "output_type": "stream",
     "text": [
      "<class 'pandas.core.frame.DataFrame'>\n",
      "RangeIndex: 24000 entries, 0 to 23999\n",
      "Data columns (total 6 columns):\n",
      " #   Column             Non-Null Count  Dtype \n",
      "---  ------             --------------  ----- \n",
      " 0   Income             24000 non-null  int64 \n",
      " 1   Credit_Score       24000 non-null  int64 \n",
      " 2   Loan_Amount        24000 non-null  int64 \n",
      " 3   DTI_Ratio          24000 non-null  int64 \n",
      " 4   Employment_Status  24000 non-null  object\n",
      " 5   Approval           24000 non-null  object\n",
      "dtypes: int64(4), object(2)\n",
      "memory usage: 1.1+ MB\n"
     ]
    }
   ],
   "source": [
    "df.info()"
   ]
  },
  {
   "cell_type": "code",
   "execution_count": 23,
   "id": "d1e76d30-359c-49af-9c4f-de2dc47e4b5c",
   "metadata": {},
   "outputs": [
    {
     "data": {
      "text/plain": [
       "array(['employed', 'unemployed'], dtype=object)"
      ]
     },
     "execution_count": 23,
     "metadata": {},
     "output_type": "execute_result"
    }
   ],
   "source": [
    "df['Employment_Status'].unique()"
   ]
  },
  {
   "cell_type": "code",
   "execution_count": 24,
   "id": "00544f41-d634-4c70-bca1-9f3b8c0d4467",
   "metadata": {},
   "outputs": [],
   "source": [
    "df_clean = df.copy()"
   ]
  },
  {
   "cell_type": "code",
   "execution_count": 25,
   "id": "780292c8-0790-42ad-88e1-ecfb58cad3b5",
   "metadata": {},
   "outputs": [],
   "source": [
    "def encodeCols(cols):\n",
    "    for i in cols:\n",
    "        temp = pd.DataFrame({i:df[i].unique()})\n",
    "        data_LE = LabelEncoder()\n",
    "        data_LE.fit(np.ravel(temp))\n",
    "        df_clean[i] = data_LE.transform(df[i])\n",
    "\n",
    "columns = ['Employment_Status', 'Approval']\n",
    "encodeCols(columns)"
   ]
  },
  {
   "cell_type": "code",
   "execution_count": 26,
   "id": "84bceabf-b2d0-4e22-a748-ae8f8a21c72e",
   "metadata": {},
   "outputs": [
    {
     "data": {
      "text/html": [
       "<div>\n",
       "<style scoped>\n",
       "    .dataframe tbody tr th:only-of-type {\n",
       "        vertical-align: middle;\n",
       "    }\n",
       "\n",
       "    .dataframe tbody tr th {\n",
       "        vertical-align: top;\n",
       "    }\n",
       "\n",
       "    .dataframe thead th {\n",
       "        text-align: right;\n",
       "    }\n",
       "</style>\n",
       "<table border=\"1\" class=\"dataframe\">\n",
       "  <thead>\n",
       "    <tr style=\"text-align: right;\">\n",
       "      <th></th>\n",
       "      <th>Income</th>\n",
       "      <th>Credit_Score</th>\n",
       "      <th>Loan_Amount</th>\n",
       "      <th>DTI_Ratio</th>\n",
       "      <th>Employment_Status</th>\n",
       "      <th>Approval</th>\n",
       "    </tr>\n",
       "  </thead>\n",
       "  <tbody>\n",
       "    <tr>\n",
       "      <th>0</th>\n",
       "      <td>26556</td>\n",
       "      <td>581</td>\n",
       "      <td>8314</td>\n",
       "      <td>79</td>\n",
       "      <td>0</td>\n",
       "      <td>1</td>\n",
       "    </tr>\n",
       "    <tr>\n",
       "      <th>1</th>\n",
       "      <td>197392</td>\n",
       "      <td>389</td>\n",
       "      <td>111604</td>\n",
       "      <td>22</td>\n",
       "      <td>0</td>\n",
       "      <td>1</td>\n",
       "    </tr>\n",
       "    <tr>\n",
       "      <th>2</th>\n",
       "      <td>44561</td>\n",
       "      <td>523</td>\n",
       "      <td>34118</td>\n",
       "      <td>45</td>\n",
       "      <td>0</td>\n",
       "      <td>1</td>\n",
       "    </tr>\n",
       "    <tr>\n",
       "      <th>3</th>\n",
       "      <td>190363</td>\n",
       "      <td>729</td>\n",
       "      <td>118757</td>\n",
       "      <td>10</td>\n",
       "      <td>1</td>\n",
       "      <td>1</td>\n",
       "    </tr>\n",
       "    <tr>\n",
       "      <th>4</th>\n",
       "      <td>61853</td>\n",
       "      <td>732</td>\n",
       "      <td>19210</td>\n",
       "      <td>44</td>\n",
       "      <td>0</td>\n",
       "      <td>0</td>\n",
       "    </tr>\n",
       "  </tbody>\n",
       "</table>\n",
       "</div>"
      ],
      "text/plain": [
       "   Income  Credit_Score  Loan_Amount  DTI_Ratio  Employment_Status  Approval\n",
       "0   26556           581         8314         79                  0         1\n",
       "1  197392           389       111604         22                  0         1\n",
       "2   44561           523        34118         45                  0         1\n",
       "3  190363           729       118757         10                  1         1\n",
       "4   61853           732        19210         44                  0         0"
      ]
     },
     "execution_count": 26,
     "metadata": {},
     "output_type": "execute_result"
    }
   ],
   "source": [
    "df_clean.head()"
   ]
  },
  {
   "cell_type": "code",
   "execution_count": 27,
   "id": "64c434b9-3b93-4ff0-8709-bb477bef230f",
   "metadata": {},
   "outputs": [
    {
     "name": "stdout",
     "output_type": "stream",
     "text": [
      "<class 'pandas.core.frame.DataFrame'>\n",
      "RangeIndex: 24000 entries, 0 to 23999\n",
      "Data columns (total 6 columns):\n",
      " #   Column             Non-Null Count  Dtype\n",
      "---  ------             --------------  -----\n",
      " 0   Income             24000 non-null  int64\n",
      " 1   Credit_Score       24000 non-null  int64\n",
      " 2   Loan_Amount        24000 non-null  int64\n",
      " 3   DTI_Ratio          24000 non-null  int64\n",
      " 4   Employment_Status  24000 non-null  int32\n",
      " 5   Approval           24000 non-null  int32\n",
      "dtypes: int32(2), int64(4)\n",
      "memory usage: 937.6 KB\n"
     ]
    }
   ],
   "source": [
    "df_clean.info()"
   ]
  },
  {
   "cell_type": "code",
   "execution_count": 28,
   "id": "d76a1829-cdc5-4b85-b3b6-e2e69b7f70a6",
   "metadata": {},
   "outputs": [],
   "source": [
    "df_clean.to_csv(r'cleaned-data.csv', index=False, header=True)"
   ]
  },
  {
   "cell_type": "code",
   "execution_count": 29,
   "id": "72a24a17-0656-4307-95dc-09a2f08b8d0a",
   "metadata": {},
   "outputs": [
    {
     "data": {
      "text/html": [
       "<div>\n",
       "<style scoped>\n",
       "    .dataframe tbody tr th:only-of-type {\n",
       "        vertical-align: middle;\n",
       "    }\n",
       "\n",
       "    .dataframe tbody tr th {\n",
       "        vertical-align: top;\n",
       "    }\n",
       "\n",
       "    .dataframe thead th {\n",
       "        text-align: right;\n",
       "    }\n",
       "</style>\n",
       "<table border=\"1\" class=\"dataframe\">\n",
       "  <thead>\n",
       "    <tr style=\"text-align: right;\">\n",
       "      <th></th>\n",
       "      <th>Income</th>\n",
       "      <th>Credit_Score</th>\n",
       "      <th>Loan_Amount</th>\n",
       "      <th>DTI_Ratio</th>\n",
       "      <th>Employment_Status</th>\n",
       "      <th>Approval</th>\n",
       "    </tr>\n",
       "  </thead>\n",
       "  <tbody>\n",
       "    <tr>\n",
       "      <th>0</th>\n",
       "      <td>26556</td>\n",
       "      <td>581</td>\n",
       "      <td>8314</td>\n",
       "      <td>79</td>\n",
       "      <td>0</td>\n",
       "      <td>1</td>\n",
       "    </tr>\n",
       "    <tr>\n",
       "      <th>1</th>\n",
       "      <td>197392</td>\n",
       "      <td>389</td>\n",
       "      <td>111604</td>\n",
       "      <td>22</td>\n",
       "      <td>0</td>\n",
       "      <td>1</td>\n",
       "    </tr>\n",
       "  </tbody>\n",
       "</table>\n",
       "</div>"
      ],
      "text/plain": [
       "   Income  Credit_Score  Loan_Amount  DTI_Ratio  Employment_Status  Approval\n",
       "0   26556           581         8314         79                  0         1\n",
       "1  197392           389       111604         22                  0         1"
      ]
     },
     "execution_count": 29,
     "metadata": {},
     "output_type": "execute_result"
    }
   ],
   "source": [
    "df_clean.head(2)"
   ]
  },
  {
   "cell_type": "markdown",
   "id": "b4458f4b-9379-48ce-8225-aae6d5ee288e",
   "metadata": {},
   "source": [
    "# Task 11"
   ]
  },
  {
   "cell_type": "markdown",
   "id": "74758007-35c8-4a0d-8e69-37b183025407",
   "metadata": {},
   "source": [
    "## Data Splitting / Train-Test Split"
   ]
  },
  {
   "cell_type": "code",
   "execution_count": 30,
   "id": "c1f611a7-7489-430f-a7b6-ccb385bd90f9",
   "metadata": {},
   "outputs": [],
   "source": [
    "X = df_clean.drop(columns=['Approval'])  \n",
    "y = df_clean['Approval']\n",
    "\n",
    "trainX, testX, trainY, testY = train_test_split(X, y, test_size=0.2, random_state=42)"
   ]
  },
  {
   "cell_type": "code",
   "execution_count": 31,
   "id": "9fb03429-3ac8-4ce8-af3f-1e90ecc32bea",
   "metadata": {},
   "outputs": [
    {
     "data": {
      "text/html": [
       "<div>\n",
       "<style scoped>\n",
       "    .dataframe tbody tr th:only-of-type {\n",
       "        vertical-align: middle;\n",
       "    }\n",
       "\n",
       "    .dataframe tbody tr th {\n",
       "        vertical-align: top;\n",
       "    }\n",
       "\n",
       "    .dataframe thead th {\n",
       "        text-align: right;\n",
       "    }\n",
       "</style>\n",
       "<table border=\"1\" class=\"dataframe\">\n",
       "  <thead>\n",
       "    <tr style=\"text-align: right;\">\n",
       "      <th></th>\n",
       "      <th>Income</th>\n",
       "      <th>Credit_Score</th>\n",
       "      <th>Loan_Amount</th>\n",
       "      <th>DTI_Ratio</th>\n",
       "      <th>Employment_Status</th>\n",
       "    </tr>\n",
       "  </thead>\n",
       "  <tbody>\n",
       "    <tr>\n",
       "      <th>3572</th>\n",
       "      <td>94985</td>\n",
       "      <td>365</td>\n",
       "      <td>35536</td>\n",
       "      <td>37</td>\n",
       "      <td>0</td>\n",
       "    </tr>\n",
       "    <tr>\n",
       "      <th>16782</th>\n",
       "      <td>182376</td>\n",
       "      <td>369</td>\n",
       "      <td>96588</td>\n",
       "      <td>23</td>\n",
       "      <td>1</td>\n",
       "    </tr>\n",
       "  </tbody>\n",
       "</table>\n",
       "</div>"
      ],
      "text/plain": [
       "       Income  Credit_Score  Loan_Amount  DTI_Ratio  Employment_Status\n",
       "3572    94985           365        35536         37                  0\n",
       "16782  182376           369        96588         23                  1"
      ]
     },
     "execution_count": 31,
     "metadata": {},
     "output_type": "execute_result"
    }
   ],
   "source": [
    "trainX.head(2)"
   ]
  },
  {
   "cell_type": "code",
   "execution_count": 32,
   "id": "9ea19f3a-ed66-4194-8274-a35ef95aac3d",
   "metadata": {},
   "outputs": [
    {
     "data": {
      "text/plain": [
       "3572     1\n",
       "16782    1\n",
       "Name: Approval, dtype: int32"
      ]
     },
     "execution_count": 32,
     "metadata": {},
     "output_type": "execute_result"
    }
   ],
   "source": [
    "trainY.head(2)"
   ]
  },
  {
   "cell_type": "code",
   "execution_count": 33,
   "id": "b1208bba-f142-4d28-a296-fa8ca3009d33",
   "metadata": {},
   "outputs": [
    {
     "name": "stdout",
     "output_type": "stream",
     "text": [
      "TrainX: (19200, 5)\n",
      "TrainY: (19200,)\n",
      "TestX: (4800, 5)\n",
      "TestY: (4800,)\n"
     ]
    }
   ],
   "source": [
    "print(\"TrainX:\",trainX.shape)\n",
    "print(\"TrainY:\",trainY.shape)\n",
    "print(\"TestX:\",testX.shape)\n",
    "print(\"TestY:\",testY.shape)"
   ]
  },
  {
   "cell_type": "markdown",
   "id": "cbe98f41-05ec-482e-bcae-e82fbe672bbe",
   "metadata": {},
   "source": [
    "## Training / Applying Classifier"
   ]
  },
  {
   "cell_type": "code",
   "execution_count": 34,
   "id": "499c60af-ebd1-4fd7-89ff-389e08b50e8d",
   "metadata": {},
   "outputs": [
    {
     "name": "stdout",
     "output_type": "stream",
     "text": [
      "SVC()\n"
     ]
    }
   ],
   "source": [
    "import pickle\n",
    "from sklearn.svm import SVC\n",
    "\n",
    "model_SVC = SVC()\n",
    "model_SVC.fit(trainX, trainY)\n",
    "\n",
    "print(model_SVC)"
   ]
  },
  {
   "cell_type": "code",
   "execution_count": 39,
   "id": "3e24ef1f-a350-4b0a-90f6-796c05ea80fd",
   "metadata": {},
   "outputs": [],
   "source": [
    "with open('svc_model.pkl', 'wb') as f:\n",
    "    pickle.dump(model_SVC, f)"
   ]
  },
  {
   "cell_type": "markdown",
   "id": "406c59fb-6a84-4532-b902-4e5356625d77",
   "metadata": {},
   "source": [
    "# Testing & Processing Results"
   ]
  },
  {
   "cell_type": "code",
   "execution_count": 40,
   "id": "33aefd42-e2a4-4fbe-9792-44e9a5e6b984",
   "metadata": {},
   "outputs": [],
   "source": [
    "svc_predictions = model_SVC.predict(testX)"
   ]
  },
  {
   "cell_type": "code",
   "execution_count": 41,
   "id": "69750f55-3edf-4705-925b-57b2da25e7dc",
   "metadata": {},
   "outputs": [
    {
     "name": "stdout",
     "output_type": "stream",
     "text": [
      "[1 1 1 ... 1 1 1]\n"
     ]
    }
   ],
   "source": [
    "print(svc_predictions)"
   ]
  },
  {
   "cell_type": "markdown",
   "id": "a43f87f3-0bb3-4c32-ae67-90ababb3f561",
   "metadata": {},
   "source": [
    "## Accuracy Score"
   ]
  },
  {
   "cell_type": "code",
   "execution_count": 42,
   "id": "4632fad1-8433-478c-af9c-9ea779ecd3d9",
   "metadata": {},
   "outputs": [
    {
     "name": "stdout",
     "output_type": "stream",
     "text": [
      "-- Model Accuracy: 0.843\n"
     ]
    }
   ],
   "source": [
    "from sklearn.metrics import accuracy_score\n",
    "svc_accuracy = accuracy_score(testY, svc_predictions)\n",
    "\n",
    "print(\"-- Model Accuracy: \", end=\"\")\n",
    "print(round(svc_accuracy,3))"
   ]
  },
  {
   "cell_type": "code",
   "execution_count": null,
   "id": "5fc6a429-74e5-4439-846a-00ccebd7e4eb",
   "metadata": {},
   "outputs": [],
   "source": []
  }
 ],
 "metadata": {
  "kernelspec": {
   "display_name": "Python 3 (ipykernel)",
   "language": "python",
   "name": "python3"
  },
  "language_info": {
   "codemirror_mode": {
    "name": "ipython",
    "version": 3
   },
   "file_extension": ".py",
   "mimetype": "text/x-python",
   "name": "python",
   "nbconvert_exporter": "python",
   "pygments_lexer": "ipython3",
   "version": "3.11.7"
  }
 },
 "nbformat": 4,
 "nbformat_minor": 5
}
