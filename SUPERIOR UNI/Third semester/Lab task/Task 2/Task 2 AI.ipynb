{
 "cells": [
  {
   "cell_type": "markdown",
   "id": "b7568e0c-5eec-4e4f-9a10-9db41090596b",
   "metadata": {},
   "source": [
    "# Task 1"
   ]
  },
  {
   "cell_type": "code",
   "execution_count": 1,
   "id": "175652fa-0d7c-45b9-90ef-4bdf07a4bbbf",
   "metadata": {},
   "outputs": [
    {
     "name": "stdout",
     "output_type": "stream",
     "text": [
      "Welcome to the FizzBuzz game!\n",
      "Let's decide how many rounds you want to play.\n"
     ]
    },
    {
     "name": "stdin",
     "output_type": "stream",
     "text": [
      "Enter the number of rounds:  2\n"
     ]
    },
    {
     "name": "stdout",
     "output_type": "stream",
     "text": [
      "Game Rules:\n",
      "\t 1. If the number is divisible by 3, display Fizz.\n",
      "\t 2. If the number is divisible by 5, display Buzz.\n",
      "\t 3. If divisible by both 3 and 5, display FizzBuzz.\n",
      "\t 4. If the number isn't divisible by 3 or 5, display the number itself.\n",
      "\n",
      "Round 1: The number is 3\n",
      "Fizz\n",
      "Round 2: The number is 30\n",
      "FizzBuzz\n",
      "Game Over! Thanks for playing!\n"
     ]
    }
   ],
   "source": [
    "import random\n",
    "\n",
    "def play_fizz_buzz():\n",
    "    print(\"Welcome to the FizzBuzz game!\")\n",
    "    print(\"Let's decide how many rounds you want to play.\")\n",
    "\n",
    "    while True:\n",
    "        rounds = int(input(\"Enter the number of rounds: \"))\n",
    "        if rounds <= 0:\n",
    "            print(\"Please input a positive number greater than 0.\")\n",
    "        else:\n",
    "            break\n",
    "\n",
    "    print(\"Game Rules:\")\n",
    "    print(\"\\t 1. If the number is divisible by 3, display Fizz.\")\n",
    "    print(\"\\t 2. If the number is divisible by 5, display Buzz.\")\n",
    "    print(\"\\t 3. If divisible by both 3 and 5, display FizzBuzz.\")\n",
    "    print(\"\\t 4. If the number isn't divisible by 3 or 5, display the number itself.\\n\")\n",
    "    \n",
    "    round_count = 1\n",
    "    \n",
    "    while round_count <= rounds:\n",
    "        number = random.randint(1, 50)  # Changed range to 1-50 for more variety\n",
    "        print(f\"Round {round_count}: The number is {number}\")\n",
    "\n",
    "        if number % 3 == 0 and number % 5 == 0:\n",
    "            print(\"FizzBuzz\")\n",
    "        elif number % 3 == 0:\n",
    "            print(\"Fizz\")\n",
    "        elif number % 5 == 0:\n",
    "            print(\"Buzz\")\n",
    "        else:\n",
    "            print(number)\n",
    "\n",
    "        round_count += 1\n",
    "\n",
    "    print(\"Game Over! Thanks for playing!\")\n",
    "\n",
    "play_fizz_buzz()"
   ]
  },
  {
   "cell_type": "markdown",
   "id": "54bd1bb3-ba9c-4eb4-94ec-ebbcfef965aa",
   "metadata": {},
   "source": [
    "# Task 2"
   ]
  },
  {
   "cell_type": "code",
   "execution_count": 4,
   "id": "edb44a69-8760-42fa-aba6-5a6ac66b43e6",
   "metadata": {},
   "outputs": [
    {
     "name": "stdout",
     "output_type": "stream",
     "text": [
      "The average budget of all films is: $190,500,000.00\n",
      "\n",
      "Films with budgets exceeding the average:\n",
      "Pirates of the Caribbean: On Stranger Tides has a high budget\n",
      "Avengers: Age of Ultron has a high budget\n",
      "Avengers: Endgame has a high budget\n",
      "Incredibles 2 has a high budget\n",
      "\n",
      "Total number of films with a budget higher than the average: 4\n"
     ]
    }
   ],
   "source": [
    "film_data = [\n",
    "    (\"Eternal Sunshine of the Spotless Mind\", 20000000),\n",
    "    (\"Memento\", 9000000),\n",
    "    (\"Requiem for a Dream\", 4500000),\n",
    "    (\"Pirates of the Caribbean: On Stranger Tides\", 379000000),\n",
    "    (\"Avengers: Age of Ultron\", 365000000),\n",
    "    (\"Avengers: Endgame\", 356000000),\n",
    "    (\"Incredibles 2\", 200000000)\n",
    "]\n",
    "\n",
    "def compute_average_budget(film_data):\n",
    "    total_spent = 0\n",
    "    for film in film_data:\n",
    "        total_spent += film[1]\n",
    "    average_spent = total_spent / len(film_data)\n",
    "    return average_spent\n",
    "\n",
    "def get_high_budget_films(film_list, avg_budget):\n",
    "    expensive_films = []\n",
    "    for film in film_list:\n",
    "        if film[1] > avg_budget:\n",
    "            expensive_films.append(film)\n",
    "    return expensive_films\n",
    "\n",
    "def display():\n",
    "    avg_budget = compute_average_budget(film_data)\n",
    "    print(f\"The average budget of all films is: ${avg_budget:,.2f}\")\n",
    "\n",
    "    expensive_films = get_high_budget_films(film_data, avg_budget)\n",
    "    print(\"\\nFilms with budgets exceeding the average:\")\n",
    "    for film in expensive_films:\n",
    "        print(f\"{film[0]} has a high budget\")\n",
    "\n",
    "    print(f\"\\nTotal number of films with a budget higher than the average: {len(expensive_films)}\")\n",
    "    \n",
    "display()"
   ]
  },
  {
   "cell_type": "code",
   "execution_count": null,
   "id": "1917656c-8f9a-4b2e-928f-b935a7ffbbe2",
   "metadata": {},
   "outputs": [],
   "source": []
  }
 ],
 "metadata": {
  "kernelspec": {
   "display_name": "Python 3 (ipykernel)",
   "language": "python",
   "name": "python3"
  },
  "language_info": {
   "codemirror_mode": {
    "name": "ipython",
    "version": 3
   },
   "file_extension": ".py",
   "mimetype": "text/x-python",
   "name": "python",
   "nbconvert_exporter": "python",
   "pygments_lexer": "ipython3",
   "version": "3.11.7"
  }
 },
 "nbformat": 4,
 "nbformat_minor": 5
}
