{
 "cells": [
  {
   "cell_type": "code",
   "execution_count": 2,
   "id": "64973387-3918-42c3-b49a-ce9468608fd8",
   "metadata": {},
   "outputs": [
    {
     "name": "stdin",
     "output_type": "stream",
     "text": [
      "Enter Length:  12\n",
      "Enter Breadth:  17\n"
     ]
    },
    {
     "name": "stdout",
     "output_type": "stream",
     "text": [
      "Rectangle: 12.0 * 17.0\n",
      "Area of the Rectangle: 204.0\n",
      "Perimeter of the Rectangle: 58.0\n"
     ]
    }
   ],
   "source": [
    "class Rectangle:\n",
    "    def __init__(self, length, breadth):\n",
    "        self.length = length\n",
    "        self.breadth = breadth\n",
    "\n",
    "    def __str__(self):\n",
    "        return f\"Rectangle: {self.length} * {self.breadth}\"\n",
    "\n",
    "    def calculate_area(self):\n",
    "        return self.length * self.breadth\n",
    "\n",
    "    def calculate_perimeter(self):\n",
    "        return 2 * (self.length + self.breadth)\n",
    "\n",
    "\n",
    "length = float(input(\"Enter Length: \"))\n",
    "breadth = float(input(\"Enter Breadth: \"))\n",
    "\n",
    "rectangle = Rectangle(length, breadth)\n",
    "print(rectangle)\n",
    "\n",
    "print(\"Area of the Rectangle:\", rectangle.calculate_area())\n",
    "print(\"Perimeter of the Rectangle:\", rectangle.calculate_perimeter())\n",
    "\n"
   ]
  },
  {
   "cell_type": "code",
   "execution_count": null,
   "id": "2ab690be-7830-4f29-a450-51e42a477e47",
   "metadata": {},
   "outputs": [],
   "source": []
  }
 ],
 "metadata": {
  "kernelspec": {
   "display_name": "Python 3 (ipykernel)",
   "language": "python",
   "name": "python3"
  },
  "language_info": {
   "codemirror_mode": {
    "name": "ipython",
    "version": 3
   },
   "file_extension": ".py",
   "mimetype": "text/x-python",
   "name": "python",
   "nbconvert_exporter": "python",
   "pygments_lexer": "ipython3",
   "version": "3.11.7"
  }
 },
 "nbformat": 4,
 "nbformat_minor": 5
}
