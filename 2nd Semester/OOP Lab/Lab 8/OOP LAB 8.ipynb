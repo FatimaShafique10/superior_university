{
 "cells": [
  {
   "cell_type": "code",
   "execution_count": 1,
   "id": "c746fddb-a92c-4075-9caf-9489ac4e2368",
   "metadata": {},
   "outputs": [
    {
     "name": "stdout",
     "output_type": "stream",
     "text": [
      "\n",
      "Employee Management System\n",
      "1. Display all employee details\n",
      "2. Add a new employee\n",
      "3. Save and exit\n"
     ]
    },
    {
     "name": "stdin",
     "output_type": "stream",
     "text": [
      "Enter your choice:  2\n",
      "Enter employee name:  fatima\n",
      "Enter employee age:  20\n",
      "Enter employee ID:  2230\n",
      "Enter employee position:  software engineer\n",
      "Enter department:  IT\n"
     ]
    },
    {
     "name": "stdout",
     "output_type": "stream",
     "text": [
      "\n",
      "Employee Management System\n",
      "1. Display all employee details\n",
      "2. Add a new employee\n",
      "3. Save and exit\n"
     ]
    },
    {
     "name": "stdin",
     "output_type": "stream",
     "text": [
      "Enter your choice:  3\n"
     ]
    },
    {
     "name": "stdout",
     "output_type": "stream",
     "text": [
      "Employee data saved. Exiting...\n"
     ]
    }
   ],
   "source": [
    "import os\n",
    "\n",
    "class Person:\n",
    "    def __init__(self, name, age):\n",
    "        self.name = name\n",
    "        self.age = age\n",
    "\n",
    "    def display_info(self):\n",
    "        print(f\"Name: {self.name}, Age: {self.age}\")\n",
    "\n",
    "\n",
    "class Employee:\n",
    "    def __init__(self, employee_id, position):\n",
    "        self.employee_id = employee_id\n",
    "        self.position = position\n",
    "\n",
    "    def display_info(self):\n",
    "        print(f\"Employee ID: {self.employee_id}, Position: {self.position}\")\n",
    "\n",
    "\n",
    "class Staff(Person, Employee):\n",
    "    def __init__(self, name, age, employee_id, position, department):\n",
    "        Person.__init__(self, name, age)\n",
    "        Employee.__init__(self, employee_id, position)\n",
    "        self.department = department\n",
    "\n",
    "    def display_info(self):\n",
    "        Person.display_info(self)\n",
    "        Employee.display_info(self)\n",
    "\n",
    "    def additional_info(self):\n",
    "        print(f\"Department: {self.department}\")\n",
    "\n",
    "\n",
    "def read_employee_data(file_path):\n",
    "    staff_list = []\n",
    "    if not os.path.exists(file_path):\n",
    "        with open(file_path, mode='w') as file:\n",
    "            file.write(\"Name, Age, Employee ID, Position, Department\\n\")\n",
    "    else:\n",
    "        with open(file_path, mode='r') as file:\n",
    "            lines = file.readlines()\n",
    "            for line in lines[1:]:\n",
    "                if line.strip():\n",
    "                    name, age, employee_id, position, department = line.strip().split(\", \")\n",
    "                    staff_list.append(Staff(name, int(age), employee_id, position, department))\n",
    "    return staff_list\n",
    "\n",
    "\n",
    "def save_employee_data(file_path, staff_list):\n",
    "    with open(file_path, mode='w') as file:\n",
    "        file.write(\"Name, Age, Employee ID, Position, Department\\n\")\n",
    "        for staff in staff_list:\n",
    "            file.write(f\"{staff.name}, {staff.age}, {staff.employee_id}, {staff.position}, {staff.department}\\n\")\n",
    "\n",
    "\n",
    "def add_employee(staff_list, name, age, employee_id, position, department):\n",
    "    new_staff = Staff(name, age, employee_id, position, department)\n",
    "    staff_list.append(new_staff)\n",
    "\n",
    "\n",
    "def main():\n",
    "    file_path = \"employee_data.txt\"\n",
    "\n",
    "    staff_list = read_employee_data(file_path)\n",
    "\n",
    "    while True:\n",
    "        print(\"\\nEmployee Management System\")\n",
    "        print(\"1. Display all employee details\")\n",
    "        print(\"2. Add a new employee\")\n",
    "        print(\"3. Save and exit\")\n",
    "        choice = input(\"Enter your choice: \")\n",
    "\n",
    "        if choice == \"1\":\n",
    "            print(\"\\nEmployee Details:\")\n",
    "            for staff in staff_list:\n",
    "                staff.display_info()\n",
    "                staff.additional_info()\n",
    "                print(\"-\" * 30)\n",
    "        elif choice == \"2\":\n",
    "            name = input(\"Enter employee name: \")\n",
    "            age = int(input(\"Enter employee age: \"))\n",
    "            employee_id = input(\"Enter employee ID: \")\n",
    "            position = input(\"Enter employee position: \")\n",
    "            department = input(\"Enter department: \")\n",
    "            add_employee(staff_list, name, age, employee_id, position, department)\n",
    "        elif choice == \"3\":\n",
    "            save_employee_data(file_path, staff_list)\n",
    "            print(\"Employee data saved. Exiting...\")\n",
    "            break\n",
    "        else:\n",
    "            print(\"Invalid choice. Please try again.\")\n",
    "\n",
    "\n",
    "main()"
   ]
  },
  {
   "cell_type": "code",
   "execution_count": null,
   "id": "8bb20936-b939-41ba-839c-31e95b252356",
   "metadata": {},
   "outputs": [],
   "source": []
  }
 ],
 "metadata": {
  "kernelspec": {
   "display_name": "Python 3 (ipykernel)",
   "language": "python",
   "name": "python3"
  },
  "language_info": {
   "codemirror_mode": {
    "name": "ipython",
    "version": 3
   },
   "file_extension": ".py",
   "mimetype": "text/x-python",
   "name": "python",
   "nbconvert_exporter": "python",
   "pygments_lexer": "ipython3",
   "version": "3.11.7"
  }
 },
 "nbformat": 4,
 "nbformat_minor": 5
}
