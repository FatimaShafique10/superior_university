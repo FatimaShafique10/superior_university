{
 "cells": [
  {
   "cell_type": "code",
   "execution_count": 2,
   "id": "43a04b96-8230-4fb6-b1e8-d6d4dfdc73ad",
   "metadata": {},
   "outputs": [
    {
     "name": "stdout",
     "output_type": "stream",
     "text": [
      "Make: Toyota\n",
      "Model: Camry\n",
      "Make: Honda\n",
      "Model: Civic\n",
      "Number of Doors: 4\n",
      "Make: Mercedes\n",
      "Model: S-Class\n",
      "Luxury Features: Leather Seats, Premium Sound System\n"
     ]
    }
   ],
   "source": [
    "class Vehicle:\n",
    "    def __init__(self, make, model):\n",
    "        self.make = make\n",
    "        self.model = model\n",
    "\n",
    "    def display_info(self):\n",
    "        print(f\"Make: {self.make}\\nModel: {self.model}\")\n",
    "\n",
    "\n",
    "class Car(Vehicle):\n",
    "    def __init__(self, make, model, num_doors):\n",
    "        super().__init__(make, model)\n",
    "        self.num_doors = num_doors\n",
    "\n",
    "    def additional_info(self):\n",
    "        print(f\"Number of Doors: {self.num_doors}\")\n",
    "\n",
    "\n",
    "class LuxuryCar(Car):\n",
    "    def __init__(self, make, model, num_doors, features):\n",
    "        super().__init__(make, model, num_doors)\n",
    "        self.features = features\n",
    "\n",
    "    def additional_info(self):\n",
    "        print(f\"Luxury Features: {', '.join(self.features)}\")\n",
    "\n",
    "\n",
    "vehicle = Vehicle(\"Toyota\", \"Camry\")\n",
    "vehicle.display_info()\n",
    "\n",
    "\n",
    "car = Car(\"Honda\", \"Civic\", 4)\n",
    "car.display_info()\n",
    "car.additional_info()\n",
    "\n",
    "\n",
    "luxury_car = LuxuryCar(\"Mercedes\", \"S-Class\", 4, [\"Leather Seats\", \"Premium Sound System\"])\n",
    "luxury_car.display_info()\n",
    "luxury_car.additional_info()\n"
   ]
  },
  {
   "cell_type": "code",
   "execution_count": null,
   "id": "813b148e-ac56-4f2e-9b93-6a7c84c28443",
   "metadata": {},
   "outputs": [],
   "source": []
  }
 ],
 "metadata": {
  "kernelspec": {
   "display_name": "Python 3 (ipykernel)",
   "language": "python",
   "name": "python3"
  },
  "language_info": {
   "codemirror_mode": {
    "name": "ipython",
    "version": 3
   },
   "file_extension": ".py",
   "mimetype": "text/x-python",
   "name": "python",
   "nbconvert_exporter": "python",
   "pygments_lexer": "ipython3",
   "version": "3.11.7"
  }
 },
 "nbformat": 4,
 "nbformat_minor": 5
}
