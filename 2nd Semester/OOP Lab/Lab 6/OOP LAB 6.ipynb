{
 "cells": [
  {
   "cell_type": "code",
   "execution_count": 1,
   "id": "51de2453-2546-40c4-8045-d31e915be1f6",
   "metadata": {},
   "outputs": [
    {
     "name": "stdin",
     "output_type": "stream",
     "text": [
      "Enter U for Undergraduate or G for Graduate:  g\n",
      "Enter the course code:  AI101\n",
      "Enter the course name:  AI\n",
      "Enter the research area:  Human-Computer Interaction\n"
     ]
    },
    {
     "name": "stdout",
     "output_type": "stream",
     "text": [
      "Course Code: AI101\n",
      "Course Name: AI\n",
      "Research Area: Human-Computer Interaction\n"
     ]
    }
   ],
   "source": [
    "class Course:\n",
    "    def __init__(self, course_code, course_name):\n",
    "        self.course_code = course_code\n",
    "        self.course_name = course_name\n",
    "\n",
    "    def display_info(self):\n",
    "        print(f\"Course Code: {self.course_code}\\nCourse Name: {self.course_name}\")\n",
    "\n",
    "\n",
    "class UndergraduateCourse(Course):\n",
    "    def __init__(self, course_code, course_name, year_level):\n",
    "        super().__init__(course_code, course_name)\n",
    "        self.year_level = year_level\n",
    "\n",
    "    def additional_info(self):\n",
    "        print(f\"Year Level: {self.year_level}\")\n",
    "\n",
    "\n",
    "class GraduateCourse(Course):\n",
    "    def __init__(self, course_code, course_name, research_area):\n",
    "        super().__init__(course_code, course_name)\n",
    "        self.research_area = research_area\n",
    "\n",
    "    def additional_info(self):\n",
    "        print(f\"Research Area: {self.research_area}\")\n",
    "\n",
    "\n",
    "def register_course():\n",
    "    course_type = input(\"Enter U for Undergraduate or G for Graduate: \").strip().upper()\n",
    "    course_code = input(\"Enter the course code: \")\n",
    "    course_name = input(\"Enter the course name: \")\n",
    "\n",
    "    if course_type == 'U':\n",
    "        year_level = input(\"Enter the year level (e.g., Freshman, Sophomore, etc.): \")\n",
    "        course = UndergraduateCourse(course_code, course_name, year_level)\n",
    "    elif course_type == 'G':\n",
    "        research_area = input(\"Enter the research area: \")\n",
    "        course = GraduateCourse(course_code, course_name, research_area)\n",
    "    else:\n",
    "        print(\"Invalid input. Please enter 'U' for Undergraduate or 'G' for Graduate.\")\n",
    "        return\n",
    "\n",
    "    course.display_info()\n",
    "    course.additional_info()\n",
    "\n",
    "register_course()\n"
   ]
  },
  {
   "cell_type": "code",
   "execution_count": null,
   "id": "6297076d-373e-4dd8-a5a6-a72261dabd7e",
   "metadata": {},
   "outputs": [],
   "source": []
  }
 ],
 "metadata": {
  "kernelspec": {
   "display_name": "Python 3 (ipykernel)",
   "language": "python",
   "name": "python3"
  },
  "language_info": {
   "codemirror_mode": {
    "name": "ipython",
    "version": 3
   },
   "file_extension": ".py",
   "mimetype": "text/x-python",
   "name": "python",
   "nbconvert_exporter": "python",
   "pygments_lexer": "ipython3",
   "version": "3.11.7"
  }
 },
 "nbformat": 4,
 "nbformat_minor": 5
}
