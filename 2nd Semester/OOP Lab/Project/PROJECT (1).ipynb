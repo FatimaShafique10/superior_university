{
 "cells": [
  {
   "cell_type": "code",
   "execution_count": null,
   "id": "8f28ffcd-a14c-453b-be54-b1e6c4b9f1ff",
   "metadata": {},
   "outputs": [
    {
     "name": "stdin",
     "output_type": "stream",
     "text": [
      "Enter your username:   Shahzadi\n",
      "Would you like to 'add', 'remove', 'checkout', 'load cart', 'save cart','available' or 'exit'?  add\n",
      "Enter the name of the product to add and the quantity (Product name/quantity):  Knife,79.99,90\n"
     ]
    },
    {
     "name": "stdout",
     "output_type": "stream",
     "text": [
      "Invalid format. Please enter in the form 'Product name/quantity'.\n"
     ]
    },
    {
     "name": "stdin",
     "output_type": "stream",
     "text": [
      "Would you like to 'add', 'remove', 'checkout', 'load cart', 'save cart','available' or 'exit'?  add\n",
      "Enter the name of the product to add and the quantity (Product name/quantity):  Racket,49.99,40\n"
     ]
    },
    {
     "name": "stdout",
     "output_type": "stream",
     "text": [
      "Invalid format. Please enter in the form 'Product name/quantity'.\n"
     ]
    },
    {
     "name": "stdin",
     "output_type": "stream",
     "text": [
      "Would you like to 'add', 'remove', 'checkout', 'load cart', 'save cart','available' or 'exit'?  add\n",
      "Enter the name of the product to add and the quantity (Product name/quantity):  WaffleMaker,39.99,120\n"
     ]
    },
    {
     "name": "stdout",
     "output_type": "stream",
     "text": [
      "Invalid format. Please enter in the form 'Product name/quantity'.\n"
     ]
    },
    {
     "name": "stdin",
     "output_type": "stream",
     "text": [
      "Would you like to 'add', 'remove', 'checkout', 'load cart', 'save cart','available' or 'exit'?  exixt\n"
     ]
    },
    {
     "name": "stdout",
     "output_type": "stream",
     "text": [
      "Invalid action. Please choose again.\n"
     ]
    },
    {
     "name": "stdin",
     "output_type": "stream",
     "text": [
      "Would you like to 'add', 'remove', 'checkout', 'load cart', 'save cart','available' or 'exit'?  exixt\n"
     ]
    },
    {
     "name": "stdout",
     "output_type": "stream",
     "text": [
      "Invalid action. Please choose again.\n"
     ]
    },
    {
     "name": "stdin",
     "output_type": "stream",
     "text": [
      "Would you like to 'add', 'remove', 'checkout', 'load cart', 'save cart','available' or 'exit'?  exixt\n"
     ]
    },
    {
     "name": "stdout",
     "output_type": "stream",
     "text": [
      "Invalid action. Please choose again.\n"
     ]
    },
    {
     "name": "stdin",
     "output_type": "stream",
     "text": [
      "Would you like to 'add', 'remove', 'checkout', 'load cart', 'save cart','available' or 'exit'?  checkout\n"
     ]
    },
    {
     "name": "stdout",
     "output_type": "stream",
     "text": [
      "Your cart is empty!\n"
     ]
    },
    {
     "name": "stdin",
     "output_type": "stream",
     "text": [
      "Would you like to 'add', 'remove', 'checkout', 'load cart', 'save cart','available' or 'exit'?  checkout\n"
     ]
    },
    {
     "name": "stdout",
     "output_type": "stream",
     "text": [
      "Your cart is empty!\n"
     ]
    }
   ],
   "source": [
    "import os\n",
    "\n",
    "class Item:\n",
    "    def __init__(self, name, price, stock):\n",
    "        self._name = name\n",
    "        self._price = price\n",
    "        self._stock = stock\n",
    "\n",
    "    def get_name(self):\n",
    "        return self._name\n",
    "\n",
    "    def get_price(self):\n",
    "        return self._price\n",
    "\n",
    "    def get_stock(self):\n",
    "        return self._stock\n",
    "\n",
    "    def set_stock(self, stock):\n",
    "        if stock >= 0:\n",
    "            self._stock = stock\n",
    "\n",
    "    def __str__(self):\n",
    "        return f\"{self._name}: ${self._price:.2f} (Stock: {self._stock})\"\n",
    "\n",
    "\n",
    "class Product(Item):\n",
    "    def __init__(self, name, price, stock):\n",
    "        super().__init__(name, price, stock)\n",
    "\n",
    "\n",
    "class PaymentProcessor:\n",
    "    def process_payment(self, amount):\n",
    "        raise NotImplementedError(\"Subclasses should implement this method\")\n",
    "\n",
    "\n",
    "class CreditCardPayment(PaymentProcessor):\n",
    "    def process_payment(self, amount):\n",
    "        print(f\"Processing credit card payment of ${amount:.2f}...\")\n",
    "        return True\n",
    "\n",
    "\n",
    "class DebitCardPayment(PaymentProcessor):\n",
    "    def process_payment(self, amount):\n",
    "        print(f\"Processing debit card payment of ${amount:.2f}...\")\n",
    "        return True\n",
    "\n",
    "\n",
    "class Cart:\n",
    "    def __init__(self):\n",
    "        self._items = []\n",
    "\n",
    "    def add_product(self, product, quantity):\n",
    "        available_stock = product.get_stock()\n",
    "        if available_stock > 0:\n",
    "            if quantity <= available_stock:\n",
    "                for _ in range(quantity):\n",
    "                    self._items.append(product)\n",
    "                product.set_stock(available_stock - quantity)\n",
    "                print(f\"Added {quantity} x {product.get_name()} to the cart. Total price: ${product.get_price() * quantity:.2f}\")\n",
    "            else:\n",
    "                print(f\"Sorry, we only have {available_stock} of {product.get_name()} in stock.\")\n",
    "        else:\n",
    "            print(f\"Sorry, {product.get_name()} is out of stock.\")\n",
    "\n",
    "    def remove_product(self, product_name):\n",
    "        for item in self._items:\n",
    "            if item.get_name().lower() == product_name.lower():\n",
    "                self._items.remove(item)\n",
    "                item.set_stock(item.get_stock() + 1)  # Increment stock of the product\n",
    "                print(f\"Removed {item.get_name()} from the cart.\")\n",
    "                return\n",
    "        print(f\"{product_name} not found in the cart.\")\n",
    "\n",
    "    def total_price(self):\n",
    "        return sum(item.get_price() for item in self._items)\n",
    "\n",
    "    def display_cart(self):\n",
    "        print(\"Your Cart:\")\n",
    "        for item in self._items:\n",
    "            print(item)\n",
    "        print(f\"Total: ${self.total_price():.2f}\")\n",
    "\n",
    "    def save_cart(self, filename):\n",
    "        with open(filename, 'w') as file:\n",
    "            for item in self._items:\n",
    "                file.write(f\"{item.get_name()},{item.get_price()},{1}\\n\")  # Save 1 unit of the item\n",
    "        print(f\"Cart saved to {filename}.\")\n",
    "\n",
    "    def load_cart(self, filename, available_products):\n",
    "        if os.path.exists(filename):\n",
    "            with open(filename, 'r') as file:\n",
    "                lines = file.readlines()\n",
    "                for line in lines:\n",
    "                    name, price, quantity = line.strip().split(',')\n",
    "                    price = float(price)\n",
    "                    quantity = int(quantity)\n",
    "                    for product in available_products:\n",
    "                        if product.get_name().lower() == name.lower():\n",
    "                            if product.get_stock() >= quantity:\n",
    "                                for _ in range(quantity):\n",
    "                                    self._items.append(product)\n",
    "                                product.set_stock(product.get_stock() - quantity)\n",
    "                            break\n",
    "            print(f\"Cart loaded from {filename}.\")\n",
    "        else:\n",
    "            print(\"No saved cart found.\")\n",
    "\n",
    "\n",
    "class User:\n",
    "    def __init__(self, username):\n",
    "        self._username = username\n",
    "        self._cart = Cart()\n",
    "\n",
    "    def add_to_cart(self, product, quantity):\n",
    "        self._cart.add_product(product, quantity)\n",
    "\n",
    "    def remove_from_cart(self, product_name):\n",
    "        self._cart.remove_product(product_name)\n",
    "\n",
    "    def checkout(self):\n",
    "        total = self._cart.total_price()\n",
    "        if total > 0:\n",
    "            print(f\"{self._username}, your total is ${total:.2f}.\")\n",
    "            payment_method = input(\"Enter payment method (credit/debit): \").lower()\n",
    "            processor = None\n",
    "\n",
    "            if payment_method == 'credit':\n",
    "                processor = CreditCardPayment()\n",
    "            elif payment_method == 'debit':\n",
    "                processor = DebitCardPayment()\n",
    "\n",
    "            if processor and self.process_payment(total, processor):\n",
    "                print(\"Payment successful! Thank you for your purchase.\")\n",
    "                self._cart._items.clear()\n",
    "                self._cart.save_cart(f'{self._username}_cart.txt')\n",
    "            else:\n",
    "                print(\"Payment failed. Please try again.\")\n",
    "        else:\n",
    "            print(\"Your cart is empty!\")\n",
    "\n",
    "    def process_payment(self, amount, processor: PaymentProcessor):\n",
    "        return processor.process_payment(amount)\n",
    "\n",
    "\n",
    "def load_products():\n",
    "    if os.path.exists(\"products.txt\"):\n",
    "        products = []\n",
    "        with open(\"products.txt\", \"r\") as file:\n",
    "            for line in file:\n",
    "                name, price, stock = line.strip().split(',')\n",
    "                products.append(Product(name, float(price), int(stock)))\n",
    "        return products\n",
    "    else:\n",
    "        print(\"Products file not found.\")\n",
    "        return []\n",
    "\n",
    "\n",
    "def save_products(products):\n",
    "    with open(\"products.txt\", \"w\") as file:\n",
    "        for product in products:\n",
    "            file.write(f\"{product.get_name()},{product.get_price()},{product.get_stock()}\\n\")\n",
    "\n",
    "\n",
    "def shopping_session():\n",
    "    products = load_products()\n",
    "    if not products:\n",
    "        print(\"No products available. Exiting.\")\n",
    "        return\n",
    "\n",
    "    username = input(\"Enter your username: \")\n",
    "    user = User(username)\n",
    "\n",
    "    while True:\n",
    "        action = input(\"Would you like to 'add', 'remove', 'checkout', 'load cart', 'save cart','available' or 'exit'? \").lower()\n",
    "\n",
    "        if action == 'available':\n",
    "            print(\"\\nAvailable Products:\")\n",
    "            for product in products:\n",
    "                print(product) \n",
    "\n",
    "        if action == 'add':\n",
    "            product_input = input(\"Enter the name of the product to add and the quantity (Product name/quantity): \")\n",
    "\n",
    "            if '/' in product_input:\n",
    "                product_name, quantity_str = product_input.split('/')\n",
    "                \n",
    "                if quantity_str.isdigit():\n",
    "                    quantity = int(quantity_str)\n",
    "\n",
    "                    product = next((p for p in products if p.get_name().lower() == product_name.lower()), None)\n",
    "\n",
    "                    if product:\n",
    "                        if quantity <= product.get_stock():\n",
    "                            user.add_to_cart(product, quantity)\n",
    "                        else:\n",
    "                            print(f\"Sorry, we only have {product.get_stock()} of {product_name} in stock.\")\n",
    "                    else:\n",
    "                        print(f\"Product '{product_name}' not found in the inventory.\")\n",
    "                else:\n",
    "                    print(\"Invalid quantity. Please enter a valid integer.\")\n",
    "            else:\n",
    "                print(\"Invalid format. Please enter in the form 'Product name/quantity'.\")\n",
    "\n",
    "        elif action == 'remove':\n",
    "            product_name = input(\"Enter the name of the product to remove: \")\n",
    "            user.remove_from_cart(product_name)\n",
    "        \n",
    "        elif action == 'checkout':\n",
    "            user.checkout()\n",
    "        \n",
    "        elif action == 'load cart':\n",
    "            user._cart.load_cart(f'{username}_cart.txt', products)\n",
    "\n",
    "        elif action == 'save cart':\n",
    "            user._cart.save_cart(f'{username}_cart.txt')\n",
    "        \n",
    "        elif action == 'exit':\n",
    "            print(\"Thank you for visiting!\")\n",
    "            save_products(products) \n",
    "            break\n",
    "        \n",
    "        else:\n",
    "            print(\"Invalid action. Please choose again.\")\n",
    "\n",
    "\n",
    "\n",
    "shopping_session()"
   ]
  },
  {
   "cell_type": "code",
   "execution_count": null,
   "id": "e5fa6723-5b88-458b-83f8-4680f6b6877f",
   "metadata": {},
   "outputs": [],
   "source": []
  }
 ],
 "metadata": {
  "kernelspec": {
   "display_name": "Python 3 (ipykernel)",
   "language": "python",
   "name": "python3"
  },
  "language_info": {
   "codemirror_mode": {
    "name": "ipython",
    "version": 3
   },
   "file_extension": ".py",
   "mimetype": "text/x-python",
   "name": "python",
   "nbconvert_exporter": "python",
   "pygments_lexer": "ipython3",
   "version": "3.11.7"
  }
 },
 "nbformat": 4,
 "nbformat_minor": 5
}
