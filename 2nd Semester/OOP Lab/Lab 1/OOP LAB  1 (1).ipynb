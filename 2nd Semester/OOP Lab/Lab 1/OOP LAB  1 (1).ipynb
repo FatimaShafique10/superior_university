{
 "cells": [
  {
   "cell_type": "code",
   "execution_count": 1,
   "id": "a42c4852-a175-40d3-a715-e849d79728f1",
   "metadata": {},
   "outputs": [
    {
     "name": "stdin",
     "output_type": "stream",
     "text": [
      "Would you like to check if a number is prime? (yes/no):  yes\n",
      "Enter a number:  23\n"
     ]
    },
    {
     "name": "stdout",
     "output_type": "stream",
     "text": [
      "It is a Prime Number\n"
     ]
    },
    {
     "name": "stdin",
     "output_type": "stream",
     "text": [
      "Would you like to check if a number is prime? (yes/no):  no\n"
     ]
    },
    {
     "name": "stdout",
     "output_type": "stream",
     "text": [
      "Goodbye!\n"
     ]
    }
   ],
   "source": [
    "def is_prime(number):\n",
    "    if number < 2:\n",
    "        return \"It is not a Prime Number\"\n",
    "    if number == 2:\n",
    "        return \"It is a Prime Number\"\n",
    "    if number % 2 == 0:\n",
    "        return \"It is not a Prime Number\"\n",
    "    \n",
    "        for i in range(3, number):\n",
    "            if number % i == 0:\n",
    "                return \"It is not a Prime Number\"\n",
    "    \n",
    "    return \"It is a Prime Number\"\n",
    "\n",
    "while True:\n",
    "    user_input = input(\"Would you like to check if a number is prime? (yes/no): \").lower()\n",
    "    if user_input == \"no\":\n",
    "        print(\"Goodbye!\")\n",
    "        break\n",
    "    elif user_input == \"yes\":\n",
    "        number = int(input(\"Enter a number: \"))\n",
    "        result = is_prime(number)\n",
    "        print(result)"
   ]
  },
  {
   "cell_type": "code",
   "execution_count": null,
   "id": "3cca5d6c-fac9-41d9-bf20-fdd9106f356d",
   "metadata": {},
   "outputs": [],
   "source": []
  }
 ],
 "metadata": {
  "kernelspec": {
   "display_name": "Python 3 (ipykernel)",
   "language": "python",
   "name": "python3"
  },
  "language_info": {
   "codemirror_mode": {
    "name": "ipython",
    "version": 3
   },
   "file_extension": ".py",
   "mimetype": "text/x-python",
   "name": "python",
   "nbconvert_exporter": "python",
   "pygments_lexer": "ipython3",
   "version": "3.11.7"
  }
 },
 "nbformat": 4,
 "nbformat_minor": 5
}
