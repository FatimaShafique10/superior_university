{
 "cells": [
  {
   "cell_type": "code",
   "execution_count": 3,
   "id": "eb35b4f8-acb4-49ce-bd4f-1be9f3e51a52",
   "metadata": {},
   "outputs": [
    {
     "name": "stdout",
     "output_type": "stream",
     "text": [
      "'Brave New World' by Aldous Huxley (Released: 1932)\n",
      "Brave New World by Aldous Huxley, published in 1932.\n"
     ]
    }
   ],
   "source": [
    "class Book:\n",
    "    def __init__(self, title, creator, pub_year):\n",
    "        self.title = title\n",
    "        self.creator = creator\n",
    "        self.pub_year = pub_year\n",
    "\n",
    "    def __str__(self):\n",
    "        return f\"'{self.title}' by {self.creator} (Released: {self.pub_year})\"\n",
    "\n",
    "\n",
    "book = Book(\"Brave New World\", \"Aldous Huxley\", 1932)\n",
    "print(book)\n",
    "\n",
    "print(f\"{book.title} by {book.creator}, published in {book.pub_year}.\")\n"
   ]
  },
  {
   "cell_type": "code",
   "execution_count": null,
   "id": "533c225a-5785-4a79-a44b-8c5f5be8ae86",
   "metadata": {},
   "outputs": [],
   "source": []
  }
 ],
 "metadata": {
  "kernelspec": {
   "display_name": "Python 3 (ipykernel)",
   "language": "python",
   "name": "python3"
  },
  "language_info": {
   "codemirror_mode": {
    "name": "ipython",
    "version": 3
   },
   "file_extension": ".py",
   "mimetype": "text/x-python",
   "name": "python",
   "nbconvert_exporter": "python",
   "pygments_lexer": "ipython3",
   "version": "3.11.7"
  }
 },
 "nbformat": 4,
 "nbformat_minor": 5
}
