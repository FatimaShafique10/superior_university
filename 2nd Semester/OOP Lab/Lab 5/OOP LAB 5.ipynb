{
 "cells": [
  {
   "cell_type": "code",
   "execution_count": 1,
   "id": "039fd8f2-d601-4b9a-a9dd-054d851424ba",
   "metadata": {},
   "outputs": [
    {
     "name": "stdout",
     "output_type": "stream",
     "text": [
      "Title: A Case of Exploding Mangoes, Author: Mohammed Hanif\n",
      "Pages: 288\n",
      "Title: Time, Author: Various Contributors\n",
      "Issue Number: 203\n"
     ]
    }
   ],
   "source": [
    "class Item:\n",
    "    def __init__(self, title, author):\n",
    "        self.title = title\n",
    "        self.author = author\n",
    "\n",
    "    def display_info(self):\n",
    "        print(f\"Title: {self.title}, Author: {self.author}\")\n",
    "\n",
    "\n",
    "class Book(Item):\n",
    "    def __init__(self, title, author, pages):\n",
    "        super().__init__(title, author)\n",
    "        self.pages = pages\n",
    "\n",
    "    def additional_info(self):\n",
    "        print(f\"Pages: {self.pages}\")\n",
    "\n",
    "\n",
    "class Magazine(Item):\n",
    "    def __init__(self, title, author, issue_number):\n",
    "        super().__init__(title, author)\n",
    "        self.issue_number = issue_number\n",
    "\n",
    "    def additional_info(self):\n",
    "        print(f\"Issue Number: {self.issue_number}\")\n",
    "\n",
    "\n",
    "book = Book(\"A Case of Exploding Mangoes\", \"Mohammed Hanif\", 288)\n",
    "magazine = Magazine(\"Time\", \"Various Contributors\", 203)\n",
    "\n",
    "book.display_info()\n",
    "book.additional_info()\n",
    "\n",
    "magazine.display_info()\n",
    "magazine.additional_info()"
   ]
  },
  {
   "cell_type": "code",
   "execution_count": null,
   "id": "7535bb25-b248-4971-994b-6a89151b5fca",
   "metadata": {},
   "outputs": [],
   "source": []
  }
 ],
 "metadata": {
  "kernelspec": {
   "display_name": "Python 3 (ipykernel)",
   "language": "python",
   "name": "python3"
  },
  "language_info": {
   "codemirror_mode": {
    "name": "ipython",
    "version": 3
   },
   "file_extension": ".py",
   "mimetype": "text/x-python",
   "name": "python",
   "nbconvert_exporter": "python",
   "pygments_lexer": "ipython3",
   "version": "3.11.7"
  }
 },
 "nbformat": 4,
 "nbformat_minor": 5
}
