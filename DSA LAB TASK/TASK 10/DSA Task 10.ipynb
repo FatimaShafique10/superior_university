{
 "cells": [
  {
   "cell_type": "markdown",
   "id": "1acae03f-c6d7-4268-9c13-ad08cbaa2201",
   "metadata": {},
   "source": [
    "# Task 1"
   ]
  },
  {
   "cell_type": "code",
   "execution_count": 2,
   "id": "02f23d0e-3ebc-40e5-8706-5f0c1f884eb4",
   "metadata": {},
   "outputs": [
    {
     "name": "stdout",
     "output_type": "stream",
     "text": [
      "2\n"
     ]
    }
   ],
   "source": [
    "def linear_search(arr, target):\n",
    "    for i in range(len(arr)):\n",
    "        if arr[i] == target:\n",
    "            return i \n",
    "    return -1  \n",
    "\n",
    "arr = [10, 23, 45, 70, 11, 15]\n",
    "print(linear_search(arr, 45)) "
   ]
  },
  {
   "cell_type": "code",
   "execution_count": 4,
   "id": "278289e8-36fa-43d7-98db-69373d78cc65",
   "metadata": {},
   "outputs": [
    {
     "name": "stdout",
     "output_type": "stream",
     "text": [
      "3\n"
     ]
    }
   ],
   "source": [
    "def binary_search(arr, target):\n",
    "    left, right = 0, len(arr) - 1\n",
    "    while left <= right:\n",
    "        mid = (left + right) // 2\n",
    "        if arr[mid] == target:\n",
    "            return mid  \n",
    "        elif arr[mid] < target:\n",
    "            left = mid + 1\n",
    "        else:\n",
    "            right = mid - 1\n",
    "    return -1 \n",
    "\n",
    "sorted_arr = [10, 15, 23, 45, 70]\n",
    "print(binary_search(sorted_arr, 45)) "
   ]
  },
  {
   "cell_type": "code",
   "execution_count": 6,
   "id": "f76d6a90-e977-4f8b-bd1a-f44f43ebf761",
   "metadata": {},
   "outputs": [
    {
     "name": "stdout",
     "output_type": "stream",
     "text": [
      "Size: 1000 | Linear Search Time: 0.000000 sec | Binary Search Time: 0.000000 sec\n",
      "Size: 5000 | Linear Search Time: 0.000000 sec | Binary Search Time: 0.000000 sec\n",
      "Size: 10000 | Linear Search Time: 0.000000 sec | Binary Search Time: 0.000000 sec\n"
     ]
    }
   ],
   "source": [
    "import random\n",
    "import time\n",
    "\n",
    "def generate_random_list(size):\n",
    "    return [random.randint(0, 100000) for _ in range(size)]\n",
    "\n",
    "def compare_performance():\n",
    "    sizes = [1000, 5000, 10000]\n",
    "\n",
    "    for size in sizes:\n",
    "        arr = generate_random_list(size)\n",
    "        sorted_arr = sorted(arr)  \n",
    "\n",
    "        target = arr[random.randint(0, size - 1)]  \n",
    "\n",
    "       \n",
    "        start_time = time.time()\n",
    "        linear_search(arr, target)\n",
    "        linear_time = time.time() - start_time\n",
    "\n",
    "        \n",
    "        start_time = time.time()\n",
    "        binary_search(sorted_arr, target)\n",
    "        binary_time = time.time() - start_time\n",
    "\n",
    "        print(f\"Size: {size} | Linear Search Time: {linear_time:.6f} sec | Binary Search Time: {binary_time:.6f} sec\")\n",
    "\n",
    "compare_performance()"
   ]
  },
  {
   "cell_type": "markdown",
   "id": "bfaa0193-9b55-4432-82af-bdc89eb53540",
   "metadata": {},
   "source": [
    "# Task 2"
   ]
  },
  {
   "cell_type": "code",
   "execution_count": 9,
   "id": "f3db858a-fa4c-44bb-98cf-74250683d4b8",
   "metadata": {},
   "outputs": [
    {
     "name": "stdout",
     "output_type": "stream",
     "text": [
      "3\n"
     ]
    }
   ],
   "source": [
    "import math\n",
    "\n",
    "def jump_search(arr, target):\n",
    "    n = len(arr)\n",
    "    step = int(math.sqrt(n))  \n",
    "    prev = 0\n",
    "\n",
    "    while arr[min(step, n) - 1] < target:\n",
    "        prev = step\n",
    "        step += int(math.sqrt(n))\n",
    "        if prev >= n:\n",
    "            return -1 \n",
    "\n",
    "    for i in range(prev, min(step, n)):\n",
    "        if arr[i] == target:\n",
    "            return i \n",
    "    return -1  \n",
    "\n",
    "\n",
    "arr = [1, 3, 5, 7, 9, 11, 13, 15]\n",
    "print(jump_search(arr, 7))  "
   ]
  },
  {
   "cell_type": "code",
   "execution_count": 11,
   "id": "6fe8cb70-eab1-472b-9c32-efcf1c9b2b0f",
   "metadata": {},
   "outputs": [
    {
     "name": "stdout",
     "output_type": "stream",
     "text": [
      "3\n"
     ]
    }
   ],
   "source": [
    "def interpolation_search(arr, target):\n",
    "    low, high = 0, len(arr) - 1\n",
    "\n",
    "    while low <= high and target >= arr[low] and target <= arr[high]:\n",
    "        if low == high:\n",
    "            return low if arr[low] == target else -1\n",
    "\n",
    "       \n",
    "        pos = low + int(((target - arr[low]) * (high - low)) / (arr[high] - arr[low]))\n",
    "\n",
    "        if arr[pos] == target:\n",
    "            return pos\n",
    "        elif arr[pos] < target:\n",
    "            low = pos + 1\n",
    "        else:\n",
    "            high = pos - 1\n",
    "\n",
    "    return -1 \n",
    "\n",
    "\n",
    "print(interpolation_search(arr, 7))  "
   ]
  },
  {
   "cell_type": "code",
   "execution_count": 13,
   "id": "0fbcd69f-075e-4c82-a258-bbfeb0cc5a6f",
   "metadata": {},
   "outputs": [
    {
     "name": "stdout",
     "output_type": "stream",
     "text": [
      "Size: 1000 | Jump Search: 0.000000 sec | Interpolation Search: 0.000000 sec | Binary Search: 0.000000 sec\n",
      "Size: 5000 | Jump Search: 0.000000 sec | Interpolation Search: 0.000000 sec | Binary Search: 0.000000 sec\n",
      "Size: 10000 | Jump Search: 0.000000 sec | Interpolation Search: 0.000000 sec | Binary Search: 0.000000 sec\n"
     ]
    }
   ],
   "source": [
    "import random\n",
    "import time\n",
    "\n",
    "def generate_sorted_list(size):\n",
    "    return sorted(random.sample(range(1, 100000), size))\n",
    "\n",
    "def compare_search_algorithms():\n",
    "    sizes = [1000, 5000, 10000]\n",
    "\n",
    "    for size in sizes:\n",
    "        arr = generate_sorted_list(size)\n",
    "        target = arr[random.randint(0, size - 1)] \n",
    "\n",
    "        \n",
    "        start_time = time.time()\n",
    "        jump_search(arr, target)\n",
    "        jump_time = time.time() - start_time\n",
    "\n",
    "        \n",
    "        start_time = time.time()\n",
    "        interpolation_search(arr, target)\n",
    "        interpolation_time = time.time() - start_time\n",
    "\n",
    "        \n",
    "        start_time = time.time()\n",
    "        binary_search(arr, target)\n",
    "        binary_time = time.time() - start_time\n",
    "\n",
    "        print(f\"Size: {size} | Jump Search: {jump_time:.6f} sec | Interpolation Search: {interpolation_time:.6f} sec | Binary Search: {binary_time:.6f} sec\")\n",
    "\n",
    "compare_search_algorithms()"
   ]
  },
  {
   "cell_type": "markdown",
   "id": "26482d54-959f-4e89-b79f-d416e2744689",
   "metadata": {},
   "source": [
    "# Task 3"
   ]
  },
  {
   "cell_type": "code",
   "execution_count": 32,
   "id": "8b9d31b9-9d30-4689-ab60-dc2824ec02e3",
   "metadata": {},
   "outputs": [
    {
     "name": "stdout",
     "output_type": "stream",
     "text": [
      "4\n"
     ]
    }
   ],
   "source": [
    "def exponential_search(arr, target):\n",
    "    if arr[0] == target:\n",
    "        return 0\n",
    "\n",
    "    n = len(arr)\n",
    "    i = 1\n",
    "    while i < n and arr[i] <= target:\n",
    "        i *= 2\n",
    "\n",
    "    return binary_search(arr[:min(i, n)], target)\n",
    "\n",
    "def binary_search(arr, target):\n",
    "    left, right = 0, len(arr) - 1\n",
    "    while left <= right:\n",
    "        mid = (left + right) // 2\n",
    "        if arr[mid] == target:\n",
    "            return mid\n",
    "        elif arr[mid] < target:\n",
    "            left = mid + 1\n",
    "        else:\n",
    "            right = mid - 1\n",
    "    return -1\n",
    "\n",
    "\n",
    "arr = [2, 4, 8, 16, 32, 64, 128]\n",
    "print(exponential_search(arr, 32))  "
   ]
  },
  {
   "cell_type": "code",
   "execution_count": 34,
   "id": "537e29c0-b141-4bc4-af9f-eabdcc0500be",
   "metadata": {},
   "outputs": [
    {
     "name": "stdout",
     "output_type": "stream",
     "text": [
      "4\n"
     ]
    }
   ],
   "source": [
    "def fibonacci_search(arr, target):\n",
    "    n = len(arr)\n",
    "    fib_m2 = 0  \n",
    "    fib_m1 = 1 \n",
    "    fib_m = fib_m2 + fib_m1  \n",
    "\n",
    "    while fib_m < n:\n",
    "        fib_m2, fib_m1 = fib_m1, fib_m\n",
    "        fib_m = fib_m2 + fib_m1\n",
    "\n",
    "    offset = -1\n",
    "\n",
    "    while fib_m > 1:\n",
    "        i = min(offset + fib_m2, n - 1)\n",
    "        if arr[i] < target:\n",
    "            fib_m, fib_m1, fib_m2 = fib_m1, fib_m2, fib_m1 - fib_m2\n",
    "            offset = i\n",
    "        elif arr[i] > target:\n",
    "            fib_m, fib_m1, fib_m2 = fib_m2, fib_m2 - fib_m1, fib_m1 - fib_m2\n",
    "        else:\n",
    "            return i\n",
    "\n",
    "    if fib_m1 and offset + 1 < n and arr[offset + 1] == target:\n",
    "        return offset + 1\n",
    "\n",
    "    return -1\n",
    "\n",
    "\n",
    "print(fibonacci_search(arr, 32)) "
   ]
  },
  {
   "cell_type": "code",
   "execution_count": null,
   "id": "ef166243-1453-47dc-b123-7380a1e40d14",
   "metadata": {},
   "outputs": [],
   "source": []
  }
 ],
 "metadata": {
  "kernelspec": {
   "display_name": "Python [conda env:base] *",
   "language": "python",
   "name": "conda-base-py"
  },
  "language_info": {
   "codemirror_mode": {
    "name": "ipython",
    "version": 3
   },
   "file_extension": ".py",
   "mimetype": "text/x-python",
   "name": "python",
   "nbconvert_exporter": "python",
   "pygments_lexer": "ipython3",
   "version": "3.12.7"
  }
 },
 "nbformat": 4,
 "nbformat_minor": 5
}
