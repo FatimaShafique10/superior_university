{
 "cells": [
  {
   "cell_type": "markdown",
   "id": "3683baf8-7fcf-4a1d-b248-0b8d07910e8c",
   "metadata": {},
   "source": [
    "# Task 1"
   ]
  },
  {
   "cell_type": "code",
   "execution_count": 2,
   "id": "6c75158c-8bda-4fa2-8b23-52fdf965646f",
   "metadata": {},
   "outputs": [
    {
     "name": "stdout",
     "output_type": "stream",
     "text": [
      "[(1, 3), (6, 8), (8, 11)]\n"
     ]
    }
   ],
   "source": [
    "def activity_selection(activities):\n",
    "    \n",
    "    activities.sort(key=lambda x: x[1])\n",
    "    \n",
    "    selected_activities = []\n",
    "    last_end_time = 0\n",
    "\n",
    "    for activity in activities:\n",
    "        start, end = activity\n",
    "        if start >= last_end_time: \n",
    "            selected_activities.append(activity)\n",
    "            last_end_time = end\n",
    "\n",
    "    return selected_activities\n",
    "\n",
    "activities = [(1, 3), (2, 5), (3, 9), (6, 8), (8, 11)]\n",
    "print(activity_selection(activities)) "
   ]
  },
  {
   "cell_type": "markdown",
   "id": "0351097a-89bb-4669-a647-4bf3ccfd5167",
   "metadata": {},
   "source": [
    "# Task 2"
   ]
  },
  {
   "cell_type": "code",
   "execution_count": 5,
   "id": "910739a9-5dd9-437a-9729-3807e1220a89",
   "metadata": {},
   "outputs": [],
   "source": [
    "import heapq\n",
    "from collections import Counter\n",
    "\n",
    "class HuffmanNode:\n",
    "    def __init__(self, char, freq):\n",
    "        self.char = char\n",
    "        self.freq = freq\n",
    "        self.left = None\n",
    "        self.right = None\n",
    "\n",
    "    def __lt__(self, other):\n",
    "        return self.freq < other.freq  "
   ]
  },
  {
   "cell_type": "code",
   "execution_count": 7,
   "id": "237d90d3-69b3-47f3-a64d-54ea3a707efc",
   "metadata": {},
   "outputs": [],
   "source": [
    "def build_huffman_tree(text):\n",
    "    frequency = Counter(text) \n",
    "    heap = [HuffmanNode(char, freq) for char, freq in frequency.items()]\n",
    "    heapq.heapify(heap) \n",
    "\n",
    "    while len(heap) > 1:\n",
    "        left = heapq.heappop(heap)\n",
    "        right = heapq.heappop(heap)\n",
    "        merged = HuffmanNode(None, left.freq + right.freq) \n",
    "        merged.left, merged.right = left, right\n",
    "        heapq.heappush(heap, merged)\n",
    "\n",
    "    return heap[0] "
   ]
  },
  {
   "cell_type": "code",
   "execution_count": 9,
   "id": "024d9f8a-2c74-41b1-8909-c3de58a25d05",
   "metadata": {},
   "outputs": [],
   "source": [
    "def generate_codes(root, code=\"\", huffman_dict={}):\n",
    "    if root is None:\n",
    "        return\n",
    "\n",
    "    if root.char:\n",
    "        huffman_dict[root.char] = code \n",
    "\n",
    "    generate_codes(root.left, code + \"0\", huffman_dict)\n",
    "    generate_codes(root.right, code + \"1\", huffman_dict)\n",
    "\n",
    "    return huffman_dict"
   ]
  },
  {
   "cell_type": "code",
   "execution_count": 11,
   "id": "82f1f47a-a8b6-48ad-a7e8-bfa1580b218a",
   "metadata": {},
   "outputs": [
    {
     "name": "stdout",
     "output_type": "stream",
     "text": [
      "Huffman Codes: {'l': '00', 'e': '01', 'y': '100', 'r': '1010', 'g': '1011', 'd': '1100', ' ': '1101', 'h': '1110', 'o': '1111'}\n",
      "Encoded Text: 1110010000111111011011101001011100100\n"
     ]
    }
   ],
   "source": [
    "def huffman_encoding(text):\n",
    "    root = build_huffman_tree(text)\n",
    "    huffman_codes = generate_codes(root)\n",
    "    encoded_text = \"\".join(huffman_codes[char] for char in text)\n",
    "    return huffman_codes, encoded_text\n",
    "\n",
    "\n",
    "text = \"hello greedy\"\n",
    "codes, encoded_text = huffman_encoding(text)\n",
    "print(\"Huffman Codes:\", codes)\n",
    "print(\"Encoded Text:\", encoded_text)"
   ]
  },
  {
   "cell_type": "markdown",
   "id": "ac81a4a7-3e95-48b8-ae20-2819a4eca1de",
   "metadata": {},
   "source": [
    "# Task 3"
   ]
  },
  {
   "cell_type": "code",
   "execution_count": 14,
   "id": "98c891a8-649b-494c-a210-6cd1bff49c47",
   "metadata": {},
   "outputs": [],
   "source": [
    "class DisjointSet:\n",
    "    def __init__(self, vertices):\n",
    "        self.parent = {v: v for v in vertices}\n",
    "        self.rank = {v: 0 for v in vertices}\n",
    "\n",
    "    def find(self, vertex):\n",
    "        if self.parent[vertex] != vertex:\n",
    "            self.parent[vertex] = self.find(self.parent[vertex])\n",
    "        return self.parent[vertex]\n",
    "\n",
    "    def union(self, u, v):\n",
    "        root_u = self.find(u)\n",
    "        root_v = self.find(v)\n",
    "\n",
    "        if root_u != root_v:\n",
    "            if self.rank[root_u] > self.rank[root_v]:\n",
    "                self.parent[root_v] = root_u\n",
    "            elif self.rank[root_u] < self.rank[root_v]:\n",
    "                self.parent[root_u] = root_v\n",
    "            else:\n",
    "                self.parent[root_v] = root_u\n",
    "                self.rank[root_u] += 1"
   ]
  },
  {
   "cell_type": "code",
   "execution_count": 16,
   "id": "717e52d8-3d18-4c98-b1e1-87c6c4ea5abb",
   "metadata": {},
   "outputs": [
    {
     "name": "stdout",
     "output_type": "stream",
     "text": [
      "[(2, 3, 1), (3, 4, 2), (1, 3, 3)]\n"
     ]
    }
   ],
   "source": [
    "def kruskal(edges, num_vertices):\n",
    "    edges.sort(key=lambda x: x[2])  \n",
    "    mst = []\n",
    "    disjoint_set = DisjointSet(range(1, num_vertices + 1))\n",
    "\n",
    "    for u, v, weight in edges:\n",
    "        if disjoint_set.find(u) != disjoint_set.find(v):  \n",
    "            disjoint_set.union(u, v)\n",
    "            mst.append((u, v, weight))\n",
    "\n",
    "        if len(mst) == num_vertices - 1:  \n",
    "            break\n",
    "\n",
    "    return mst\n",
    "\n",
    "\n",
    "edges = [(1, 2, 4), (2, 3, 1), (1, 3, 3), (3, 4, 2)]\n",
    "print(kruskal(edges, 4)) "
   ]
  },
  {
   "cell_type": "code",
   "execution_count": null,
   "id": "6edd8c7c-5522-439e-8a31-15870ca395aa",
   "metadata": {},
   "outputs": [],
   "source": []
  }
 ],
 "metadata": {
  "kernelspec": {
   "display_name": "Python [conda env:base] *",
   "language": "python",
   "name": "conda-base-py"
  },
  "language_info": {
   "codemirror_mode": {
    "name": "ipython",
    "version": 3
   },
   "file_extension": ".py",
   "mimetype": "text/x-python",
   "name": "python",
   "nbconvert_exporter": "python",
   "pygments_lexer": "ipython3",
   "version": "3.12.7"
  }
 },
 "nbformat": 4,
 "nbformat_minor": 5
}
