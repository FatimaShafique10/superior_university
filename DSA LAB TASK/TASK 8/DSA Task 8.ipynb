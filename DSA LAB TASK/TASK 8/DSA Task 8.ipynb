{
 "cells": [
  {
   "cell_type": "markdown",
   "id": "e29d7ecc-9748-412a-8400-ae78f7f57b6a",
   "metadata": {},
   "source": [
    "# Task 1"
   ]
  },
  {
   "cell_type": "code",
   "execution_count": 2,
   "id": "a2a613f3-a28d-476d-840c-4ff4adbb6a0f",
   "metadata": {},
   "outputs": [
    {
     "name": "stdout",
     "output_type": "stream",
     "text": [
      "Adjacency List:\n",
      "0: [1, 2]\n",
      "1: [0, 3]\n",
      "2: [0, 4]\n",
      "3: [1]\n",
      "4: [2]\n",
      "\n",
      "Adjacency Matrix:\n",
      "[0, 1, 1, 0, 0]\n",
      "[1, 0, 0, 1, 0]\n",
      "[1, 0, 0, 0, 1]\n",
      "[0, 1, 0, 0, 0]\n",
      "[0, 0, 1, 0, 0]\n"
     ]
    }
   ],
   "source": [
    "class Graph:\n",
    "    def __init__(self, num_vertices, directed=False):\n",
    "        self.num_vertices = num_vertices\n",
    "        self.directed = directed\n",
    "        self.adj_list = {i: [] for i in range(num_vertices)}\n",
    "        self.adj_matrix = [[0] * num_vertices for _ in range(num_vertices)]\n",
    "\n",
    "    def add_edge(self, v1, v2):\n",
    "        self.adj_list[v1].append(v2)\n",
    "        self.adj_matrix[v1][v2] = 1\n",
    "        if not self.directed:\n",
    "            self.adj_list[v2].append(v1)\n",
    "            self.adj_matrix[v2][v1] = 1\n",
    "\n",
    "    def remove_edge(self, v1, v2):\n",
    "        if v2 in self.adj_list[v1]:\n",
    "            self.adj_list[v1].remove(v2)\n",
    "        self.adj_matrix[v1][v2] = 0\n",
    "        if not self.directed:\n",
    "            if v1 in self.adj_list[v2]:\n",
    "                self.adj_list[v2].remove(v1)\n",
    "            self.adj_matrix[v2][v1] = 0\n",
    "\n",
    "    def display(self):\n",
    "        print(\"Adjacency List:\")\n",
    "        for vertex, neighbors in self.adj_list.items():\n",
    "            print(f\"{vertex}: {neighbors}\")\n",
    "\n",
    "        print(\"\\nAdjacency Matrix:\")\n",
    "        for row in self.adj_matrix:\n",
    "            print(row)\n",
    "\n",
    "g = Graph(5)  \n",
    "g.add_edge(0, 1)  \n",
    "g.add_edge(0, 2)  \n",
    "g.add_edge(1, 3)  \n",
    "g.add_edge(2, 4)  \n",
    "g.display()"
   ]
  },
  {
   "cell_type": "markdown",
   "id": "32afb524-33ac-45bf-9012-97b427e6d96c",
   "metadata": {},
   "source": [
    "# TASK 2"
   ]
  },
  {
   "cell_type": "code",
   "execution_count": 5,
   "id": "32d6ff9a-d54b-4605-a21d-cc48b6d7e676",
   "metadata": {},
   "outputs": [
    {
     "name": "stdout",
     "output_type": "stream",
     "text": [
      "BFS: [0, 1, 2, 3, 4, 5]\n",
      "DFS: [0, 1, 3, 4, 2, 5]\n"
     ]
    }
   ],
   "source": [
    "from collections import deque\n",
    "\n",
    "class Graph:\n",
    "    def __init__(self, num_vertices, directed=False):\n",
    "        self.num_vertices = num_vertices\n",
    "        self.directed = directed\n",
    "        self.adj_list = {i: [] for i in range(num_vertices)}\n",
    "\n",
    "    def add_edge(self, v1, v2):\n",
    "        self.adj_list[v1].append(v2)\n",
    "        if not self.directed:\n",
    "            self.adj_list[v2].append(v1)\n",
    "\n",
    "    def bfs(self, start):\n",
    "        visited = set()\n",
    "        queue = deque([start])\n",
    "        traversal = []\n",
    "\n",
    "        while queue:\n",
    "            vertex = queue.popleft()\n",
    "            if vertex not in visited:\n",
    "                visited.add(vertex)\n",
    "                traversal.append(vertex)\n",
    "                queue.extend(self.adj_list[vertex])\n",
    "\n",
    "        return traversal\n",
    "\n",
    "    def dfs(self, start, visited=None):\n",
    "        if visited is None:\n",
    "            visited = set()\n",
    "        visited.add(start)\n",
    "        traversal = [start]\n",
    "\n",
    "        for neighbor in self.adj_list[start]:\n",
    "            if neighbor not in visited:\n",
    "                traversal.extend(self.dfs(neighbor, visited))\n",
    "\n",
    "        return traversal\n",
    "\n",
    "    def display(self):\n",
    "        print(\"Adjacency List:\")\n",
    "        for vertex, neighbors in self.adj_list.items():\n",
    "            print(f\"{vertex}: {neighbors}\")\n",
    "\n",
    "g = Graph(6)  \n",
    "g.add_edge(0, 1)  \n",
    "g.add_edge(0, 2)  \n",
    "g.add_edge(1, 3)  \n",
    "g.add_edge(1, 4)  \n",
    "g.add_edge(2, 5)  \n",
    "\n",
    "print(\"BFS:\", g.bfs(0))  \n",
    "print(\"DFS:\", g.dfs(0)) "
   ]
  },
  {
   "cell_type": "markdown",
   "id": "dd4cb7c2-08eb-4f92-9a98-dc1a3d609f45",
   "metadata": {},
   "source": [
    "# Task 3"
   ]
  },
  {
   "cell_type": "code",
   "execution_count": 8,
   "id": "daa06c71-5412-42e7-aa7d-eb228aec699a",
   "metadata": {},
   "outputs": [
    {
     "name": "stdout",
     "output_type": "stream",
     "text": [
      "{'A': 0, 'B': 3, 'C': 1, 'D': 8}\n"
     ]
    }
   ],
   "source": [
    "import heapq\n",
    "\n",
    "def dijkstra(graph, start):\n",
    "   \n",
    "    distances = {node: float('inf') for node in graph}\n",
    "    distances[start] = 0\n",
    "    priority_queue = [(0, start)] \n",
    "\n",
    "    while priority_queue:\n",
    "        current_distance, current_node = heapq.heappop(priority_queue)\n",
    "\n",
    "       \n",
    "        if current_distance > distances[current_node]:\n",
    "            continue\n",
    "\n",
    "        for neighbor, weight in graph[current_node].items():\n",
    "            distance = current_distance + weight\n",
    "\n",
    "            if distance < distances[neighbor]: \n",
    "                distances[neighbor] = distance\n",
    "                heapq.heappush(priority_queue, (distance, neighbor))\n",
    "\n",
    "    return distances\n",
    "\n",
    "graph = {\n",
    "    'A': {'B': 4, 'C': 1},\n",
    "    'B': {'A': 4, 'C': 2, 'D': 5},\n",
    "    'C': {'A': 1, 'B': 2, 'D': 8},\n",
    "    'D': {'B': 5, 'C': 8}\n",
    "}\n",
    "\n",
    "print(dijkstra(graph, 'A')) "
   ]
  },
  {
   "cell_type": "code",
   "execution_count": null,
   "id": "ce08e7d8-a0f1-418b-b955-23a9d1f72d0d",
   "metadata": {},
   "outputs": [],
   "source": []
  }
 ],
 "metadata": {
  "kernelspec": {
   "display_name": "Python [conda env:base] *",
   "language": "python",
   "name": "conda-base-py"
  },
  "language_info": {
   "codemirror_mode": {
    "name": "ipython",
    "version": 3
   },
   "file_extension": ".py",
   "mimetype": "text/x-python",
   "name": "python",
   "nbconvert_exporter": "python",
   "pygments_lexer": "ipython3",
   "version": "3.12.7"
  }
 },
 "nbformat": 4,
 "nbformat_minor": 5
}
