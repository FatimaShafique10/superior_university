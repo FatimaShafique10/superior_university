{
 "cells": [
  {
   "cell_type": "markdown",
   "id": "d01f9b5a-2f27-466a-930a-731b817dbe41",
   "metadata": {},
   "source": [
    "# Task 1"
   ]
  },
  {
   "cell_type": "code",
   "execution_count": 2,
   "id": "663cf9b4-188d-48d4-8b30-12f2e77a3bf5",
   "metadata": {},
   "outputs": [
    {
     "name": "stdout",
     "output_type": "stream",
     "text": [
      "2\n",
      "20\n"
     ]
    }
   ],
   "source": [
    "import heapq\n",
    "\n",
    "class Heap:\n",
    "    def __init__(self, heap_type=\"min\"):\n",
    "        self.heap_type = heap_type\n",
    "        self.heap = []\n",
    "\n",
    "    def insert(self, value):\n",
    "        if self.heap_type == \"min\":\n",
    "            heapq.heappush(self.heap, value)\n",
    "        else: \n",
    "            heapq.heappush(self.heap, -value)\n",
    "\n",
    "    def extract_root(self):\n",
    "        if not self.heap:\n",
    "            return None\n",
    "        return heapq.heappop(self.heap) if self.heap_type == \"min\" else -heapq.heappop(self.heap)\n",
    "\n",
    "    def peek(self):\n",
    "        if not self.heap:\n",
    "            return None\n",
    "        return self.heap[0] if self.heap_type == \"min\" else -self.heap[0]\n",
    "\n",
    "    def heapify(self, array):\n",
    "        if self.heap_type == \"min\":\n",
    "            self.heap = array[:]\n",
    "            heapq.heapify(self.heap)\n",
    "        else: \n",
    "            self.heap = [-x for x in array]\n",
    "            heapq.heapify(self.heap)\n",
    "\n",
    "min_heap = Heap(\"min\")\n",
    "min_heap.insert(10)\n",
    "min_heap.insert(5)\n",
    "min_heap.insert(20)\n",
    "min_heap.insert(2)\n",
    "print(min_heap.extract_root()) \n",
    "\n",
    "max_heap = Heap(\"max\")\n",
    "max_heap.insert(10)\n",
    "max_heap.insert(5)\n",
    "max_heap.insert(20)\n",
    "max_heap.insert(2)\n",
    "print(max_heap.extract_root()) "
   ]
  },
  {
   "cell_type": "markdown",
   "id": "3e8951cb-43be-4795-9248-cf8f1b43745b",
   "metadata": {},
   "source": [
    "# Task 2"
   ]
  },
  {
   "cell_type": "code",
   "execution_count": 5,
   "id": "4c5bb9a0-d174-45a6-8278-c8b960acab75",
   "metadata": {},
   "outputs": [
    {
     "name": "stdout",
     "output_type": "stream",
     "text": [
      "Task B\n",
      "Task C\n"
     ]
    }
   ],
   "source": [
    "import heapq\n",
    "\n",
    "class PriorityQueue:\n",
    "    def __init__(self):\n",
    "        self.queue = []\n",
    "    \n",
    "    def enqueue(self, value, priority):\n",
    "        heapq.heappush(self.queue, (priority, value)) \n",
    "    \n",
    "    def dequeue(self):\n",
    "        if not self.queue:\n",
    "            return None\n",
    "        return heapq.heappop(self.queue)[1]  \n",
    "    \n",
    "    def peek(self):\n",
    "        if not self.queue:\n",
    "            return None\n",
    "        return self.queue[0][1] \n",
    "\n",
    "pq = PriorityQueue()\n",
    "pq.enqueue(\"Task A\", 3)\n",
    "pq.enqueue(\"Task B\", 1)\n",
    "pq.enqueue(\"Task C\", 2)\n",
    "\n",
    "print(pq.dequeue()) \n",
    "print(pq.peek()) "
   ]
  },
  {
   "cell_type": "markdown",
   "id": "0883ce7a-23b1-4db3-987c-9d72dc3af14b",
   "metadata": {},
   "source": [
    "# TASK 3"
   ]
  },
  {
   "cell_type": "code",
   "execution_count": 8,
   "id": "e27b76c6-201e-41d2-b237-70b67eea3946",
   "metadata": {},
   "outputs": [
    {
     "name": "stdout",
     "output_type": "stream",
     "text": [
      "[3, 4, 7]\n",
      "[20, 15]\n"
     ]
    }
   ],
   "source": [
    "import heapq\n",
    "\n",
    "def find_k_smallest(arr, k):\n",
    "    return heapq.nsmallest(k, arr)\n",
    "\n",
    "def find_k_largest(arr, k):\n",
    "    return heapq.nlargest(k, arr)\n",
    "\n",
    "arr = [10, 4, 3, 20, 15, 7]\n",
    "print(find_k_smallest(arr, 3))  \n",
    "print(find_k_largest(arr, 2))   "
   ]
  },
  {
   "cell_type": "code",
   "execution_count": null,
   "id": "3413b6af-434d-48db-b69c-01dab82f31ca",
   "metadata": {},
   "outputs": [],
   "source": []
  }
 ],
 "metadata": {
  "kernelspec": {
   "display_name": "Python [conda env:base] *",
   "language": "python",
   "name": "conda-base-py"
  },
  "language_info": {
   "codemirror_mode": {
    "name": "ipython",
    "version": 3
   },
   "file_extension": ".py",
   "mimetype": "text/x-python",
   "name": "python",
   "nbconvert_exporter": "python",
   "pygments_lexer": "ipython3",
   "version": "3.12.7"
  }
 },
 "nbformat": 4,
 "nbformat_minor": 5
}
