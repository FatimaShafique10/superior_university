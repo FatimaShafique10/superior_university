{
 "cells": [
  {
   "cell_type": "markdown",
   "id": "0766c486-a569-432a-a289-3705ac2be188",
   "metadata": {},
   "source": [
    "# TASK 1"
   ]
  },
  {
   "cell_type": "code",
   "execution_count": 2,
   "id": "0437e758-cf04-4197-a1ae-d5b8220482b2",
   "metadata": {},
   "outputs": [
    {
     "name": "stdout",
     "output_type": "stream",
     "text": [
      "Recursive DFS: ['A', 'B', 'D', 'E', 'F', 'C']\n",
      "Iterative DFS: ['A', 'B', 'D', 'E', 'F', 'C']\n",
      "BFS: ['A', 'B', 'C', 'D', 'E', 'F']\n"
     ]
    }
   ],
   "source": [
    "from collections import deque\n",
    "\n",
    "def dfs_recursive(graph, node, visited=None, result=None):\n",
    "    \"\"\"Recursive implementation of DFS.\"\"\"\n",
    "    if visited is None:\n",
    "        visited = set()\n",
    "    if result is None:\n",
    "        result = []\n",
    "\n",
    "    if node not in visited:\n",
    "        visited.add(node)\n",
    "        result.append(node)\n",
    "        for neighbor in graph.get(node, []):\n",
    "            dfs_recursive(graph, neighbor, visited, result)\n",
    "\n",
    "    return result\n",
    "\n",
    "def dfs_iterative(graph, start):\n",
    "    \"\"\"Iterative implementation of DFS using a stack.\"\"\"\n",
    "    visited = set()\n",
    "    stack = [start]\n",
    "    result = []\n",
    "\n",
    "    while stack:\n",
    "        node = stack.pop()\n",
    "        if node not in visited:\n",
    "            visited.add(node)\n",
    "            result.append(node)\n",
    "            stack.extend(reversed(graph.get(node, [])))\n",
    "\n",
    "    return result\n",
    "\n",
    "def bfs(graph, start):\n",
    "    \"\"\"Implementation of BFS using a queue.\"\"\"\n",
    "    visited = set()\n",
    "    queue = deque([start])\n",
    "    result = []\n",
    "\n",
    "    while queue:\n",
    "        node = queue.popleft()\n",
    "        if node not in visited:\n",
    "            visited.add(node)\n",
    "            result.append(node)\n",
    "            queue.extend(graph.get(node, []))\n",
    "\n",
    "    return result\n",
    "\n",
    "graph = {\n",
    "    'A': ['B', 'C'],\n",
    "    'B': ['D', 'E'],\n",
    "    'C': ['F'],\n",
    "    'D': [],\n",
    "    'E': ['F'],\n",
    "    'F': []\n",
    "}\n",
    "\n",
    "print(\"Recursive DFS:\", dfs_recursive(graph, 'A'))\n",
    "print(\"Iterative DFS:\", dfs_iterative(graph, 'A'))\n",
    "print(\"BFS:\", bfs(graph, 'A'))"
   ]
  },
  {
   "cell_type": "markdown",
   "id": "0483955b-0b8e-4b09-a1c5-a68acc56ce30",
   "metadata": {},
   "source": [
    "# TASK 2"
   ]
  },
  {
   "cell_type": "code",
   "execution_count": 5,
   "id": "d55c5159-d5a3-481b-bc9b-c73881bded47",
   "metadata": {},
   "outputs": [
    {
     "name": "stdout",
     "output_type": "stream",
     "text": [
      "Shortest paths: {'A': 0, 'B': 1, 'C': 3, 'D': 4}\n"
     ]
    }
   ],
   "source": [
    "import heapq\n",
    "\n",
    "def dijkstra(graph, start):\n",
    "    \"\"\"Computes shortest path from start node using Dijkstra's algorithm.\"\"\"\n",
    "   \n",
    "    shortest_paths = {node: float('inf') for node in graph}\n",
    "    shortest_paths[start] = 0\n",
    "\n",
    "    priority_queue = [(0, start)]\n",
    "\n",
    "    while priority_queue:\n",
    "        current_distance, current_node = heapq.heappop(priority_queue)\n",
    "\n",
    "       \n",
    "        if current_distance > shortest_paths[current_node]:\n",
    "            continue\n",
    "\n",
    "        for neighbor, weight in graph[current_node].items():\n",
    "            distance = current_distance + weight\n",
    "\n",
    "            if distance < shortest_paths[neighbor]:\n",
    "                shortest_paths[neighbor] = distance\n",
    "                heapq.heappush(priority_queue, (distance, neighbor))\n",
    "\n",
    "    return shortest_paths\n",
    "\n",
    "graph = {\n",
    "    'A': {'B': 1, 'C': 4},\n",
    "    'B': {'A': 1, 'C': 2, 'D': 5},\n",
    "    'C': {'A': 4, 'B': 2, 'D': 1},\n",
    "    'D': {'B': 5, 'C': 1}\n",
    "}\n",
    "\n",
    "print(\"Shortest paths:\", dijkstra(graph, 'A'))"
   ]
  },
  {
   "cell_type": "markdown",
   "id": "20091405-23f9-4655-b628-3917bb457170",
   "metadata": {},
   "source": [
    "# TASK 3"
   ]
  },
  {
   "cell_type": "code",
   "execution_count": 8,
   "id": "3e78afae-6b15-43a0-95a4-e923a0295c37",
   "metadata": {},
   "outputs": [
    {
     "name": "stdout",
     "output_type": "stream",
     "text": [
      "Cycle in Undirected Graph: True\n"
     ]
    }
   ],
   "source": [
    "class UnionFind:\n",
    "    def __init__(self, n):\n",
    "        self.parent = {i: i for i in n}\n",
    "\n",
    "    def find(self, node):\n",
    "        if self.parent[node] != node:\n",
    "            self.parent[node] = self.find(self.parent[node])\n",
    "        return self.parent[node]\n",
    "\n",
    "    def union(self, node1, node2):\n",
    "        root1 = self.find(node1)\n",
    "        root2 = self.find(node2)\n",
    "        if root1 != root2:\n",
    "            self.parent[root2] = root1\n",
    "        else:\n",
    "            return True  \n",
    "        return False\n",
    "\n",
    "def detect_cycle_undirected(graph):\n",
    "    uf = UnionFind(graph.keys())\n",
    "\n",
    "    for node in graph:\n",
    "        for neighbor in graph[node]:\n",
    "            if uf.union(node, neighbor):\n",
    "                return True\n",
    "    return False\n",
    "\n",
    "\n",
    "graph_undirected = {\n",
    "    'A': ['B', 'C'],\n",
    "    'B': ['A', 'D'],\n",
    "    'C': ['A', 'D'],\n",
    "    'D': ['B', 'C']\n",
    "}\n",
    "\n",
    "print(\"Cycle in Undirected Graph:\", detect_cycle_undirected(graph_undirected))"
   ]
  },
  {
   "cell_type": "code",
   "execution_count": null,
   "id": "8d3d2db9-0985-479d-8e6b-edb4e59de658",
   "metadata": {},
   "outputs": [],
   "source": []
  }
 ],
 "metadata": {
  "kernelspec": {
   "display_name": "Python [conda env:base] *",
   "language": "python",
   "name": "conda-base-py"
  },
  "language_info": {
   "codemirror_mode": {
    "name": "ipython",
    "version": 3
   },
   "file_extension": ".py",
   "mimetype": "text/x-python",
   "name": "python",
   "nbconvert_exporter": "python",
   "pygments_lexer": "ipython3",
   "version": "3.12.7"
  }
 },
 "nbformat": 4,
 "nbformat_minor": 5
}
