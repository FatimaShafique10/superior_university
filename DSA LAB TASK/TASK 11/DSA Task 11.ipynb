{
 "cells": [
  {
   "cell_type": "markdown",
   "id": "c75cd07d-daea-4257-bb45-3e1286ffb527",
   "metadata": {},
   "source": [
    "# TASK 1"
   ]
  },
  {
   "cell_type": "code",
   "execution_count": 2,
   "id": "22e04213-934a-47bd-99de-e39c93f5d59c",
   "metadata": {},
   "outputs": [
    {
     "name": "stdout",
     "output_type": "stream",
     "text": [
      "Alice\n",
      "None\n"
     ]
    }
   ],
   "source": [
    "class HashTableChaining:\n",
    "    def __init__(self, size):\n",
    "        self.size = size\n",
    "        self.table = [[] for _ in range(size)]\n",
    "\n",
    "    def _hash(self, key):\n",
    "        return hash(key) % self.size\n",
    "\n",
    "    def insert(self, key, value):\n",
    "        index = self._hash(key)\n",
    "        for pair in self.table[index]:\n",
    "            if pair[0] == key:\n",
    "                pair[1] = value\n",
    "                return\n",
    "        self.table[index].append([key, value])\n",
    "\n",
    "    def get(self, key):\n",
    "        index = self._hash(key)\n",
    "        for pair in self.table[index]:\n",
    "            if pair[0] == key:\n",
    "                return pair[1]\n",
    "        return None\n",
    "\n",
    "    def delete(self, key):\n",
    "        index = self._hash(key)\n",
    "        for i, pair in enumerate(self.table[index]):\n",
    "            if pair[0] == key:\n",
    "                del self.table[index][i]\n",
    "                return\n",
    "\n",
    "ht = HashTableChaining(10)\n",
    "ht.insert(\"name\", \"Alice\")\n",
    "ht.insert(\"age\", 25)\n",
    "print(ht.get(\"name\"))  \n",
    "ht.delete(\"age\")\n",
    "print(ht.get(\"age\")) "
   ]
  },
  {
   "cell_type": "code",
   "execution_count": 4,
   "id": "c156a665-7421-4e39-98a6-f729bf762376",
   "metadata": {},
   "outputs": [
    {
     "name": "stdout",
     "output_type": "stream",
     "text": [
      "Alice\n",
      "None\n"
     ]
    }
   ],
   "source": [
    "class HashTableLinearProbing:\n",
    "    def __init__(self, size):\n",
    "        self.size = size\n",
    "        self.table = [None] * size\n",
    "\n",
    "    def _hash(self, key):\n",
    "        return hash(key) % self.size\n",
    "\n",
    "    def insert(self, key, value):\n",
    "        index = self._hash(key)\n",
    "        while self.table[index] is not None and self.table[index][0] != key:\n",
    "            index = (index + 1) % self.size\n",
    "        self.table[index] = (key, value)\n",
    "\n",
    "    def get(self, key):\n",
    "        index = self._hash(key)\n",
    "        original_index = index\n",
    "        while self.table[index] is not None:\n",
    "            if self.table[index][0] == key:\n",
    "                return self.table[index][1]\n",
    "            index = (index + 1) % self.size\n",
    "            if index == original_index:\n",
    "                break\n",
    "        return None\n",
    "\n",
    "    def delete(self, key):\n",
    "        index = self._hash(key)\n",
    "        original_index = index\n",
    "        while self.table[index] is not None:\n",
    "            if self.table[index][0] == key:\n",
    "                self.table[index] = None\n",
    "                return\n",
    "            index = (index + 1) % self.size\n",
    "            if index == original_index:\n",
    "                break\n",
    "\n",
    "\n",
    "ht_lp = HashTableLinearProbing(10)\n",
    "ht_lp.insert(\"name\", \"Alice\")\n",
    "ht_lp.insert(\"age\", 25)\n",
    "print(ht_lp.get(\"name\")) \n",
    "ht_lp.delete(\"age\")\n",
    "print(ht_lp.get(\"age\"))  "
   ]
  },
  {
   "cell_type": "markdown",
   "id": "a3e2716c-2c7d-409e-bd32-f7d2dcbd33ab",
   "metadata": {},
   "source": [
    "# TASK 2"
   ]
  },
  {
   "cell_type": "code",
   "execution_count": 7,
   "id": "1e84fc63-507e-43fd-88c6-0d0adfc81615",
   "metadata": {},
   "outputs": [
    {
     "name": "stdout",
     "output_type": "stream",
     "text": [
      "22\n"
     ]
    }
   ],
   "source": [
    "import matplotlib.pyplot as plt\n",
    "import random\n",
    "import string\n",
    "\n",
    "def custom_hash(key, table_size=100):\n",
    "    \"\"\"Custom hash function using polynomial rolling method.\"\"\"\n",
    "    prime = 31\n",
    "    hash_value = 0\n",
    "    for char in key:\n",
    "        hash_value = (hash_value * prime + ord(char)) % table_size\n",
    "    return hash_value\n",
    "\n",
    "\n",
    "print(custom_hash(\"hello\")) "
   ]
  },
  {
   "cell_type": "code",
   "execution_count": 9,
   "id": "1f54254a-5d3d-4938-805a-3bbb80ea28cb",
   "metadata": {},
   "outputs": [
    {
     "name": "stdout",
     "output_type": "stream",
     "text": [
      "Custom Hash Collisions: 100\n",
      "Python Hash Collisions: 100\n"
     ]
    }
   ],
   "source": [
    "def measure_collisions(hash_function, num_keys=1000, table_size=100):\n",
    "    hash_table = [0] * table_size\n",
    "    keys = [''.join(random.choices(string.ascii_letters, k=5)) for _ in range(num_keys)]  \n",
    "\n",
    "    for key in keys:\n",
    "        index = hash_function(key, table_size)\n",
    "        hash_table[index] += 1 \n",
    "\n",
    "    return hash_table\n",
    "\n",
    "custom_collisions = measure_collisions(custom_hash)\n",
    "python_collisions = measure_collisions(lambda key, size: hash(key) % size)\n",
    "\n",
    "print(f\"Custom Hash Collisions: {sum(1 for x in custom_collisions if x > 1)}\")\n",
    "print(f\"Python Hash Collisions: {sum(1 for x in python_collisions if x > 1)}\")\n"
   ]
  },
  {
   "cell_type": "markdown",
   "id": "73c370e4-b6a2-4dac-a84c-02a49b4d7c7e",
   "metadata": {},
   "source": [
    "# TASK 3"
   ]
  },
  {
   "cell_type": "code",
   "execution_count": 12,
   "id": "012b7e52-a310-4945-93df-6fd457021833",
   "metadata": {},
   "outputs": [
    {
     "name": "stdout",
     "output_type": "stream",
     "text": [
      "A\n",
      "-1\n"
     ]
    }
   ],
   "source": [
    "from collections import OrderedDict\n",
    "\n",
    "class LRUCache:\n",
    "    def __init__(self, capacity: int):\n",
    "        self.capacity = capacity\n",
    "        self.cache = OrderedDict()\n",
    "\n",
    "    def get(self, key: int) -> int:\n",
    "        if key not in self.cache:\n",
    "            return -1\n",
    "        self.cache.move_to_end(key)  \n",
    "        return self.cache[key]\n",
    "\n",
    "    def put(self, key: int, value: int):\n",
    "        if key in self.cache:\n",
    "            self.cache.move_to_end(key) \n",
    "        elif len(self.cache) >= self.capacity:\n",
    "            self.cache.popitem(last=False) \n",
    "        self.cache[key] = value\n",
    "\n",
    "cache = LRUCache(2)\n",
    "cache.put(1, \"A\")\n",
    "cache.put(2, \"B\")\n",
    "print(cache.get(1)) \n",
    "cache.put(3, \"C\")  \n",
    "print(cache.get(2))  "
   ]
  },
  {
   "cell_type": "code",
   "execution_count": 14,
   "id": "5064cbfa-d5a4-4366-8722-23b338ad11e4",
   "metadata": {},
   "outputs": [
    {
     "name": "stdout",
     "output_type": "stream",
     "text": [
      "A\n",
      "-1\n"
     ]
    }
   ],
   "source": [
    "class Node:\n",
    "    def __init__(self, key, value):\n",
    "        self.key = key\n",
    "        self.value = value\n",
    "        self.prev = None\n",
    "        self.next = None\n",
    "\n",
    "class LRUCacheLinkedList:\n",
    "    def __init__(self, capacity: int):\n",
    "        self.capacity = capacity\n",
    "        self.cache = {}  \n",
    "        self.head, self.tail = Node(0, 0), Node(0, 0)  \n",
    "        self.head.next = self.tail\n",
    "        self.tail.prev = self.head\n",
    "\n",
    "    def _remove(self, node):\n",
    "        \"\"\"Remove node from linked list\"\"\"\n",
    "        node.prev.next, node.next.prev = node.next, node.prev\n",
    "\n",
    "    def _insert(self, node):\n",
    "        \"\"\"Insert node at the end (most recently used)\"\"\"\n",
    "        node.prev, node.next = self.tail.prev, self.tail\n",
    "        self.tail.prev.next = node\n",
    "        self.tail.prev = node\n",
    "\n",
    "    def get(self, key: int) -> int:\n",
    "        if key in self.cache:\n",
    "            node = self.cache[key]\n",
    "            self._remove(node) \n",
    "            self._insert(node)\n",
    "            return node.value\n",
    "        return -1\n",
    "\n",
    "    def put(self, key: int, value: int):\n",
    "        if key in self.cache:\n",
    "            self._remove(self.cache[key])  \n",
    "        elif len(self.cache) >= self.capacity:\n",
    "            lru_node = self.head.next  \n",
    "            self._remove(lru_node)\n",
    "            del self.cache[lru_node.key]\n",
    "\n",
    "        new_node = Node(key, value)\n",
    "        self.cache[key] = new_node\n",
    "        self._insert(new_node)\n",
    "\n",
    "\n",
    "cache_ll = LRUCacheLinkedList(2)\n",
    "cache_ll.put(1, \"A\")\n",
    "cache_ll.put(2, \"B\")\n",
    "print(cache_ll.get(1)) \n",
    "cache_ll.put(3, \"C\") \n",
    "print(cache_ll.get(2))  "
   ]
  },
  {
   "cell_type": "code",
   "execution_count": 16,
   "id": "6b1ff6ae-6f2f-4040-908a-e1cf72d73d37",
   "metadata": {},
   "outputs": [
    {
     "name": "stdout",
     "output_type": "stream",
     "text": [
      "OrderedDict LRU Time: 0.008604 sec\n",
      "Linked List LRU Time: 0.016683 sec\n"
     ]
    }
   ],
   "source": [
    "import time\n",
    "\n",
    "def test_cache_performance(cache_class, capacity, operations):\n",
    "    cache = cache_class(capacity)\n",
    "    start_time = time.time()\n",
    "    for i in range(operations):\n",
    "        cache.put(i, i) \n",
    "        cache.get(i)     \n",
    "    return time.time() - start_time\n",
    "\n",
    "capacity = 1000\n",
    "operations = 10000\n",
    "\n",
    "ordered_dict_time = test_cache_performance(LRUCache, capacity, operations)\n",
    "linked_list_time = test_cache_performance(LRUCacheLinkedList, capacity, operations)\n",
    "\n",
    "print(f\"OrderedDict LRU Time: {ordered_dict_time:.6f} sec\")\n",
    "print(f\"Linked List LRU Time: {linked_list_time:.6f} sec\")"
   ]
  },
  {
   "cell_type": "code",
   "execution_count": null,
   "id": "4770e2b2-a3fa-4504-8782-e9aec4fa86e9",
   "metadata": {},
   "outputs": [],
   "source": []
  }
 ],
 "metadata": {
  "kernelspec": {
   "display_name": "Python [conda env:base] *",
   "language": "python",
   "name": "conda-base-py"
  },
  "language_info": {
   "codemirror_mode": {
    "name": "ipython",
    "version": 3
   },
   "file_extension": ".py",
   "mimetype": "text/x-python",
   "name": "python",
   "nbconvert_exporter": "python",
   "pygments_lexer": "ipython3",
   "version": "3.12.7"
  }
 },
 "nbformat": 4,
 "nbformat_minor": 5
}
