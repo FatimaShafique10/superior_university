{
 "cells": [
  {
   "cell_type": "markdown",
   "id": "0b24d8ca-f81e-4ec8-af7d-a385f746329a",
   "metadata": {},
   "source": [
    "# TASK 1"
   ]
  },
  {
   "cell_type": "code",
   "execution_count": 2,
   "id": "089f362b-333b-4486-be1e-c3d3831962ec",
   "metadata": {},
   "outputs": [],
   "source": [
    "class Node:\n",
    "    def __init__(self, value):\n",
    "        self.value = value\n",
    "        self.left = None\n",
    "        self.right = None\n",
    "\n",
    "class BinarySearchTree:\n",
    "    def __init__(self):\n",
    "        self.root = None\n",
    "\n",
    "    def insert(self, value):\n",
    "        def _insert(node, value):\n",
    "            if not node:\n",
    "                return Node(value)\n",
    "            if value < node.value:\n",
    "                node.left = _insert(node.left, value)\n",
    "            else:\n",
    "                node.right = _insert(node.right, value)\n",
    "            return node\n",
    "\n",
    "        self.root = _insert(self.root, value)\n",
    "\n",
    "    def search(self, value):\n",
    "        def _search(node, value):\n",
    "            if not node:\n",
    "                return False\n",
    "            if node.value == value:\n",
    "                return True\n",
    "            return _search(node.left, value) if value < node.value else _search(node.right, value)\n",
    "\n",
    "        return _search(self.root, value)\n",
    "\n",
    "    def inorder_traversal(self):\n",
    "        result = []\n",
    "\n",
    "        def _inorder(node):\n",
    "            if node:\n",
    "                _inorder(node.left)\n",
    "                result.append(node.value)\n",
    "                _inorder(node.right)\n",
    "\n",
    "        _inorder(self.root)\n",
    "        return result\n",
    "\n",
    "    def delete(self, value):\n",
    "        def _delete(node, value):\n",
    "            if not node:\n",
    "                return None\n",
    "            if value < node.value:\n",
    "                node.left = _delete(node.left, value)\n",
    "            elif value > node.value:\n",
    "                node.right = _delete(node.right, value)\n",
    "            else:\n",
    "                if not node.left:\n",
    "                    return node.right\n",
    "                if not node.right:\n",
    "                    return node.left\n",
    "                temp = self._find_min(node.right)\n",
    "                node.value = temp.value\n",
    "                node.right = _delete(node.right, temp.value)\n",
    "            return node\n",
    "\n",
    "        self.root = _delete(self.root, value)\n",
    "\n",
    "    def _find_min(self, node):\n",
    "        while node.left:\n",
    "            node = node.left\n",
    "        return node"
   ]
  },
  {
   "cell_type": "code",
   "execution_count": 5,
   "id": "7e5146f5-8928-4ac8-80f2-1fb709c88f02",
   "metadata": {},
   "outputs": [
    {
     "name": "stdout",
     "output_type": "stream",
     "text": [
      "Inorder Traversal: [20, 30, 40, 50, 60, 70, 80]\n",
      "Search 40: True\n",
      "Search 100: False\n",
      "Inorder Traversal after deleting 50: [20, 30, 40, 60, 70, 80]\n"
     ]
    }
   ],
   "source": [
    "bst = BinarySearchTree()\n",
    "values = [50, 30, 70, 20, 40, 60, 80]\n",
    "\n",
    "for v in values:\n",
    "    bst.insert(v)\n",
    "\n",
    "print(\"Inorder Traversal:\", bst.inorder_traversal()) \n",
    "\n",
    "print(\"Search 40:\", bst.search(40)) \n",
    "print(\"Search 100:\", bst.search(100)) \n",
    "\n",
    "bst.delete(50)\n",
    "print(\"Inorder Traversal after deleting 50:\", bst.inorder_traversal())  "
   ]
  },
  {
   "cell_type": "markdown",
   "id": "903772dc-30ab-457f-8ee7-6c27d8592e81",
   "metadata": {},
   "source": [
    "# TASK 2"
   ]
  },
  {
   "cell_type": "code",
   "execution_count": 10,
   "id": "030b85e5-b922-45cf-9c7e-790794767cc7",
   "metadata": {},
   "outputs": [],
   "source": [
    "class DynamicArray:\n",
    "    def __init__(self, capacity=2):\n",
    "        self.capacity = capacity\n",
    "        self.size = 0\n",
    "        self.array = [None] * self.capacity\n",
    "\n",
    "    def _resize(self):\n",
    "        new_capacity = self.capacity * 2\n",
    "        new_array = [None] * new_capacity\n",
    "        for i in range(self.size):\n",
    "            new_array[i] = self.array[i]\n",
    "        self.array = new_array\n",
    "        self.capacity = new_capacity\n",
    "\n",
    "    def insert_end(self, value):\n",
    "        if self.size == self.capacity:\n",
    "            self._resize()\n",
    "        self.array[self.size] = value\n",
    "        self.size += 1\n",
    "\n",
    "    def insert_at(self, index, value):\n",
    "        if index < 0 or index > self.size:\n",
    "            raise IndexError(\"Index out of bounds\")\n",
    "        if self.size == self.capacity:\n",
    "            self._resize()\n",
    "        for i in range(self.size, index, -1):\n",
    "            self.array[i] = self.array[i - 1]\n",
    "        self.array[index] = value\n",
    "        self.size += 1\n",
    "\n",
    "    def delete_at(self, index):\n",
    "        if index < 0 or index >= self.size:\n",
    "            raise IndexError(\"Index out of bounds\")\n",
    "        for i in range(index, self.size - 1):\n",
    "            self.array[i] = self.array[i + 1]\n",
    "        self.array[self.size - 1] = None\n",
    "        self.size -= 1\n",
    "\n",
    "    def search(self, value):\n",
    "        for i in range(self.size):\n",
    "            if self.array[i] == value:\n",
    "                return i\n",
    "        return -1\n",
    "\n",
    "    def display(self):\n",
    "        return [self.array[i] for i  in range(self.size)]"
   ]
  },
  {
   "cell_type": "code",
   "execution_count": 12,
   "id": "0e4e53f8-0b8b-4599-b35c-d7630f2b302e",
   "metadata": {},
   "outputs": [
    {
     "name": "stdout",
     "output_type": "stream",
     "text": [
      "After insertion: [10, 15, 20]\n",
      "After deletion: [10, 20]\n",
      "Searching 20: 1\n",
      "Searching 30: -1\n"
     ]
    }
   ],
   "source": [
    "arr = DynamicArray()\n",
    "arr.insert_end(10)\n",
    "arr.insert_end(20)\n",
    "arr.insert_at(1, 15)\n",
    "print(\"After insertion:\", arr.display())  \n",
    "\n",
    "arr.delete_at(1)\n",
    "print(\"After deletion:\", arr.display()) \n",
    "\n",
    "print(\"Searching 20:\", arr.search(20))  \n",
    "print(\"Searching 30:\", arr.search(30))  "
   ]
  },
  {
   "cell_type": "markdown",
   "id": "617ef558-4ac3-42ad-89ea-e9238ad36de0",
   "metadata": {},
   "source": [
    "# TASK 3"
   ]
  },
  {
   "cell_type": "code",
   "execution_count": 15,
   "id": "09f50007-16a5-470c-8a2f-d61193a634df",
   "metadata": {},
   "outputs": [],
   "source": [
    "class Node:\n",
    "    def __init__(self, value):\n",
    "        self.value = value\n",
    "        self.left = None\n",
    "        self.right = None\n",
    "\n",
    "def is_balanced(root):\n",
    "    def check_balance(node):\n",
    "        if not node:\n",
    "            return 0  \n",
    "\n",
    "        left_height = check_balance(node.left)\n",
    "        right_height = check_balance(node.right)\n",
    "\n",
    "        if left_height == -1 or right_height == -1 or abs(left_height - right_height) > 1:\n",
    "            return -1  \n",
    "\n",
    "        return max(left_height, right_height) + 1  \n",
    "\n",
    "    return check_balance(root) != -1"
   ]
  },
  {
   "cell_type": "code",
   "execution_count": 17,
   "id": "c863ef4c-34c9-4744-bd64-14d2dd5aa8a0",
   "metadata": {},
   "outputs": [
    {
     "name": "stdout",
     "output_type": "stream",
     "text": [
      "Balanced Tree: True\n",
      "Unbalanced Tree: False\n"
     ]
    }
   ],
   "source": [
    "balanced_root = Node(10)\n",
    "balanced_root.left = Node(5)\n",
    "balanced_root.right = Node(15)\n",
    "balanced_root.left.left = Node(2)\n",
    "balanced_root.left.right = Node(7)\n",
    "balanced_root.right.left = Node(12)\n",
    "balanced_root.right.right = Node(20)\n",
    "\n",
    "print(\"Balanced Tree:\", is_balanced(balanced_root)) \n",
    "\n",
    "unbalanced_root = Node(10)\n",
    "unbalanced_root.left = Node(5)\n",
    "unbalanced_root.left.left = Node(2)\n",
    "\n",
    "print(\"Unbalanced Tree:\", is_balanced(unbalanced_root))  "
   ]
  },
  {
   "cell_type": "code",
   "execution_count": null,
   "id": "2fa79770-99e3-45f1-addc-94a87691ea93",
   "metadata": {},
   "outputs": [],
   "source": []
  }
 ],
 "metadata": {
  "kernelspec": {
   "display_name": "Python [conda env:base] *",
   "language": "python",
   "name": "conda-base-py"
  },
  "language_info": {
   "codemirror_mode": {
    "name": "ipython",
    "version": 3
   },
   "file_extension": ".py",
   "mimetype": "text/x-python",
   "name": "python",
   "nbconvert_exporter": "python",
   "pygments_lexer": "ipython3",
   "version": "3.12.7"
  }
 },
 "nbformat": 4,
 "nbformat_minor": 5
}
