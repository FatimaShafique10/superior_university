{
 "cells": [
  {
   "cell_type": "markdown",
   "id": "215a7913-0006-469c-b5c0-62b50c541e7d",
   "metadata": {},
   "source": [
    "# TASK 1"
   ]
  },
  {
   "cell_type": "code",
   "execution_count": 2,
   "id": "039fce76-256d-43c5-bb8a-fa8217dab941",
   "metadata": {},
   "outputs": [],
   "source": [
    "class Node:\n",
    "    def __init__(self, data):\n",
    "        self.data = data\n",
    "        self.next = None\n",
    "\n",
    "class SinglyLinkedList:\n",
    "    def __init__(self):\n",
    "        self.head = None\n",
    "\n",
    "    def insert_at_beginning(self, data):\n",
    "        new_node = Node(data)\n",
    "        new_node.next = self.head\n",
    "        self.head = new_node\n",
    "\n",
    "    def insert_at_end(self, data):\n",
    "        new_node = Node(data)\n",
    "        if not self.head:\n",
    "            self.head = new_node\n",
    "            return\n",
    "        temp = self.head\n",
    "        while temp.next:\n",
    "            temp = temp.next\n",
    "        temp.next = new_node\n",
    "\n",
    "    def insert_at_position(self, data, position):\n",
    "        if position < 0:\n",
    "            raise ValueError(\"Invalid position\")\n",
    "        new_node = Node(data)\n",
    "        if position == 0:\n",
    "            self.insert_at_beginning(data)\n",
    "            return\n",
    "        temp = self.head\n",
    "        for _ in range(position - 1):\n",
    "            if not temp:\n",
    "                raise ValueError(\"Position out of bounds\")\n",
    "            temp = temp.next\n",
    "        new_node.next = temp.next\n",
    "        temp.next = new_node\n",
    "\n",
    "    def delete_by_value(self, value):\n",
    "        if not self.head:\n",
    "            return\n",
    "        if self.head.data == value:\n",
    "            self.head = self.head.next\n",
    "            return\n",
    "        temp = self.head\n",
    "        while temp.next and temp.next.data != value:\n",
    "            temp = temp.next\n",
    "        if temp.next:\n",
    "            temp.next = temp.next.next\n",
    "\n",
    "    def search(self, value):\n",
    "        temp = self.head\n",
    "        position = 0\n",
    "        while temp:\n",
    "            if temp.data == value:\n",
    "                return f\"Found at position {position}\"\n",
    "            temp = temp.next\n",
    "            position += 1\n",
    "        return \"Not found\"\n",
    "\n",
    "    def display(self):\n",
    "        result = []\n",
    "        temp = self.head\n",
    "        while temp:\n",
    "            result.append(temp.data)\n",
    "            temp = temp.next\n",
    "        return \" → \".join(map(str, result))"
   ]
  },
  {
   "cell_type": "code",
   "execution_count": 5,
   "id": "059323a0-ed90-4fd0-99ab-f4ff745ebb49",
   "metadata": {},
   "outputs": [
    {
     "name": "stdout",
     "output_type": "stream",
     "text": [
      "Initial List: 1 → 2 → 3 → 4\n",
      "After Insert(5) at end: 1 → 2 → 3 → 4 → 5\n",
      "After Delete(3): 1 → 2 → 4 → 5\n",
      "Search(4): Found at position 2\n"
     ]
    }
   ],
   "source": [
    "ll = SinglyLinkedList()\n",
    "ll.insert_at_end(1)\n",
    "ll.insert_at_end(2)\n",
    "ll.insert_at_end(3)\n",
    "ll.insert_at_end(4)\n",
    "\n",
    "print(\"Initial List:\", ll.display())  \n",
    "\n",
    "ll.insert_at_end(5)\n",
    "print(\"After Insert(5) at end:\", ll.display()) \n",
    "\n",
    "ll.delete_by_value(3)\n",
    "print(\"After Delete(3):\", ll.display())  \n",
    "\n",
    "print(\"Search(4):\", ll.search(4))  "
   ]
  },
  {
   "cell_type": "markdown",
   "id": "23ada3dc-8dee-4955-b8c2-07583e677144",
   "metadata": {},
   "source": [
    "# TASK 2"
   ]
  },
  {
   "cell_type": "code",
   "execution_count": 8,
   "id": "158ec7fe-7ec4-44c9-bbf0-1438acc0c14e",
   "metadata": {},
   "outputs": [],
   "source": [
    "class Node:\n",
    "    def __init__(self, data):\n",
    "        self.data = data\n",
    "        self.next = None\n",
    "\n",
    "class LinkedList:\n",
    "    def __init__(self):\n",
    "        self.head = None\n",
    "\n",
    "    def insert_end(self, data):\n",
    "        new_node = Node(data)\n",
    "        if not self.head:\n",
    "            self.head = new_node\n",
    "            return\n",
    "        temp = self.head\n",
    "        while temp.next:\n",
    "            temp = temp.next\n",
    "        temp.next = new_node\n",
    "\n",
    "    def detect_loop(self):\n",
    "        slow = fast = self.head\n",
    "        while fast and fast.next:\n",
    "            slow = slow.next\n",
    "            fast = fast.next.next\n",
    "            if slow == fast:\n",
    "                return self.find_loop_start(slow)\n",
    "        return None\n",
    "\n",
    "    def find_loop_start(self, meeting_point):\n",
    "        pointer1 = self.head\n",
    "        pointer2 = meeting_point\n",
    "        while pointer1 != pointer2:\n",
    "            pointer1 = pointer1.next\n",
    "            pointer2 = pointer2.next\n",
    "        return pointer1 \n",
    "\n",
    "    def remove_loop(self):\n",
    "        loop_node = self.detect_loop()\n",
    "        if not loop_node:\n",
    "            print(\"No loop detected.\")\n",
    "            return\n",
    "\n",
    "        print(f\"Loop detected at node {loop_node.data}\")\n",
    "\n",
    "        temp = loop_node\n",
    "        while temp.next != loop_node:\n",
    "            temp = temp.next\n",
    "        temp.next = None \n",
    "        print(\"Loop removed.\")\n",
    "\n",
    "    def display(self):\n",
    "        result = []\n",
    "        temp = self.head\n",
    "        visited = set() \n",
    "        while temp:\n",
    "            if temp in visited:  \n",
    "                result.append(f\"({temp.data} loop)\")\n",
    "                break\n",
    "            visited.add(temp)\n",
    "            result.append(temp.data)\n",
    "            temp = temp.next\n",
    "        return \" → \".join(map(str, result))"
   ]
  },
  {
   "cell_type": "code",
   "execution_count": 10,
   "id": "c41f0406-cc7f-4137-8cb5-ab565c716156",
   "metadata": {},
   "outputs": [
    {
     "name": "stdout",
     "output_type": "stream",
     "text": [
      "Before loop removal: 1 → 2 → 3 → 4 → 5 → (3 loop)\n",
      "Loop detected at node 3\n",
      "Loop removed.\n",
      "After loop removal: 1 → 2 → 3 → 4 → 5\n"
     ]
    }
   ],
   "source": [
    "ll = LinkedList()\n",
    "ll.insert_end(1)\n",
    "ll.insert_end(2)\n",
    "ll.insert_end(3)\n",
    "ll.insert_end(4)\n",
    "ll.insert_end(5)\n",
    "\n",
    "ll.head.next.next.next.next.next = ll.head.next.next  \n",
    "\n",
    "print(\"Before loop removal:\", ll.display()) \n",
    "\n",
    "ll.remove_loop()\n",
    "\n",
    "print(\"After loop removal:\", ll.display()) "
   ]
  },
  {
   "cell_type": "markdown",
   "id": "39fcd8d6-438f-4025-84bd-382a0b5f8e9e",
   "metadata": {},
   "source": [
    "# TASK 3"
   ]
  },
  {
   "cell_type": "code",
   "execution_count": null,
   "id": "e2d95f86-d975-4e48-90c6-c0591c4478e0",
   "metadata": {},
   "outputs": [],
   "source": []
  }
 ],
 "metadata": {
  "kernelspec": {
   "display_name": "Python [conda env:base] *",
   "language": "python",
   "name": "conda-base-py"
  },
  "language_info": {
   "codemirror_mode": {
    "name": "ipython",
    "version": 3
   },
   "file_extension": ".py",
   "mimetype": "text/x-python",
   "name": "python",
   "nbconvert_exporter": "python",
   "pygments_lexer": "ipython3",
   "version": "3.12.7"
  }
 },
 "nbformat": 4,
 "nbformat_minor": 5
}
