{
 "cells": [
  {
   "cell_type": "markdown",
   "id": "c18bc54d-f2fc-4866-b88b-6068c2332aea",
   "metadata": {},
   "source": [
    "# Task 1"
   ]
  },
  {
   "cell_type": "code",
   "execution_count": null,
   "id": "69ce6201-e379-4e39-90f3-2a5a37f183a2",
   "metadata": {},
   "outputs": [],
   "source": [
    "as DynamicArray:\n",
    "    def __init__(self, capacity=2):\n",
    "        self.capacity = capacity\n",
    "        self.size = 0\n",
    "        self.array = [None] * self.capacity\n",
    "\n",
    "    def _resize(self):\n",
    "        new_capacity = self.capacity * 2\n",
    "        new_array = [None] * new_capacity\n",
    "        for i in range(self.size):\n",
    "            new_array[i] = self.array[i]\n",
    "        self.array = new_array\n",
    "        self.capacity = new_capacity\n",
    "\n",
    "    def insert_end(self, value):\n",
    "        if self.size == self.capacity:\n",
    "            self._resize()\n",
    "        self.array[self.size] = value\n",
    "        self.size += 1\n",
    "\n",
    "    def insert_at(self, index, value):\n",
    "        if index < 0 or index > self.size:\n",
    "            raise IndexError(\"Index out of bounds\")\n",
    "        if self.size == self.capacity:\n",
    "            self._resize()\n",
    "        for i in range(self.size, index, -1):\n",
    "            self.array[i] = self.array[i - 1]\n",
    "        self.array[index] = value\n",
    "        self.size += 1\n",
    "\n",
    "    def delete_at(self, index):\n",
    "        if index < 0 or index >= self.size:\n",
    "            raise IndexError(\"Index out of bounds\")\n",
    "        for i in range(index, self.size - 1):\n",
    "            self.array[i] = self.array[i + 1]\n",
    "        self.array[self.size - 1] = None\n",
    "        self.size -= 1\n",
    "\n",
    "    def search(self, value):\n",
    "        for i in range(self.size):\n",
    "            if self.array[i] == value:\n",
    "                return i\n",
    "        return -1\n",
    "\n",
    "    def display(self):\n",
    "        return [self.array[i] for i in range(self.size)]"
   ]
  },
  {
   "cell_type": "code",
   "execution_count": 7,
   "id": "fb07412f-146d-41fb-99f5-2be582feebad",
   "metadata": {},
   "outputs": [
    {
     "name": "stdout",
     "output_type": "stream",
     "text": [
      "After insertion: [10, 15, 20]\n",
      "After deletion: [10, 20]\n",
      "Searching 20: 1\n",
      "Searching 30: -1\n"
     ]
    }
   ],
   "source": [
    "arr = DynamicArray()\n",
    "arr.insert_end(10)\n",
    "arr.insert_end(20)\n",
    "arr.insert_at(1, 15)\n",
    "print(\"After insertion:\", arr.display())  \n",
    "\n",
    "arr.delete_at(1)\n",
    "print(\"After deletion:\", arr.display())  \n",
    "\n",
    "print(\"Searching 20:\", arr.search(20)) \n",
    "print(\"Searching 30:\", arr.search(30))  "
   ]
  },
  {
   "cell_type": "markdown",
   "id": "3b5ec429-b9fc-4a4e-97d4-126a677beb22",
   "metadata": {},
   "source": [
    "# Task 2"
   ]
  },
  {
   "cell_type": "code",
   "execution_count": null,
   "id": "e0c4a2e9-32ea-47fb-890d-0bcda8f69647",
   "metadata": {},
   "outputs": [],
   "source": [
    "def longest_substring_brute_force(s):\n",
    "    max_length = 0\n",
    "    longest_substr = \"\"\n",
    "\n",
    "    for i in range(len(s)):\n",
    "        seen = set()\n",
    "        current_str = \"\"\n",
    "        for j in range(i, len(s)):\n",
    "            if s[j] in seen:\n",
    "                break\n",
    "            seen.add(s[j])\n",
    "            current_str += s[j]\n",
    "            if len(current_str) > max_length:\n",
    "                max_length = len(current_str)\n",
    "                longest_substr = current_str\n",
    "\n",
    "    return longest_substr, max_length"
   ]
  },
  {
   "cell_type": "code",
   "execution_count": 9,
   "id": "13ff9753-8aaa-4e20-bbb8-141df4bde4bc",
   "metadata": {},
   "outputs": [],
   "source": [
    "def longest_substring_sliding_window(s):\n",
    "    seen = set()\n",
    "    left = 0\n",
    "    max_length = 0\n",
    "    longest_substr = \"\"\n",
    "\n",
    "    for right in range(len(s)):\n",
    "        while s[right] in seen:\n",
    "            seen.remove(s[left])\n",
    "            left += 1\n",
    "\n",
    "        seen.add(s[right])\n",
    "        if right - left + 1 > max_length:\n",
    "            max_length = right - left + 1\n",
    "            longest_substr = s[left:right+1]\n",
    "\n",
    "    return longest_substr, max_length"
   ]
  },
  {
   "cell_type": "code",
   "execution_count": 11,
   "id": "6cae50ac-11dc-47f0-8bd8-bd2e389de6b6",
   "metadata": {},
   "outputs": [
    {
     "name": "stdout",
     "output_type": "stream",
     "text": [
      "Brute Force: ('abc', 3)\n",
      "Brute Force Execution Time: 0.0\n",
      "Sliding Window: ('abc', 3)\n",
      "Sliding Window Execution Time: 0.0\n"
     ]
    }
   ],
   "source": [
    "import time\n",
    "\n",
    "s = \"abcabcbb\"\n",
    "\n",
    "start = time.time()\n",
    "print(\"Brute Force:\", longest_substring_brute_force(s))\n",
    "end = time.time()\n",
    "print(\"Brute Force Execution Time:\", end - start)\n",
    "\n",
    "start = time.time()\n",
    "print(\"Sliding Window:\", longest_substring_sliding_window(s))\n",
    "end = time.time()\n",
    "print(\"Sliding Window Execution Time:\", end - start)"
   ]
  },
  {
   "cell_type": "markdown",
   "id": "d73d21b4-4bbf-43a3-b3a9-f8095a950f43",
   "metadata": {},
   "source": [
    "# Task 3"
   ]
  },
  {
   "cell_type": "code",
   "execution_count": 18,
   "id": "ee0db1c5-8786-4a93-897b-36fbd32817a5",
   "metadata": {},
   "outputs": [
    {
     "name": "stdout",
     "output_type": "stream",
     "text": [
      "[7, 4, 1]\n",
      "[8, 5, 2]\n",
      "[9, 6, 3]\n"
     ]
    }
   ],
   "source": [
    "def rotate_matrix(matrix):\n",
    "    n = len(matrix)\n",
    "\n",
    "    for i in range(n):\n",
    "        for j in range(i + 1, n):\n",
    "            matrix[i][j], matrix[j][i] = matrix[j][i], matrix[i][j]\n",
    "\n",
    "   \n",
    "    for i in range(n):\n",
    "        matrix[i].reverse()\n",
    "\n",
    "matrix = [\n",
    "    [1, 2, 3],\n",
    "    [4, 5, 6],\n",
    "    [7, 8, 9]\n",
    "]\n",
    "rotate_matrix(matrix)\n",
    "for row in matrix:\n",
    "    print(row)"
   ]
  },
  {
   "cell_type": "code",
   "execution_count": null,
   "id": "0495f69e-5fb8-420d-ae28-b9b74b7e96bf",
   "metadata": {},
   "outputs": [],
   "source": []
  }
 ],
 "metadata": {
  "kernelspec": {
   "display_name": "Python [conda env:base] *",
   "language": "python",
   "name": "conda-base-py"
  },
  "language_info": {
   "codemirror_mode": {
    "name": "ipython",
    "version": 3
   },
   "file_extension": ".py",
   "mimetype": "text/x-python",
   "name": "python",
   "nbconvert_exporter": "python",
   "pygments_lexer": "ipython3",
   "version": "3.12.7"
  }
 },
 "nbformat": 4,
 "nbformat_minor": 5
}
