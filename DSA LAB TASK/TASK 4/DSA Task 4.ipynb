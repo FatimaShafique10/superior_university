{
 "cells": [
  {
   "cell_type": "markdown",
   "id": "cb1c5f2e-cee6-49ee-b880-cbf899147370",
   "metadata": {},
   "source": [
    "# TASK 1"
   ]
  },
  {
   "cell_type": "code",
   "execution_count": 2,
   "id": "4e066575-743b-4c36-b94c-0063b215e6ae",
   "metadata": {},
   "outputs": [],
   "source": [
    "class StackArray:\n",
    "    def __init__(self):\n",
    "        self.stack = []\n",
    "\n",
    "    def push(self, element):\n",
    "        self.stack.append(element)\n",
    "\n",
    "    def pop(self):\n",
    "        if self.is_empty():\n",
    "            return \"Stack is empty\"\n",
    "        return self.stack.pop()\n",
    "\n",
    "    def peek(self):\n",
    "        if self.is_empty():\n",
    "            return \"Stack is empty\"\n",
    "        return self.stack[-1]\n",
    "\n",
    "    def is_empty(self):\n",
    "        return len(self.stack) == 0\n",
    "\n",
    "    def size(self):\n",
    "        return len(self.stack)"
   ]
  },
  {
   "cell_type": "code",
   "execution_count": 4,
   "id": "91617018-be9c-4c44-8b8c-b5c857c3e292",
   "metadata": {},
   "outputs": [],
   "source": [
    "class Node:\n",
    "    def __init__(self, data):\n",
    "        self.data = data\n",
    "        self.next = None\n",
    "\n",
    "class StackLinkedList:\n",
    "    def __init__(self):\n",
    "        self.head = None\n",
    "        self._size = 0\n",
    "\n",
    "    def push(self, element):\n",
    "        new_node = Node(element)\n",
    "        new_node.next = self.head\n",
    "        self.head = new_node\n",
    "        self._size += 1\n",
    "\n",
    "    def pop(self):\n",
    "        if self.is_empty():\n",
    "            return \"Stack is empty\"\n",
    "        popped_data = self.head.data\n",
    "        self.head = self.head.next\n",
    "        self._size -= 1\n",
    "        return popped_data\n",
    "\n",
    "    def peek(self):\n",
    "        if self.is_empty():\n",
    "            return \"Stack is empty\"\n",
    "        return self.head.data\n",
    "\n",
    "    def is_empty(self):\n",
    "        return self.head is None\n",
    "\n",
    "    def size(self):\n",
    "        return self._size"
   ]
  },
  {
   "cell_type": "code",
   "execution_count": 6,
   "id": "02e70846-8f49-4f62-98ba-831c456c90fb",
   "metadata": {},
   "outputs": [
    {
     "name": "stdout",
     "output_type": "stream",
     "text": [
      "Testing Stack using Arrays:\n",
      "Top element: 20\n",
      "Pop: 20\n",
      "Stack size: 1\n",
      "\n",
      "Testing Stack using Linked Lists:\n",
      "Top element: 40\n",
      "Pop: 40\n",
      "Stack size: 1\n"
     ]
    }
   ],
   "source": [
    "print(\"Testing Stack using Arrays:\")\n",
    "stack_arr = StackArray()\n",
    "stack_arr.push(10)\n",
    "stack_arr.push(20)\n",
    "print(\"Top element:\", stack_arr.peek()) \n",
    "print(\"Pop:\", stack_arr.pop())           \n",
    "print(\"Stack size:\", stack_arr.size())   \n",
    "\n",
    "\n",
    "print(\"\\nTesting Stack using Linked Lists:\")\n",
    "stack_ll = StackLinkedList()\n",
    "stack_ll.push(30)\n",
    "stack_ll.push(40)\n",
    "print(\"Top element:\", stack_ll.peek())  \n",
    "print(\"Pop:\", stack_ll.pop())          \n",
    "print(\"Stack size:\", stack_ll.size())  "
   ]
  },
  {
   "cell_type": "markdown",
   "id": "8ed26e3f-3006-4a48-815c-7484767ad70b",
   "metadata": {},
   "source": [
    "# TASK 2"
   ]
  },
  {
   "cell_type": "code",
   "execution_count": null,
   "id": "b28de1e0-8e93-4a16-b228-1c9f04f9682f",
   "metadata": {},
   "outputs": [],
   "source": []
  }
 ],
 "metadata": {
  "kernelspec": {
   "display_name": "Python [conda env:base] *",
   "language": "python",
   "name": "conda-base-py"
  },
  "language_info": {
   "codemirror_mode": {
    "name": "ipython",
    "version": 3
   },
   "file_extension": ".py",
   "mimetype": "text/x-python",
   "name": "python",
   "nbconvert_exporter": "python",
   "pygments_lexer": "ipython3",
   "version": "3.12.7"
  }
 },
 "nbformat": 4,
 "nbformat_minor": 5
}
