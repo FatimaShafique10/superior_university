{
 "cells": [
  {
   "cell_type": "markdown",
   "id": "90a1cc94-58ba-4349-b6aa-6817c74d51f2",
   "metadata": {},
   "source": [
    "# Task 1"
   ]
  },
  {
   "cell_type": "code",
   "execution_count": 2,
   "id": "1810dd00-37d7-404e-901f-4272d5db12f6",
   "metadata": {},
   "outputs": [
    {
     "name": "stdout",
     "output_type": "stream",
     "text": [
      "55\n"
     ]
    }
   ],
   "source": [
    "def fib_memoization(n, memo={}):\n",
    "    if n in memo:\n",
    "        return memo[n]\n",
    "    if n <= 1:\n",
    "        return n\n",
    "    \n",
    "    memo[n] = fib_memoization(n - 1, memo) + fib_memoization(n - 2, memo)\n",
    "    return memo[n]\n",
    "\n",
    "\n",
    "print(fib_memoization(10)) "
   ]
  },
  {
   "cell_type": "code",
   "execution_count": 4,
   "id": "f505dccf-a200-49c2-87cf-18522c0f1a79",
   "metadata": {},
   "outputs": [
    {
     "name": "stdout",
     "output_type": "stream",
     "text": [
      "55\n"
     ]
    }
   ],
   "source": [
    "def fib_tabulation(n):\n",
    "    if n <= 1:\n",
    "        return n\n",
    "\n",
    "    dp = [0, 1] + [0] * (n - 1)\n",
    "    \n",
    "    for i in range(2, n + 1):\n",
    "        dp[i] = dp[i - 1] + dp[i - 2]\n",
    "\n",
    "    return dp[n]\n",
    "\n",
    "\n",
    "print(fib_tabulation(10)) "
   ]
  },
  {
   "cell_type": "code",
   "execution_count": 6,
   "id": "e17bf316-4f60-4e74-bf52-6f79dd61873e",
   "metadata": {},
   "outputs": [
    {
     "name": "stdout",
     "output_type": "stream",
     "text": [
      "55\n"
     ]
    }
   ],
   "source": [
    "def fib_optimized(n):\n",
    "    if n <= 1:\n",
    "        return n\n",
    "\n",
    "    a, b = 0, 1\n",
    "    for _ in range(2, n + 1):\n",
    "        a, b = b, a + b\n",
    "\n",
    "    return b\n",
    "\n",
    "print(fib_optimized(10))  "
   ]
  },
  {
   "cell_type": "markdown",
   "id": "844828dd-46da-4331-bb9c-eafb1bcaa69e",
   "metadata": {},
   "source": [
    "# Task 2"
   ]
  },
  {
   "cell_type": "code",
   "execution_count": 9,
   "id": "efaaab0f-e896-49c9-b9e6-59b0db6ca880",
   "metadata": {},
   "outputs": [
    {
     "name": "stdout",
     "output_type": "stream",
     "text": [
      "GTAB\n"
     ]
    }
   ],
   "source": [
    "def lcs_recursive_memo(X, Y, m, n, memo):\n",
    "    if m == 0 or n == 0:\n",
    "        return \"\"\n",
    "    if (m, n) in memo:\n",
    "        return memo[(m, n)]\n",
    "\n",
    "    if X[m - 1] == Y[n - 1]:\n",
    "        memo[(m, n)] = lcs_recursive_memo(X, Y, m - 1, n - 1, memo) + X[m - 1]\n",
    "    else:\n",
    "        option1 = lcs_recursive_memo(X, Y, m, n - 1, memo)\n",
    "        option2 = lcs_recursive_memo(X, Y, m - 1, n, memo)\n",
    "        memo[(m, n)] = option1 if len(option1) > len(option2) else option2\n",
    "\n",
    "    return memo[(m, n)]\n",
    "\n",
    "def lcs_memoization(X, Y):\n",
    "    return lcs_recursive_memo(X, Y, len(X), len(Y), {})\n",
    "\n",
    "\n",
    "print(lcs_memoization(\"AGGTAB\", \"GXTXAYB\"))  "
   ]
  },
  {
   "cell_type": "code",
   "execution_count": 11,
   "id": "bd92a780-8ac5-435e-bf1b-5976b8f0cc6e",
   "metadata": {},
   "outputs": [
    {
     "name": "stdout",
     "output_type": "stream",
     "text": [
      "GTAB\n"
     ]
    }
   ],
   "source": [
    "def lcs_recursive_memo(X, Y, m, n, memo):\n",
    "    if m == 0 or n == 0:\n",
    "        return \"\"\n",
    "    if (m, n) in memo:\n",
    "        return memo[(m, n)]\n",
    "\n",
    "    if X[m - 1] == Y[n - 1]:\n",
    "        memo[(m, n)] = lcs_recursive_memo(X, Y, m - 1, n - 1, memo) + X[m - 1]\n",
    "    else:\n",
    "        option1 = lcs_recursive_memo(X, Y, m, n - 1, memo)\n",
    "        option2 = lcs_recursive_memo(X, Y, m - 1, n, memo)\n",
    "        memo[(m, n)] = option1 if len(option1) > len(option2) else option2\n",
    "\n",
    "    return memo[(m, n)]\n",
    "\n",
    "def lcs_memoization(X, Y):\n",
    "    return lcs_recursive_memo(X, Y, len(X), len(Y), {})\n",
    "\n",
    "\n",
    "print(lcs_memoization(\"AGGTAB\", \"GXTXAYB\"))  "
   ]
  },
  {
   "cell_type": "markdown",
   "id": "1cb2909d-8fa2-4fce-b50d-f72f79737bfa",
   "metadata": {},
   "source": [
    "# Task 3"
   ]
  },
  {
   "cell_type": "code",
   "execution_count": 14,
   "id": "17bf13b9-5b6a-4c32-b772-1453d774f2ee",
   "metadata": {},
   "outputs": [
    {
     "name": "stdout",
     "output_type": "stream",
     "text": [
      "7\n"
     ]
    }
   ],
   "source": [
    "def knapsack(weights, values, capacity):\n",
    "    n = len(weights)\n",
    "    dp = [[0] * (capacity + 1) for _ in range(n + 1)]\n",
    "\n",
    "    for i in range(1, n + 1):\n",
    "        for w in range(1, capacity + 1):\n",
    "            if weights[i - 1] <= w:\n",
    "                dp[i][w] = max(values[i - 1] + dp[i - 1][w - weights[i - 1]], dp[i - 1][w])\n",
    "            else:\n",
    "                dp[i][w] = dp[i - 1][w]\n",
    "\n",
    "    return dp[n][capacity]\n",
    "\n",
    "\n",
    "weights = [2, 3, 4, 5]\n",
    "values = [3, 4, 5, 6]\n",
    "capacity = 5\n",
    "print(knapsack(weights, values, capacity)) "
   ]
  },
  {
   "cell_type": "code",
   "execution_count": 16,
   "id": "ddf5c389-e26d-4e67-b495-6a0106643da4",
   "metadata": {},
   "outputs": [
    {
     "name": "stdout",
     "output_type": "stream",
     "text": [
      "7\n"
     ]
    }
   ],
   "source": [
    "def knapsack_optimized(weights, values, capacity):\n",
    "    n = len(weights)\n",
    "    dp = [0] * (capacity + 1)\n",
    "\n",
    "    for i in range(n):\n",
    "        for w in range(capacity, weights[i] - 1, -1):\n",
    "            dp[w] = max(dp[w], values[i] + dp[w - weights[i]])\n",
    "\n",
    "    return dp[capacity]\n",
    "\n",
    "print(knapsack_optimized(weights, values, capacity)) "
   ]
  },
  {
   "cell_type": "code",
   "execution_count": null,
   "id": "f94676a8-93c7-4add-a15b-1dc1146cced4",
   "metadata": {},
   "outputs": [],
   "source": []
  }
 ],
 "metadata": {
  "kernelspec": {
   "display_name": "Python [conda env:base] *",
   "language": "python",
   "name": "conda-base-py"
  },
  "language_info": {
   "codemirror_mode": {
    "name": "ipython",
    "version": 3
   },
   "file_extension": ".py",
   "mimetype": "text/x-python",
   "name": "python",
   "nbconvert_exporter": "python",
   "pygments_lexer": "ipython3",
   "version": "3.12.7"
  }
 },
 "nbformat": 4,
 "nbformat_minor": 5
}
