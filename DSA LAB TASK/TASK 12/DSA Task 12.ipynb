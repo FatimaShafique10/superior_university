{
 "cells": [
  {
   "cell_type": "markdown",
   "id": "537bcb07-1386-4458-92fb-8f12b338d105",
   "metadata": {},
   "source": [
    "# Task 1"
   ]
  },
  {
   "cell_type": "code",
   "execution_count": 2,
   "id": "43c06c53-9bc2-475a-bfb9-a9890e000a89",
   "metadata": {},
   "outputs": [
    {
     "name": "stdout",
     "output_type": "stream",
     "text": [
      "Adjacency List:\n",
      "{'A': ['B'], 'B': ['A']}\n",
      "Adjacency Matrix:\n",
      "   A B\n",
      "A [0, 1]\n",
      "B [1, 0]\n"
     ]
    }
   ],
   "source": [
    "class Graph:\n",
    "    def __init__(self, directed=False):\n",
    "        self.directed = directed\n",
    "        self.adj_list = {}\n",
    "        self.adj_matrix = []\n",
    "        self.vertices = []\n",
    "\n",
    "    def add_vertex(self, vertex):\n",
    "        if vertex not in self.adj_list:\n",
    "            self.adj_list[vertex] = []\n",
    "            self.vertices.append(vertex)\n",
    "\n",
    "            \n",
    "            size = len(self.vertices)\n",
    "            self.adj_matrix = [[0] * size for _ in range(size)]\n",
    "\n",
    "    def add_edge(self, src, dest):\n",
    "        if src in self.adj_list and dest in self.adj_list:\n",
    "            self.adj_list[src].append(dest)\n",
    "            if not self.directed:\n",
    "                self.adj_list[dest].append(src)\n",
    "\n",
    "            \n",
    "            src_index = self.vertices.index(src)\n",
    "            dest_index = self.vertices.index(dest)\n",
    "            self.adj_matrix[src_index][dest_index] = 1\n",
    "            if not self.directed:\n",
    "                self.adj_matrix[dest_index][src_index] = 1\n",
    "\n",
    "    def display_adj_list(self):\n",
    "        print(\"Adjacency List:\")\n",
    "        print(self.adj_list)\n",
    "\n",
    "    def display_adj_matrix(self):\n",
    "        print(\"Adjacency Matrix:\")\n",
    "        print(\"  \", \" \".join(self.vertices))\n",
    "        for i, row in enumerate(self.adj_matrix):\n",
    "            print(self.vertices[i], row)\n",
    "g = Graph(directed=False)\n",
    "g.add_vertex(\"A\")\n",
    "g.add_vertex(\"B\")\n",
    "g.add_edge(\"A\", \"B\")\n",
    "\n",
    "g.display_adj_list()\n",
    "g.display_adj_matrix()"
   ]
  },
  {
   "cell_type": "markdown",
   "id": "6022350c-e78c-4884-a151-c71b84d2a370",
   "metadata": {},
   "source": [
    "# Task 2"
   ]
  },
  {
   "cell_type": "code",
   "execution_count": 5,
   "id": "b869c5cf-4b80-4d43-8058-20deeb072189",
   "metadata": {},
   "outputs": [
    {
     "name": "stdout",
     "output_type": "stream",
     "text": [
      "BFS: [0, 1, 2, 3]\n"
     ]
    }
   ],
   "source": [
    "from collections import deque\n",
    "\n",
    "class Graph:\n",
    "    def __init__(self):\n",
    "        self.adj_list = {}\n",
    "\n",
    "    def add_edge(self, src, dest):\n",
    "        if src not in self.adj_list:\n",
    "            self.adj_list[src] = []\n",
    "        if dest not in self.adj_list:\n",
    "            self.adj_list[dest] = []\n",
    "        self.adj_list[src].append(dest)\n",
    "        self.adj_list[dest].append(src) \n",
    "\n",
    "    def bfs(self, start):\n",
    "        visited = set()\n",
    "        queue = deque([start])\n",
    "        result = []\n",
    "\n",
    "        while queue:\n",
    "            vertex = queue.popleft()\n",
    "            if vertex not in visited:\n",
    "                visited.add(vertex)\n",
    "                result.append(vertex)\n",
    "                queue.extend(neighbor for neighbor in self.adj_list[vertex] if neighbor not in visited)\n",
    "\n",
    "        return result\n",
    "\n",
    "g = Graph()\n",
    "g.add_edge(0, 1)\n",
    "g.add_edge(0, 2)\n",
    "g.add_edge(1, 3)\n",
    "g.add_edge(2, 3)\n",
    "\n",
    "print(\"BFS:\", g.bfs(0)) "
   ]
  },
  {
   "cell_type": "markdown",
   "id": "8a0945a9-2f0d-4246-a599-f270bb55ff4d",
   "metadata": {},
   "source": [
    "# Task 3"
   ]
  },
  {
   "cell_type": "code",
   "execution_count": 8,
   "id": "a1a3f42d-19b8-4422-9257-9c177e87481b",
   "metadata": {},
   "outputs": [
    {
     "name": "stdout",
     "output_type": "stream",
     "text": [
      "{'A': 0, 'B': 3, 'C': 1, 'D': 4}\n"
     ]
    }
   ],
   "source": [
    "import heapq\n",
    "\n",
    "class Graph:\n",
    "    def __init__(self):\n",
    "        self.adj_list = {}\n",
    "\n",
    "    def add_edge(self, src, dest, weight):\n",
    "        if src not in self.adj_list:\n",
    "            self.adj_list[src] = []\n",
    "        if dest not in self.adj_list:\n",
    "            self.adj_list[dest] = []\n",
    "        self.adj_list[src].append((dest, weight))\n",
    "        self.adj_list[dest].append((src, weight)) \n",
    "\n",
    "    def dijkstra(self, start):\n",
    "        distances = {node: float('inf') for node in self.adj_list}\n",
    "        distances[start] = 0\n",
    "        priority_queue = [(0, start)] \n",
    "        visited = set()\n",
    "\n",
    "        while priority_queue:\n",
    "            current_distance, current_node = heapq.heappop(priority_queue)\n",
    "\n",
    "            if current_node in visited:\n",
    "                continue\n",
    "            visited.add(current_node)\n",
    "\n",
    "            for neighbor, weight in self.adj_list[current_node]:\n",
    "                distance = current_distance + weight\n",
    "                if distance < distances[neighbor]:\n",
    "                    distances[neighbor] = distance\n",
    "                    heapq.heappush(priority_queue, (distance, neighbor))\n",
    "\n",
    "        return distances\n",
    "\n",
    "g = Graph()\n",
    "g.add_edge(\"A\", \"B\", 4)\n",
    "g.add_edge(\"A\", \"C\", 1)\n",
    "g.add_edge(\"C\", \"B\", 2)\n",
    "g.add_edge(\"B\", \"D\", 1)\n",
    "\n",
    "print(g.dijkstra(\"A\")) "
   ]
  },
  {
   "cell_type": "code",
   "execution_count": null,
   "id": "5f606b8e-426e-42c1-8926-d74943099aa8",
   "metadata": {},
   "outputs": [],
   "source": []
  }
 ],
 "metadata": {
  "kernelspec": {
   "display_name": "Python [conda env:base] *",
   "language": "python",
   "name": "conda-base-py"
  },
  "language_info": {
   "codemirror_mode": {
    "name": "ipython",
    "version": 3
   },
   "file_extension": ".py",
   "mimetype": "text/x-python",
   "name": "python",
   "nbconvert_exporter": "python",
   "pygments_lexer": "ipython3",
   "version": "3.12.7"
  }
 },
 "nbformat": 4,
 "nbformat_minor": 5
}
